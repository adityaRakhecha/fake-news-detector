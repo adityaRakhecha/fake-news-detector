{
  "nbformat": 4,
  "nbformat_minor": 0,
  "metadata": {
    "colab": {
      "name": "faceDetection.ipynb",
      "version": "0.3.2",
      "provenance": []
    },
    "kernelspec": {
      "name": "python3",
      "display_name": "Python 3"
    },
    "accelerator": "GPU"
  },
  "cells": [
    {
      "cell_type": "code",
      "metadata": {
        "id": "Qt-gqVTMF-Sl",
        "colab_type": "code",
        "colab": {}
      },
      "source": [
        "# import necessary packages\n",
        "import pandas as pd\n",
        "import numpy as np\n",
        "\n",
        "import seaborn as sns\n",
        "\n",
        "import nltk\n",
        "from nltk.stem import PorterStemmer #for stemming\n",
        "from nltk.tokenize import word_tokenize\n",
        "import nltk.corpus\n",
        "\n",
        "from sklearn.feature_extraction.text import CountVectorizer\n",
        "from sklearn.feature_extraction.text import TfidfTransformer\n",
        "from sklearn.feature_extraction.text import TfidfVectorizer\n",
        "from sklearn.pipeline import Pipeline\n",
        "from sklearn.linear_model import  LogisticRegression\n",
        "from sklearn.linear_model import SGDClassifier\n",
        "from sklearn.naive_bayes import MultinomialNB\n",
        "from sklearn.ensemble import RandomForestClassifier\n",
        "from sklearn.model_selection import KFold\n",
        "from sklearn.model_selection import GridSearchCV\n",
        "from sklearn.model_selection import learning_curve\n",
        "from sklearn.metrics import confusion_matrix, f1_score, classification_report\n",
        "from sklearn.metrics import precision_recall_curve\n",
        "from sklearn.metrics import average_precision_score\n",
        "from sklearn import svm\n",
        "\n",
        "from gensim.models.word2vec import Word2Vec\n",
        "\n",
        "import matplotlib.pyplot as plt\n",
        "import pickle\n",
        "\n",
        "import warnings\n",
        "warnings.filterwarnings(\"ignore\")"
      ],
      "execution_count": 0,
      "outputs": []
    },
    {
      "cell_type": "code",
      "metadata": {
        "id": "74k_E_WzGEjA",
        "colab_type": "code",
        "colab": {}
      },
      "source": [
        "# load all three datasets\n",
        "trainFile = 'train2.tsv'\n",
        "testFile = 'test2.tsv'\n",
        "valFile = 'val2.tsv'\n",
        "\n",
        "# add header to all three datasets\n",
        "traindata = pd.read_csv(trainFile, delimiter='\\t', encoding='utf-8', names=\n",
        "                        [\"json ID\", \"label\", \"statement\", \"subject\", \"speaker\", \"job title\", \"state\", \"party\",\n",
        "                         \"barely true\", \"false\", \"half true\", \"mostly true\", \"pants on fire\", \"los\", \"justification\"])\n",
        "traindata.name = 'Training Data'\n",
        "\n",
        "testdata = pd.read_csv(testFile, delimiter='\\t', encoding='utf-8', names=\n",
        "                        [\"json ID\", \"label\", \"statement\", \"subject\", \"speaker\", \"job title\", \"state\", \"party\",\n",
        "                         \"barely true\", \"false\", \"half true\", \"mostly true\", \"pants on fire\", \"los\", \"justification\"])\n",
        "testdata.name = 'Testing Data'\n",
        "\n",
        "valdata = pd.read_csv(valFile, delimiter='\\t', encoding='utf-8', names=\n",
        "                        [\"json ID\", \"label\", \"statement\", \"subject\", \"speaker\", \"job title\", \"state\", \"party\",\n",
        "                         \"barely true\", \"false\", \"half true\", \"mostly true\", \"pants on fire\", \"los\", \"justification\"])\n",
        "valdata.name = 'Validation Data'"
      ],
      "execution_count": 0,
      "outputs": []
    },
    {
      "cell_type": "code",
      "metadata": {
        "id": "cN2uCpKxb0Lu",
        "colab_type": "code",
        "colab": {
          "base_uri": "https://localhost:8080/",
          "height": 69
        },
        "outputId": "1afe9ac4-3487-4544-f45b-025f21b4d560"
      },
      "source": [
        "print(traindata.shape)\n",
        "print(testdata.shape)\n",
        "print(valdata.shape)"
      ],
      "execution_count": 26,
      "outputs": [
        {
          "output_type": "stream",
          "text": [
            "(10240, 15)\n",
            "(1267, 15)\n",
            "(1284, 15)\n"
          ],
          "name": "stdout"
        }
      ]
    },
    {
      "cell_type": "code",
      "metadata": {
        "id": "9EqRu-P7HMBi",
        "colab_type": "code",
        "colab": {}
      },
      "source": [
        "# traindata.head()"
      ],
      "execution_count": 0,
      "outputs": []
    },
    {
      "cell_type": "code",
      "metadata": {
        "id": "vlK0M-NbHCRf",
        "colab_type": "code",
        "colab": {}
      },
      "source": [
        "# function to get shape of each dataset\n",
        "def cal_size(dataset):\n",
        "  print(dataset.shape)\n",
        "\n",
        "# cal_size(traindata)\n",
        "# cal_size(valdata)\n",
        "# cal_size(testdata)"
      ],
      "execution_count": 0,
      "outputs": []
    },
    {
      "cell_type": "code",
      "metadata": {
        "id": "vZ8zd0clL0Pf",
        "colab_type": "code",
        "colab": {}
      },
      "source": [
        "# function to check distribution of labels\n",
        "def check_dist(dataset):\n",
        "  sns.countplot(x='label', data=traindata, palette='hls')"
      ],
      "execution_count": 0,
      "outputs": []
    },
    {
      "cell_type": "code",
      "metadata": {
        "id": "WRWrmc6NUsHt",
        "colab_type": "code",
        "colab": {}
      },
      "source": [
        "asd = pd.DataFrame(traindata['label'])"
      ],
      "execution_count": 0,
      "outputs": []
    },
    {
      "cell_type": "code",
      "metadata": {
        "id": "gO1yyGRzRC2q",
        "colab_type": "code",
        "colab": {
          "base_uri": "https://localhost:8080/",
          "height": 283
        },
        "outputId": "2633ce1e-c44e-4d02-e7b3-92d32dc1d5bf"
      },
      "source": [
        "check_dist(traindata)"
      ],
      "execution_count": 31,
      "outputs": [
        {
          "output_type": "display_data",
          "data": {
            "image/png": "[encoded data removed]",
            "text/plain": [
              "<Figure size 432x288 with 1 Axes>"
            ]
          },
          "metadata": {
            "tags": []
          }
        }
      ]
    },
    {
      "cell_type": "code",
      "metadata": {
        "id": "4Z4dVcYKRhcK",
        "colab_type": "code",
        "colab": {
          "base_uri": "https://localhost:8080/",
          "height": 283
        },
        "outputId": "c4165466-99b3-41c9-da92-49e85998726e"
      },
      "source": [
        "check_dist(valdata)"
      ],
      "execution_count": 32,
      "outputs": [
        {
          "output_type": "display_data",
          "data": {
            "image/png": "[encoded data removed]",
            "text/plain": [
              "<Figure size 432x288 with 1 Axes>"
            ]
          },
          "metadata": {
            "tags": []
          }
        }
      ]
    },
    {
      "cell_type": "code",
      "metadata": {
        "id": "U0We55VARtVQ",
        "colab_type": "code",
        "colab": {
          "base_uri": "https://localhost:8080/",
          "height": 283
        },
        "outputId": "ac058836-ba14-443a-a635-34eabfa58ac0"
      },
      "source": [
        "check_dist(testdata)"
      ],
      "execution_count": 33,
      "outputs": [
        {
          "output_type": "display_data",
          "data": {
            "image/png": "[encoded data removed]",
            "text/plain": [
              "<Figure size 432x288 with 1 Axes>"
            ]
          },
          "metadata": {
            "tags": []
          }
        }
      ]
    },
    {
      "cell_type": "code",
      "metadata": {
        "id": "HZpfEFQ0RvC3",
        "colab_type": "code",
        "colab": {
          "base_uri": "https://localhost:8080/",
          "height": 121
        },
        "outputId": "2d6099c9-d987-430f-9693-5724aee0354a"
      },
      "source": [
        "# check for missing labels\n",
        "def check_missLabel(dataset):\n",
        "#   dataset.info()\n",
        "  print(\"Missing label values in {} are {}\".format(dataset.name,dataset['label'].isnull().sum()))\n",
        "  print(\"----------------------------------------------------------------\")\n",
        "check_missLabel(traindata)\n",
        "check_missLabel(valdata)\n",
        "check_missLabel(testdata)"
      ],
      "execution_count": 34,
      "outputs": [
        {
          "output_type": "stream",
          "text": [
            "Missing label values in Training Data are 0\n",
            "----------------------------------------------------------------\n",
            "Missing label values in Validation Data are 0\n",
            "----------------------------------------------------------------\n",
            "Missing label values in Testing Data are 0\n",
            "----------------------------------------------------------------\n"
          ],
          "name": "stdout"
        }
      ]
    },
    {
      "cell_type": "code",
      "metadata": {
        "id": "dvZ3z2oZlk4y",
        "colab_type": "code",
        "colab": {}
      },
      "source": [
        "# concatenate validation data with training data\n",
        "traindata = pd.concat([valdata])"
      ],
      "execution_count": 0,
      "outputs": []
    },
    {
      "cell_type": "code",
      "metadata": {
        "id": "07lZY-0VWRWq",
        "colab_type": "code",
        "colab": {}
      },
      "source": [
        "# stemming\n",
        "# def stemming(tokens, stemmer):\n",
        "#   stemmed = []\n",
        "#   for token in tokens:\n",
        "#     stemmed.append(stemmer.stem(token))\n",
        "#   return stemmed\n",
        "\n",
        "# def process_dataset(dataset, stopword=True):\n",
        "#   tokens = [x.lower() for x in dataset]\n",
        "#   stemmed_tokens = stemming(tokens, eng_stemmer)\n",
        "#   stemmed_tokens = [x for x in stemmed_tokens if x not in stopwords]\n",
        "#   return stemmed_tokens"
      ],
      "execution_count": 0,
      "outputs": []
    },
    {
      "cell_type": "code",
      "metadata": {
        "id": "RSHjb6QXMGW4",
        "colab_type": "code",
        "colab": {}
      },
      "source": [
        "# merge 'statement' and 'justification' columns\n",
        "traindata['new'] = traindata['statement'].map(str) + traindata['justification'].map(str)\n",
        "# testdata['new'] = testdata['statement'].map(str) + testdata['justification'].map(str)"
      ],
      "execution_count": 0,
      "outputs": []
    },
    {
      "cell_type": "code",
      "metadata": {
        "id": "LEHhYizeMXR0",
        "colab_type": "code",
        "colab": {
          "base_uri": "https://localhost:8080/",
          "height": 72
        },
        "outputId": "716920c5-7bc1-474f-ad06-c807f58d2b58"
      },
      "source": [
        "traindata['new'].iloc[0:1].values"
      ],
      "execution_count": 38,
      "outputs": [
        {
          "output_type": "execute_result",
          "data": {
            "text/plain": [
              "array(['We have less Americans working now than in the 70s.However, Hartzler was talking about the entire decade of the 70s. The first eight years of the decade, 1970 through 1977, have a lower employment-population ratio and a lower labor force participation rate than 2015.'],\n",
              "      dtype=object)"
            ]
          },
          "metadata": {
            "tags": []
          },
          "execution_count": 38
        }
      ]
    },
    {
      "cell_type": "markdown",
      "metadata": {
        "id": "Sxs5NCvpeEsB",
        "colab_type": "text"
      },
      "source": [
        "**Feature extraction (vectorization) :** Build Bag-Of-Words model using CountVectorizer and TfidfVectorizer. \n",
        "\n",
        "\n",
        "\n",
        "\n"
      ]
    },
    {
      "cell_type": "code",
      "metadata": {
        "id": "1pKV1sfzhoBB",
        "colab_type": "code",
        "colab": {
          "base_uri": "https://localhost:8080/",
          "height": 54
        },
        "outputId": "3cccf36c-8f3c-4e47-9ce9-b7a4123e3f6b"
      },
      "source": [
        "# Convert text to word count vectors with CountVectorizer\n",
        "# create the transform\n",
        "cvec = CountVectorizer()\n",
        "\n",
        "# tokenize, build vocab and encode training data\n",
        "traindata_cvec = cvec.fit_transform(traindata['new'].values)\n",
        "\n",
        "# summarize\n",
        "print(cvec.vocabulary_)\n",
        "# print(cvec.get_feature_names())"
      ],
      "execution_count": 39,
      "outputs": [
        {
          "output_type": "stream",
          "text": [
            "{'we': 9447, 'have': 4160, 'less': 5141, 'americans': 710, 'working': 9605, 'now': 5977, 'than': 8725, 'in': 4483, 'the': 8739, '70s': 323, 'however': 4354, 'hartzler': 4146, 'was': 9419, 'talking': 8619, 'about': 413, 'entire': 3203, 'decade': 2501, 'of': 6051, 'first': 3619, 'eight': 3073, 'years': 9645, '1970': 104, 'through': 8802, '1977': 110, 'lower': 5297, 'employment': 3143, 'population': 6653, 'ratio': 7087, 'and': 733, 'labor': 4985, 'force': 3704, 'participation': 6338, 'rate': 7079, '2015': 153, 'when': 9510, 'obama': 6006, 'sworn': 8584, 'into': 4684, 'office': 6063, 'he': 4176, 'did': 2715, 'not': 5961, 'use': 9224, 'holy': 4301, 'bible': 1214, 'but': 1499, 'instead': 4631, 'kuran': 4975, 'their': 8745, 'equivalency': 3235, 'to': 8836, 'our': 6175, 'very': 9291, 'different': 2724, 'beliefs': 1167, 'ellison': 3108, 'used': 9225, 'koran': 4960, 'that': 8730, 'once': 6098, 'belonged': 1175, 'thomas': 8780, 'jefferson': 4801, 'borrowing': 1344, 'rare': 7076, 'book': 1325, 'from': 3799, 'library': 5166, 'congress': 2104, 'it': 4761, 'goes': 3957, 'without': 9576, 'saying': 7703, 'is': 4736, 'update': 9196, 'barack': 1085, 'resigned': 7395, 'trinity': 8972, 'united': 9146, 'church': 1800, 'christ': 1788, 'on': 6096, 'may': 5462, '31': 205, '2008': 144, 'after': 579, 'pastor': 6366, 'jeremiah': 4807, 'wright': 9623, 'jr': 4846, 'made': 5323, 'controversial': 2222, 'remarks': 7296, 'foreign': 3714, 'policy': 6622, 'other': 6170, 'matters': 5454, 'says': 7704, 'having': 4165, 'organizations': 6161, 'parading': 6314, 'as': 891, 'being': 1165, 'social': 8109, 'welfare': 9487, 'then': 8750, 'involved': 4715, 'political': 6626, 'combat': 1950, 'harkens': 4136, 'back': 1025, 'why': 9532, 'statute': 8311, 'hundred': 4369, 'ago': 593, 'said': 7654, 'they': 8762, 'were': 9494, 'prohibited': 6856, 'two': 9039, 'professors': 6844, 'who': 9524, 'say': 7701, 'law': 5062, 'silent': 8003, 'activity': 484, 'even': 3276, 'if': 4412, 'one': 6099, 'them': 8746, 'sees': 7809, 'an': 725, 'implicit': 4459, 'prohibition': 6857, 'plain': 6566, 'reading': 7104, 'states': 8298, 'no': 5922, 'explicit': 3384, 'ban': 1069, 'blumenauer': 1288, 'there': 8754, '1913': 81, 'act': 474, 'for': 3701, 'whatever': 9505, 'reasons': 7122, 'nearly': 5854, 'half': 4097, 'oregons': 6156, 'children': 1770, 'are': 849, 'poor': 6645, 'fact': 3441, 'you': 9659, 'federal': 3529, 'definitions': 2555, 'poverty': 6695, 'quarter': 6999, 'another': 764, 'low': 5296, 'income': 4505, 'experts': 3376, 'tell': 8679, 'us': 9217, 'families': 3476, 'described': 2647, 'still': 8348, 'struggle': 8426, 'meet': 5531, 'basic': 1110, 'needs': 5865, 'all': 658, 'intents': 4662, 'purposes': 6970, 'qualify': 6990, 'be': 1127, 'francesconi': 3764, 'referencing': 7197, 'report': 7345, 'such': 8478, 'his': 4271, 'statement': 8296, 'leaves': 5101, 'out': 6178, 'important': 4466, 'details': 2675, 'too': 8854, 'think': 8771, 'would': 9618, 'been': 1150, 'better': 1205, 'attacks': 951, 'by': 1506, 'republicans': 7362, 'various': 9262, 'programs': 6851, 'economic': 3033, 'stimulus': 8351, 'plan': 6570, 'stimulative': 8350, 'add': 493, 'stuff': 8437, 'up': 9195, 'accounts': 447, 'percent': 6441, 'overall': 6210, 'package': 6276, 'point': 6613, 'some': 8135, 'perspective': 6486, 'order': 6148, 'legislators': 5125, 'quibbling': 7013, 'over': 6209, 'relatively': 7272, 'small': 8087, 'portion': 6662, 'spending': 8210, 'yes': 9648, 'most': 5745, 'publicized': 6943, 'projects': 6864, 'right': 7507, 'many': 5389, 'large': 5030, 'percentages': 6443, 'stimulate': 8349, 'economy': 3040, 'waste': 9427, 'taxpayer': 8648, 'money': 5706, 'armed': 868, 'civilians': 1827, 'stop': 8365, 'mass': 5429, 'shootings': 7944, 'with': 9570, 'guns': 4078, 'average': 1003, 'people': 6435, 'die': 2718, 'otherwise': 6172, '18': 67, 'rubens': 7604, 'comprehensive': 2039, 'studies': 8433, 'recent': 7142, 'active': 479, 'shooter': 7942, 'events': 3279, 'suggests': 8491, 'deaths': 2490, 'police': 6619, 'far': 3484, 'high': 4248, 'study': 8434, 'more': 5727, '100': 15, 'incidents': 4499, 'determined': 2683, 'median': 5521, 'number': 5992, 'killed': 4928, 'or': 6146, 'wounded': 9622, 'situations': 8030, 'five': 3626, 'documented': 2869, 'only': 6104, 'nine': 5915, 'dozens': 2932, 'which': 9515, 'shot': 7959, '14': 46, 'higher': 4249, 'conclusions': 2069, 'civilian': 1826, 'takes': 8614, 'action': 477, 'also': 683, 'problematic': 6819, 'because': 1138, 'limited': 5202, 'data': 2459, 'exists': 3351, 'author': 986, 'agrees': 601, 'its': 4766, 'logical': 5257, 'assume': 928, 'casualties': 1630, 'intervene': 4679, 'before': 1152, 'arrive': 879, 'research': 7380, 'few': 3558, 'actually': 488, 'stopped': 8366, 'carrying': 1610, 'gun': 4076, 'has': 4149, 'since': 8013, 'revised': 7467, 'estimate': 3257, 'range': 7064, '33': 208, 'this': 8776, 'accurate': 452, 'tennessee': 8692, 'providing': 6932, 'millions': 5621, 'dollars': 2886, 'virtual': 9336, 'school': 7738, 'company': 1999, 'results': 7437, 'at': 936, 'bottom': 1353, 'huffman': 4361, 'sympathetic': 8590, 'choice': 1780, 'movement': 5764, 'criticized': 2370, 'k12s': 4880, 'performance': 6452, 'telling': 8681, 'chattanooga': 1745, 'times': 8826, 'free': 3779, 'press': 6767, 'demonstrably': 2598, 'roberts': 7537, 'pointed': 6614, 'her': 4223, 'piece': 6539, 'national': 5832, 'education': 3053, 'center': 1676, 'last': 5041, 'year': 9643, 'released': 7277, 'critical': 2366, 'k12': 4879, 'finding': 3595, 'time': 8822, 'graduation': 3997, '49': 258, 'compared': 2005, '79': 342, 'where': 9511, 'operates': 6117, 'schools': 7740, 'ruling': 7614, 'leading': 5083, 'critics': 2372, 'aggressive': 591, 'reforms': 7209, 'state': 8292, 'sending': 7833, 'getting': 3913, 'numbers': 5994, 'him': 4261, 'health': 4184, 'care': 1590, 'reform': 7208, 'set': 7870, 'limits': 5204, 'similar': 8004, 'socialized': 8112, 'system': 8597, 'britain': 1415, 'allowed': 673, 'treatment': 8949, 'cost': 2275, '22': 176, '000': 1, 'so': 8106, 'club': 1894, 'growth': 4055, 'ad': 490, 'practice': 6706, 'comparative': 2003, 'effectiveness': 3061, 'program': 6849, 'nor': 5949, 'part': 6332, 'current': 2417, 'proposals': 6891, 'pending': 6427, 'house': 4344, 'senate': 7829, 'bills': 1235, 'under': 9089, 'consideration': 2133, 'require': 7370, 'government': 3979, 'decide': 2505, 'how': 4351, 'much': 5774, 'person': 6479, 'life': 5180, 'worth': 9616, 'donald': 2894, 'trump': 8993, 'started': 8286, 'career': 1591, '1973': 107, 'sued': 8480, 'justice': 4872, 'department': 2615, 'racial': 7031, 'discrimination': 2787, 'rent': 7317, 'apartments': 781, 'developments': 2695, 'african': 578, 'clinton': 1873, 'both': 1348, 'parts': 6349, 'carefully': 1593, 'worded': 9593, 'father': 3502, 'civil': 1825, 'rights': 7508, 'instances': 4630, 'prospective': 6902, 'black': 1257, 'tenants': 8687, 'blocked': 1273, 'renting': 7319, 'buildings': 1459, 'case': 1619, 'settled': 7874, 'never': 5889, 'admitted': 527, 'guilt': 4072, 'though': 8788, 'had': 4089, 'agree': 596, 'stipulations': 8354, 'meant': 5504, 'prevent': 6778, 'future': 3833, 'rental': 7318, 'properties': 6883, 'bill': 1229, 'white': 9519, 'long': 5260, 'history': 4278, 'trying': 9000, 'limit': 5200, 'disenfranchise': 2795, 'military': 5612, 'voters': 9362, 'positions': 6675, 'hasn': 4154, 'backed': 1028, 'off': 6052, 'equate': 3228, 'limiting': 5203, 'personnel': 6484, 'vote': 9359, 'well': 9488, 'certainly': 1689, 'make': 5349, 'harder': 4130, 'those': 8787, 'wanting': 9400, 'local': 5248, 'elections': 3085, 'same': 7666, 'ease': 3020, 'exploited': 3389, 'cast': 1626, 'ballots': 1064, 'val': 9247, 'verde': 9282, 'county': 2304, 'election': 3084, '1996': 127, '1997': 128, 'lawsuits': 5071, 'moment': 5702, 'legislative': 5123, 'wake': 9383, 'does': 2875, 'impression': 4473, 'steadily': 8318, 'restrict': 7424, 'voting': 9364, 'decades': 2502, 'john': 4825, 'mccains': 5472, 'chief': 1765, 'adviser': 550, 'during': 2996, '08': 12, 'race': 7029, 'estimated': 3258, 'trumps': 8995, 'promises': 6868, 'cause': 1651, 'america': 708, 'lose': 5282, 'million': 5618, 'jobs': 4822, 'kaine': 4882, 'moodys': 5718, 'concluded': 2067, 'adopted': 532, 'full': 3812, 'could': 2282, 'zandi': 9676, 'donor': 2902, 'mccain': 5471, 'campaign': 1541, 'turns': 9024, 'registered': 7235, 'democrat': 2591, 'donated': 2896, 'maximum': 5461, 'amount': 718, 'clintons': 1874, 'primary': 6792, 'respected': 7406, 'economist': 3037, 'check': 1749, 'casting': 1627, 'doubt': 2917, 'credibility': 2344, 'work': 9597, 'generally': 3887, 'advised': 549, 'worked': 9599, 'issues': 4758, 'politicians': 6629, 'sides': 7988, 'aisle': 626, 'identify': 4408, 'former': 3730, 'lot': 5287, 'story': 8376, 'zandis': 9677, 'affiliations': 566, '21': 170, 'wisconsin': 9562, 'residents': 7394, 'got': 3974, '2011': 149, 'rating': 7085, 'vinehout': 9321, 'she': 7913, 'little': 5230, 'bit': 1254, 'math': 5446, 'figures': 3571, 'found': 3749, 'end': 3156, 'earlier': 3006, 'theres': 8758, 'way': 9443, 'know': 4953, 'revenue': 7458, 'projections': 6863, 'missed': 5664, 'mark': 5406, 'month': 5713, 'increased': 4515, 'three': 8798, 'six': 8031, 'months': 5716, 'fiscal': 3620, 'doesnt': 2877, 'do': 2861, 'monthly': 5714, 'georgia': 3903, 'pace': 6273, 'increase': 4514, 'almost': 678, 'prior': 6798, 'technically': 8666, 'accuracy': 451, 'hensons': 4222, 'context': 2186, 'missing': 5668, 'middle': 5597, 'class': 1844, 'family': 3477, 'went': 9492, 'down': 2921, '2001': 137, '2007': 143, 'clearly': 1855, 'inflation': 4575, 'adjusted': 513, 'fell': 3544, 'faster': 3496, 'recession': 7146, 'present': 6756, 'delay': 2567, 'fall': 3467, 'indicator': 4538, 'period': 6458, 'expansion': 3357, '2000': 136, 'troubling': 8987, 'dont': 2906, 'believe': 1168, 'any': 771, 'saw': 7699, 'commensurate': 1966, 'decline': 2516, 'vice': 9300, 'president': 6764, 'biden': 1218, 'dropped': 2967, '07': 10, 'every': 3283, 'citizen': 1820, 'entitled': 3207, 'freedom': 3781, 'speech': 8202, 'should': 7961, 'funds': 3824, 'institutions': 4636, 'portray': 6668, 'acts': 485, 'morally': 5724, 'reprehensible': 7352, 'vast': 9266, 'majority': 5348, 'yet': 9649, 'dewhurst': 2703, 'put': 6978, 'general': 3885, 'split': 8225, 'whether': 9514, 'gay': 3875, 'relations': 7268, 'immoral': 4445, 'unmeasured': 9161, 'unspecified': 9180, 'play': 6588, 'rick': 7492, 'perry': 6470, 'advocated': 556, 'abandoning': 391, 'security': 7795, 'scuttling': 7767, 'medicaid': 5522, 'ending': 3159, 'tax': 8642, 'option': 6143, 'offered': 6060, 'agreed': 597, 'effectively': 3060, 'scuttled': 7766, 'favors': 3514, 'finally': 3587, 'taxation': 8644, 'improved': 4478, 'replacing': 7341, 'while': 9517, 'carlsons': 1599, 'misleads': 5658, 'failing': 3455, 'note': 5964, 'replace': 7338, 'new': 5891, 'thirds': 8774, 'quarters': 7002, 'insurance': 4646, 'rhode': 7482, 'island': 4747, 'elizabeth': 3106, 'unfortunately': 9133, 'none': 5940, 'precisely': 6726, 'match': 5437, 'mathematica': 5447, 'showed': 7966, 'fewer': 3559, 'based': 1106, 'projection': 6862, 'using': 9231, 'older': 6086, 'gave': 3874, '67': 313, '75': 333, 'get': 3911, 'updates': 9198, 'politifactri': 6632, 'twitter': 9038, 'spent': 8212, '66': 311, 'days': 2472, 'term': 8699, 'recess': 7145, 'adversarial': 545, 'relationship': 7269, 'common': 1988, 'ornstein': 6166, 'reason': 7119, 'members': 5543, 'regardless': 7227, 'party': 6350, 'affiliation': 565, 'want': 9398, 'spend': 8209, 'session': 7868, 'tougher': 8877, 'raise': 7048, 'sums': 8505, 'necessary': 5858, 'stay': 8314, 'away': 1016, 'fundraising': 3823, 'sum': 8498, 'barrow': 1099, 'additional': 497, 'albeit': 638, 'short': 7950, 'meetings': 5533, 'sharpe': 7909, 'lowered': 5298, 'property': 6884, 'taxes': 8646, '17': 62, 'cuts': 2430, 'produced': 6831, 'drop': 2965, 'revenues': 7459, 'iowa': 4719, 'gov': 3976, 'terry': 8711, 'branstad': 1382, 'chartered': 1743, 'plane': 6571, 'remove': 7304, '124': 39, 'young': 9663, 'illegal': 4423, 'immigrants': 4442, 'take': 8611, 'honduras': 4314, 'chain': 1701, 'email': 3113, 'addition': 496, 'authority': 989, 'move': 5762, 'own': 6262, 'buy': 1502, 'cigarettes': 1806, 'your': 9667, 'supermarket': 8518, 'grocery': 4042, 'wont': 9590, 'go': 3953, 'dime': 2739, 'true': 8990, 'sugary': 8485, 'drink': 2956, 'passed': 6359, 'can': 1549, 'avoid': 1008, 'paying': 6396, 'buying': 1504, 'drinks': 2958, 'these': 8760, 'items': 4765, 'day': 2470, 'store': 8370, 'editorial': 3047, 'supporting': 8530, 'soda': 8115, 'condemning': 2075, 'phrase': 6526, 'thedaily': 8742, 'newswrote': 5902, 'philadelphians': 6514, 'purchasing': 6964, 'beverages': 1208, 'evidence': 3292, 'possible': 6680, 'distributors': 2838, 'lead': 5079, 'rising': 7517, 'prices': 6786, 'elsewhere': 3111, 'enough': 3186, 'chance': 1718, 'will': 9543, 'bear': 1130, 'everybody': 3284, 'hate': 4157, 'giuliani': 3934, 'throughout': 8803, 'comments': 1971, 'august': 980, 'latest': 5047, 'unrest': 9173, 'disparities': 2803, 'criminal': 2357, 'began': 1153, 'continuously': 2195, 'encouraged': 3153, 'find': 3594, 'solutions': 8132, 'change': 1720, 'repeatedly': 7334, 'emphasized': 3135, 'importance': 4465, 'enforcement': 3172, 'communities': 1994, 'color': 1943, 'officers': 6065, 'dangerous': 2451, 'job': 4820, 'ʺmore': 9688, 'bank': 1071, 'failures': 3458, 'ʺthe': 9689, 'banks': 1077, 'lost': 5286, 'florida': 3663, 'california': 1528, 'failed': 3454, 'assets': 917, 'illinois': 4426, 'westmoreland': 9500, 'size': 8035, 'spoke': 8226, 'coweta': 2321, 'congressman': 2107, 'create': 2335, '878': 359, '300': 204, 'benefits': 1187, '2010': 148, 'bonuses': 1324, 'creation': 2339, 'facebook': 3434, 'post': 6682, 'seiu': 7811, 'incorrectly': 4513, 'pot': 6688, 'consisted': 2137, 'included': 4501, 'forms': 3732, 'compensation': 2011, 'employees': 3140, 'mathematical': 5448, 'calculation': 1520, 'meaningless': 5501, 'thom': 8779, 'tillis': 8820, 'cut': 2428, '500': 262, 'attacking': 950, 'north': 5958, 'carolina': 1602, 'speaker': 8182, 'helped': 4214, 'pass': 6356, 'budget': 1447, '2013': 151, 'actual': 486, 'comparison': 2008, 'previous': 6782, 'what': 9504, 'requested': 7368, 'maintain': 5342, 'status': 8310, 'quo': 7021, 'accounting': 446, 'costs': 2278, 'services': 7864, 'additionally': 498, 'employee': 3139, 'ends': 3165, 'classroom': 1849, 'earn': 3013, 'salary': 7658, 'rubio': 7605, 'wrote': 9632, 'further': 3830, 'scenarios': 7723, 'individual': 4547, 'receiving': 7141, 'assistance': 921, 'multiple': 5781, 'potentially': 6690, 'gain': 3840, 'slight': 8071, 'modest': 5697, 'examples': 3308, 'minority': 5641, 'face': 3433, 'home': 4302, 'pay': 6390, 'poised': 6617, 'rid': 7494, 'regulations': 7246, '2012': 150, 'wanted': 9399, 'see': 7797, 'scott': 7755, 'accurately': 453, 'describing': 2649, 'magnitude': 5333, 'changes': 1722, 'pushing': 6977, 'proud': 6919, 'focus': 3678, 'eliminating': 3104, 'rules': 7612, 'bragging': 1372, 'pre': 6717, 'recorded': 7162, 'messages': 5573, 'callers': 1533, 'governor': 3981, 'placed': 6561, 'hold': 4289, 'looked': 5268, 'around': 873, '926': 368, 'repealed': 7330, 'flight': 3646, 'atlanta': 942, 'houston': 4349, 'canceled': 1554, 'due': 2980, 'terrorist': 8709, 'dry': 2977, 'run': 7617, 'petrunas': 6505, '2009': 146, 'account': 442, 'going': 3960, 'viral': 9332, 'according': 441, 'petruna': 6504, '11': 27, 'muslim': 5798, 'men': 5553, 'uncooperative': 9086, 'attendants': 957, '297': 202, 'airline': 620, 'passengers': 6362, 'associated': 924, 'disagreed': 2762, 'although': 690, 'originally': 6164, 'scheduled': 7727, 'boarded': 1295, 'actuality': 487, 'man': 5359, 'descent': 2645, 'didnt': 2717, 'speak': 8181, 'english': 3182, 'understand': 9106, 'instructions': 4641, 'turn': 9016, 'phone': 6519, 'outdated': 6182, 'riddled': 7496, 'inaccuracies': 4484, 'administrative': 522, 'colleges': 1940, 'universitieshave': 9151, 'doubled': 2915, '25': 188, 'outpacing': 6197, 'students': 8431, 'college': 1939, 'administrators': 523, 'rubios': 7606, 'trend': 8954, 'specifically': 8193, 'mentions': 5562, 'belongs': 1176, 'category': 1642, 'growing': 4053, 'slowly': 8081, 'private': 6809, 'prison': 6804, 'systems': 8599, 'calculating': 1519, 'beds': 1149, 'need': 5861, 'third': 8773, 'graders': 3989, 'thats': 8737, 'spin': 8219, 'urban': 9212, 'legend': 5119, 'largest': 5034, 'operators': 6124, 'country': 2301, 'estimates': 3259, 'grader': 3988, 'isnt': 4751, 'factor': 3443, 'happening': 4125, 'place': 6560, 'st': 8253, 'petersburgs': 6496, 'mayor': 5465, 'might': 5603, 'level': 5151, 'control': 2217, 'amendment': 705, 'protects': 6913, 'seniors': 7835, 'scams': 7715, 'rip': 7513, 'offs': 6070, 'consumers': 2170, 'smart': 8089, 'solar': 8119, 'amendments': 707, 'wording': 9594, 'mention': 5559, 'lets': 5147, 'consumer': 2169, 'protection': 6909, 'laws': 5068, 'stand': 8272, 'means': 5503, 'measure': 5507, 'preclude': 6728, 'protections': 6910, 'provide': 6925, 'effect': 3058, 'especially': 3247, 'somehow': 8137, 'offers': 6062, 'safeguards': 7650, 'customers': 2426, 'apply': 812, 'fbi': 3516, 'secret': 7783, 'service': 7862, 'disqualified': 2819, 'past': 6365, 'associations': 927, 'william': 9544, 'ayers': 1018, 'zaid': 9675, 'someone': 8138, 'srecord': 8252, 'degree': 2562, 'harvard': 4147, 'teaching': 8658, 'experience': 3370, 'university': 9152, 'chicago': 1762, 'excellent': 3317, 'candidate': 1563, 'agencies': 585, 'fighting': 3568, 'kids': 4925, 'sat': 7683, 'nation': 5831, 'mean': 5498, 'percentage': 6442, 'stick': 8345, 'metaphor': 5577, '51': 265, 'grade': 3987, 'walker': 9388, 'hes': 4235, 'milwaukee': 5623, 'gone': 3963, '349': 215, 'build': 1457, 'each': 3005, 'filibuster': 3577, 'immigration': 4443, 'tapper': 8629, 'question': 7005, 'yuma': 9673, 'ariz': 865, 'opportunity': 6130, 'help': 4213, 'remains': 7294, 'fair': 3459, 'summary': 8501, 'quotation': 7023, 'kyl': 4978, 'town': 8886, 'hall': 4098, 'video': 9306, 'predicted': 6736, 'republican': 7361, 'worldwide': 9611, 'credit': 2346, 'card': 1588, 'transactions': 8920, 'fraud': 3772, '04': 7, '10': 14, 'medicare': 5524, 'roskam': 7575, 'documents': 2870, 'analyzed': 730, 'problem': 6818, 'improper': 4476, 'payments': 6398, 'issue': 4756, 'mixes': 5688, 'together': 8842, 'nominally': 5928, 'legal': 5113, 'activities': 483, 'referring': 7201, 'patients': 6370, 'tests': 8718, 'suggested': 8487, 'inflated': 4572, 'tends': 8690, 'worst': 9615, 'analysis': 726, 'support': 8526, 'roskams': 7576, 'tiny': 8830, 'january': 4788, 'canada': 1550, 'created': 2336, 'november': 5976, '93': 370, '15': 49, '200': 135, 'december': 2503, '121': 36, 'per': 6439, 'capita': 1575, 'basis': 1114, 'exceeded': 3312, 'october': 6044, 'happened': 4124, 'canadian': 1552, 'reflects': 7206, 'pattern': 6379, 'leadership': 5082, 'access': 433, '83': 353, 'became': 1137, 'eligible': 3100, '77': 339, 'removed': 7305, 'net': 5881, 'sorts': 8153, 'liberal': 5160, 'group': 4049, 'frequent': 3787, 'critic': 2365, 'whichadvocated': 9516, 'obamacare': 6007, 'given': 3937, 'everyone': 3287, 'living': 5234, 'line': 5209, 'carriers': 1606, 'result': 7434, 'charlie': 1739, 'crist': 2362, 'me': 5495, 'held': 4208, 'like': 5188, 'running': 7619, 've': 9268, 'already': 682, 'pretty': 6775, 'written': 9630, 'noting': 5972, 'position': 6673, 'oil': 6080, 'drilling': 2955, 'shifted': 7931, 'wouldn': 9619, 'independent': 4524, 'nominee': 5934, 'flip': 3650, 'flopping': 3661, 'just': 4871, 'difficult': 2728, 'comes': 1958, 'embryonic': 3125, 'stem': 8331, 'cell': 1671, 'roe': 7548, 'vs': 9370, 'wade': 9375, 'either': 3078, 'unchanged': 9076, 'attack': 947, 'against': 582, 'adoption': 533, 'slightly': 8072, 'supported': 8527, 'keeping': 4901, 'recently': 7143, 'supports': 8532, 'lifted': 5184, 'link': 5214, 'tea': 8653, 'favorite': 3513, 'jim': 4817, 'demint': 2588, 'bolster': 1310, 'argument': 861, 'extreme': 3419, 'caveat': 1657, '2006': 142, 'accused': 456, 'adoptions': 534, 'differing': 2726, 'statements': 8297, 'helps': 4217, 'agenda': 588, 'imposing': 4471, 'massive': 5431, 'american': 709, '40': 230, 'hike': 4258, 'giant': 3917, 'tariff': 8635, 'cruz': 2398, 'tariffs': 8636, 'proposal': 6890, 'trumpeted': 8994, 'taxing': 8647, 'mexican': 5586, 'chinese': 1776, 'imports': 4468, '35': 216, '45': 244, 'respectively': 7408, 'loan': 5240, 'guarantee': 4059, 'solyndra': 8134, 'bush': 1493, 'plouffe': 6602, 'awarded': 1012, 'billion': 1232, 'guarantees': 4061, 'watch': 9430, 'signed': 7995, 'promoted': 6871, 'grew': 4035, 'administration': 520, 'ultimately': 9062, 'section': 7789, 'himself': 4262, 'touted': 8883, 'granted': 4008, 'exception': 3320, 'reeling': 7191, 'signs': 8001, 'obamacares': 6008, 'wheels': 9509, 'coming': 1961, 'sounds': 8161, 'lawmakers': 5066, 'opt': 6138, 'quite': 7020, 'opposite': 6135, 'll': 5236, 'marketplaces': 5412, 'alongside': 681, 'uninsured': 9140, 'businesses': 1496, 'required': 7371, 'excepted': 3319, 'provision': 6933, 'itself': 4767, 'wasn': 9424, 'clear': 1854, 'clarification': 1836, 'contributions': 2214, 'toward': 8884, 'purchase': 6960, 'mccollumhas': 5481, 'recovered': 7168, 'list': 5221, '153': 51, 'cases': 1620, 'includes': 4503, 'settlements': 7876, 'reach': 7096, '32': 207, 'paid': 6285, 'pharmeceutical': 6509, 'eli': 3098, 'lilly': 5196, 'andsmaller': 739, '50': 261, 'hialeah': 4243, 'physician': 6530, 'ausberto': 981, 'hidalgo': 4245, 'adding': 495, 'itemized': 4764, '203': 164, 'unit': 9145, 'mccollum': 5480, 'attorney': 963, 'auditor': 976, 'july': 4860, '1994': 125, 'moved': 5763, 'burgeoning': 1476, 'despite': 2666, 'iraqs': 4727, 'electrical': 3089, 'baghdad': 1047, 'gets': 3912, 'hours': 4343, 'electricity': 3090, 'brookings': 1431, 'march': 5395, 'daily': 2440, 'power': 6698, 'supply': 8525, 'twice': 9033, 'packer': 6279, 'figure': 3569, 'anecdotal': 741, 'snapshot': 8102, 'highly': 4253, 'speculative': 8201, 'tim': 8821, 'urged': 9213, 'crossroads': 2384, 'affordable': 570, 'contains': 2179, '564': 282, 'savings': 7697, 'measures': 5511, 'definition': 2554, 'reduction': 7185, 'here': 4225, 'continue': 2190, 'expand': 3353, 'slow': 8078, 'projected': 6860, 'advocate': 555, 'legislation': 5121, 'called': 1531, 'employed': 3138, 'green': 4024, 'collar': 1926, 'workforce': 9604, 'fossil': 3744, 'fuel': 3808, 'industry': 4557, 'baldwin': 1058, 'gas': 3867, 'trade': 8900, '59': 288, 'steps': 8336, 'took': 8855, 'unemployed': 9118, 'economists': 3038, 'sure': 8539, 'cited': 1816, 'council': 2287, 'advisers': 551, 'side': 7986, 'cbo': 1660, 'significantly': 7998, 'several': 7878, 'forecasters': 3713, 'saved': 7695, 'ratepayers': 7081, 'persuading': 6489, 'pursue': 6972, 'expensive': 3369, 'compliance': 2031, 'mechanism': 5516, 'city': 1823, 'treat': 8947, 'bull': 1465, 'drinking': 2957, 'water': 9435, 'save': 7694, '180': 68, 'depending': 2623, 'calculate': 1517, 'came': 1537, 'challenged': 1708, 'leonard': 5138, 'ended': 3158, 'favor': 3508, 'enforcing': 3173, 'ask': 894, 'regarding': 7226, 'gays': 3876, 'lesbians': 5139, 'williams': 9545, 'institute': 4632, 'ucla': 9049, 'palm': 6301, 'ucsb': 9051, '555': 278, 'neither': 5879, 'complete': 2024, 'records': 7163, 'recruitment': 7171, 'morrisseys': 5736, 'reasonable': 7120, 'creating': 2338, 'greetings': 4030, 'wendys': 9491, 'diebold': 2719, 'weve': 9503, 'doorsteps': 2910, 'keep': 4900, 'ohio': 6078, 'retained': 7441, 'bob': 1298, 'evans': 3273, '150': 50, '360': 221, '750': 334, 'mitec': 5683, '88': 360, 'janova': 4787, '116': 30, '38': 225, 'johnson': 4827, 'controls': 2220, '400': 231, 'dannon': 2452, '453': 246, '53': 270, '388': 227, 'chrysler': 1796, 'perrysburg': 6473, 'plant': 6579, '640': 308, 'total': 8868, '557': 279, '529': 269, 'backup': 1039, 'kasich': 4889, 'offer': 6059, 'tally': 8622, 'retention': 7444, 'record': 7161, 'rather': 7083, 'efforts': 3067, 'yielded': 9652, 'kept': 4912, 'offices': 6066, 'fox': 3757, 'valley': 9249, 'eau': 3029, 'claire': 1833, 'la': 4981, 'crosse': 2379, 'staffs': 8262, 'preparing': 6752, 'next': 5903, 'battle': 1122, 'single': 8018, 'successor': 8477, 'obamas': 6009, 'start': 8285, 'until': 9188, '2003': 139, 'sesame': 7867, 'street': 8390, '211': 171, 'toy': 8890, 'product': 6835, 'sales': 7661, 'seems': 7807, 'unlikely': 9159, 'cutting': 2431, 'spell': 8206, 'argue': 856, 'demise': 2589, 'rural': 7625, 'stations': 8303, 'carry': 1609, 'filings': 3581, 'show': 7965, 'makes': 5351, 'non': 5936, 'sources': 8163, 'sale': 7659, 'toys': 8891, 'products': 6838, 'funding': 3821, 'public': 6941, 'broadcasting': 1421, 'architect': 846, 'balanced': 1056, 'surplus': 8548, 'igniting': 4413, 'deserves': 2655, 'conceiving': 2056, 'sponsoring': 8232, 'negotiating': 5871, 'passage': 6357, 'overstates': 6246, 'role': 7551, 'districts': 2841, 'let': 5145, 'boys': 1366, 'shower': 7967, 'girls': 3931, 'cruzs': 2400, 'vision': 9341, 'schoolboys': 7739, 'everywhere': 3291, 'showering': 7968, 'grossly': 4045, 'distorts': 2832, 'sided': 7987, 'transgender': 8926, 'seeking': 7802, 'facilities': 3438, 'including': 4504, 'locker': 5253, 'rooms': 7568, 'holding': 4292, 'anything': 775, 'violate': 9322, 'anti': 769, 'requirements': 7373, 'conflicts': 2096, 'between': 1207, 'havent': 4164, 'proposed': 6893, 'greenhouse': 4026, 'bankrupt': 1073, 'anyone': 774, 'wants': 9401, 'coal': 1903, 'fired': 3611, 'methods': 5581, 'epa': 3221, 'shown': 7970, 'flexibility': 3644, 'agreeing': 598, 'phase': 6510, 'carbon': 1585, 'restrictions': 7427, 'expanded': 3354, 'plants': 6580, 'agency': 586, 'announced': 755, 'carey': 1596, 'testified': 8714, 'deadlines': 2479, 'must': 5800, 'emissions': 3130, 'quoted': 7025, 'fully': 3813, 'supreme': 8538, 'court': 2311, 'decision': 2510, 'regulate': 7242, 'trillion': 8969, 'debt': 2496, 'added': 494, 'four': 3753, 'type': 9042, 'measurement': 5509, 'implication': 4457, 'democrats': 2595, 'blame': 1261, 'merit': 5567, 'ignores': 4417, 'texas': 8721, 'safety': 7653, 'troopers': 8981, 'standing': 8276, 'orders': 6151, 'inquire': 4608, 'unless': 9157, 'theyre': 8765, 'arrest': 875, 'dps': 2933, 'didn': 2716, 'cough': 2281, 'document': 2867, 'spelling': 8208, 'legality': 5114, 'presence': 6755, 'hint': 4266, 'dennis': 2608, 'richardson': 7490, 'drastic': 2944, 'depend': 2617, '440': 242, 'unspent': 9181, 'priorities': 6799, 'anemic': 744, 'happy': 4127, 'moreover': 5728, 'represents': 7359, 'consensus': 2121, 'mans': 5380, 'nobody': 5925, 'covered': 2316, 'patricia': 6371, 'smith': 8093, 'mother': 5748, 'benghazi': 1188, 'victim': 9301, 'live': 5231, 'khizrkhans': 4921, 'mr': 5771, 'khans': 4920, 'kilmeade': 4931, 'aired': 616, 'smiths': 8095, 'cnn': 1898, 'msnbc': 5773, 'spancovered': 8177, 'speeches': 8203, 'coincidentally': 1918, 'news': 5898, 'food': 3691, 'stamp': 8268, 'indeed': 4521, 'recipient': 7148, 'couple': 2306, 'opponent': 6127, 'mary': 5425, 'burke': 1481, 'unequivocally': 9121, 'expanding': 3355, 'making': 5352, 'walkers': 9389, 'partially': 6334, 'essex': 3251, 'suffer': 8481, 'second': 7778, 'highest': 4250, 'countys': 2305, 'rank': 7068, 'sixth': 8032, '92nd': 369, 'measurements': 5510, 'ken': 4905, 'lanci': 5009, 'lifelong': 5181, 'clevelanderhe': 1861, 'graduated': 3995, 'community': 1995, 'residencies': 7390, 'voted': 9360, 'served': 7859, 'votes': 9363, 'electorate': 3087, 'previously': 6783, 'promised': 6867, 'liked': 5189, 'later': 5046, 'waiver': 9381, '160': 57, 'employer': 3141, 'sponsored': 8231, 'coverage': 2315, 'contrary': 2207, 'griffith': 4037, 'carlos': 1597, 'lopez': 5277, 'cantera': 1567, 'voiced': 9349, 'enthusiastic': 3200, 'bringing': 1412, 'arizona': 866, 'style': 8444, 'calling': 1534, 'sense': 7838, 'tant': 8627, 'call': 1530, 'heexpressed': 4201, 'committee': 1984, 'omits': 6093, 'april': 837, 'heat': 4195, 'wouldnt': 9620, 'cherry': 1759, 'picked': 6534, 'ignoringmultiple': 4419, 'opposing': 6134, 'controlled': 2218, 'share': 7903, 'gross': 4043, 'domestic': 2888, 'leapt': 5093, 'world': 9609, 'war': 9402, 'ii': 4420, 'cornyn': 2252, 'gdp': 3878, 'solely': 8124, 'presidency': 6763, '108': 23, 'cbos': 1661, 'confirms': 2092, 'hardworking': 4133, 'cantor': 1568, 'confirmed': 2091, 'equivalent': 3236, 'workers': 9602, '2024': 162, 'legions': 5120, 'implies': 4461, 'laid': 5000, 'forced': 3705, 'pains': 6288, 'virtually': 9337, 'choices': 1781, 'opting': 6142, 'receive': 7137, 'subsidies': 8455, 'boost': 1332, 'wages': 9377, 'projecting': 6861, 'bump': 1467, 'unemployment': 9119, 'underemployment': 9094, 'paint': 6289, 'rosy': 7578, 'picture': 6537, 'easy': 3027, 'miss': 5663, 'distinction': 2827, 'leaving': 5102, 'opposed': 6132, 'guys': 4087, 'determining': 2684, 'contraceptions': 2197, 'pelosi': 6418, 'afraid': 576, 'hobby': 4285, 'lobby': 5244, 'certain': 1688, 'types': 9043, 'contraception': 2196, 'corporations': 2256, 'religious': 7286, 'grounds': 4048, 'specific': 8192, 'contraceptives': 2199, 'plans': 6578, 'solid': 8127, 'precedents': 6720, 'banning': 1080, 'outright': 6204, 'slashed': 8061, 'pensions': 6433, '90': 364, 'conclusion': 2068, 'tate': 8640, 'themselves': 8749, 'reductions': 7186, 'along': 680, 'amounts': 721, 'significant': 7997, 'ethanol': 3263, 'raises': 7050, 'production': 6836, 'driven': 2960, 'price': 6785, 'corn': 2249, 'commodities': 1987, 'soybeans': 8174, 'meat': 5513, 'poultry': 6691, 'dairy': 2441, 'contributed': 2211, 'retail': 7439, 'factors': 3447, 'particularly': 6340, 'energy': 3169, 'bigger': 1223, 'impact': 4447, 'secretary': 7785, 'tells': 8682, 'james': 4781, 'durkan': 2997, 'file': 3573, 'told': 8845, 'filing': 3580, 'deadline': 2478, 'filed': 3574, 'name': 5807, 'candidates': 1564, 'remember': 7297, 'exactly': 3296, 'paperwork': 6311, 'thought': 8789, 'sometime': 8141, 'blake': 1260, 'fontenay': 3690, 'spokesman': 8228, 'onapril': 6097, 'qualifying': 6991, 'petitions': 6499, 'pick': 6533, 'petition': 6498, 'mitt': 5685, 'romney': 7560, 'opposes': 6133, 'couldnt': 2284, 'endorsed': 3161, 'usually': 9234, 'left': 5110, 'grab': 3985, 'changed': 1721, 'imply': 4462, 'usafreedom': 9219, 'undercuts': 9092, 'privacy': 6808, 'becausethe': 1140, 'hands': 4120, 'companies': 1998, 'hundreds': 4370, 'available': 1002, 'look': 5267, 'versus': 9290, '20': 134, '30': 203, 'graham': 3998, 'usa': 9218, 'companys': 2000, 'currently': 2418, 'nsa': 5985, 'collects': 1938, 'bulk': 1464, 'eliminates': 3103, 'collection': 1933, 'affect': 561, 'standardization': 8274, 'databases': 2461, 'corzine': 2274, 'decided': 2506, 'steal': 8320, 'trust': 8996, 'fund': 3817, 'governors': 3982, 'simply': 8009, 'done': 2899, 'permit': 6464, 'christie': 1791, 'forbids': 3703, 'diversions': 2845, 'something': 8140, 'diversion': 2844, 'occurred': 6039, 'codey': 1914, 'interim': 4668, 'import': 4464, 'hemp': 4218, 'cant': 1566, 'grow': 4052, 'substances': 8459, 'prohibits': 6858, 'selling': 7823, 'except': 3318, 'circumstances': 1811, 'outlined': 6191, 'agricultural': 602, 'customs': 2427, 'border': 1339, 'allows': 675, 'seeds': 7799, 'permitted': 6466, 'sterilized': 8337, 'gina': 3925, 'raimondos': 7044, 'venture': 9277, 'capital': 1576, 'firm': 3616, 'secured': 7793, 'bid': 1216, 'contract': 2200, 'funded': 3820, 'taxpayers': 8649, 'angel': 745, 'taveras': 8641, 'raimondo': 7043, 'citing': 1819, 'newspaper': 5900, 'deals': 2486, 'terms': 8703, 'judith': 4857, 'deal': 2481, 'providence': 6927, 'elements': 3095, 'remain': 7291, 'open': 6110, 'correct': 2259, 'reality': 7113, 'investment': 4706, 'decisions': 2511, 'investments': 4707, 'vetted': 9297, 'financial': 3591, 'consultant': 2162, 'antacids': 768, 'politics': 6630, 'boehner': 1301, 'reports': 7351, 'tops': 8863, 'matter': 5453, 'source': 8162, 'provided': 6926, 'boehners': 1302, '2014': 152, 'factoring': 3446, 'disparity': 2804, 'greater': 4020, 'raising': 7051, 'gap': 3856, 'offset': 6071, 'loss': 5284, 'expire': 3378, 'theyd': 8763, 'refunds': 7214, 'child': 1767, 'eitc': 3077, 'explicitly': 3385, 'lack': 4988, 'extending': 3408, 'information': 4582, 'ponzi': 6643, 'scheme': 7730, 'died': 2720, 'hospital': 4332, 'charity': 1736, 'ward': 9403, 'burial': 1479, 'recognized': 7153, 'zuckoffs': 9687, 'interpretation': 4674, 'pennsylvania': 6430, 'charges': 1733, 'top': 8860, 'delaware': 2566, 'senators': 7831, 'target': 8631, 'flat': 3634, 'jeff': 4800, 'greene': 4025, 'owns': 6268, 'mansions': 5382, 'yacht': 9637, 'tore': 8865, 'coral': 2244, 'reef': 7189, 'belize': 1173, 'kendrick': 4906, 'meek': 5530, 'tv': 9026, 'uses': 9230, 'pictures': 6538, 'homes': 4308, 'labels': 4984, 'mansion': 5381, 'illustrate': 4429, 'rival': 7524, 'personal': 6480, 'fortune': 3739, 'images': 4436, 'real': 7109, 'placeholders': 6562, 'warren': 9414, 'lied': 5176, 'abolish': 405, 'minimum': 5633, 'wage': 9376, 'asked': 895, 'floor': 3657, 'wish': 9568, 'words': 9595, 'universal': 9148, 'mandate': 5366, 'adults': 537, 'envelope': 3215, 'brendan': 1396, 'doherty': 2882, 'repeal': 7329, 'increasing': 4517, 'drug': 2972, 'david': 2466, 'cicilline': 1805, 'least': 5097, 'subtlety': 8467, 'politifact': 6631, 'abortion': 411, 'standard': 8273, 'benefit': 1184, 'sold': 8120, 'narals': 5817, 'contention': 2183, 'findings': 3596, 'reflect': 7204, 'focused': 3679, 'policies': 6621, '2002': 138, 'guttmacher': 4085, 'updated': 9197, 'major': 5346, 'conducted': 2082, 'kaiser': 4884, 'early': 3008, '46': 249, 'abortions': 412, 'struggled': 8427, 'reconcile': 7158, 'probably': 6817, 'somewhere': 8144, 'naral': 5816, 'gospel': 3973, 'old': 6085, 'authors': 994, 'undercut': 9091, 'debated': 2493, 'las': 5040, 'vegas': 9270, 'problems': 6820, 'cdc': 1663, 'tallied': 8621, 'likely': 5191, 'roughly': 7582, 'suicide': 8492, 'phrasing': 6528, 'obscures': 6020, 'language': 5024, 'shes': 7928, 'extrapolating': 3417, 'toledo': 8846, 'fourth': 3756, 'behind': 1164, 'cities': 1818, 'miami': 5590, 'portland': 6664, 'human': 4363, 'trafficking': 8906, 'arrests': 877, 'rescues': 7378, 'fedor': 3531, 'mischaracterized': 5651, 'statistic': 8304, 'omitting': 6095, 'word': 9592, 'minor': 5639, '94': 371, 'winning': 9557, 'opponents': 6128, 'protester': 6916, 'atypical': 970, 'contests': 2185, 'congressional': 2105, 'races': 7030, 'won': 9588, 'reached': 7097, 'again': 581, 'sign': 7991, 'big': 1222, 'winners': 9556, '85': 354, 'points': 6616, 'seats': 7776, 'deeper': 2531, 'pocketed': 6610, 'consistently': 2140, 'cycles': 2435, 'joe': 4823, 'oppose': 6131, 'nuclear': 5989, 'concerns': 2062, 'doesn': 2876, 're': 7095, 'apologized': 787, 'contained': 2177, 'criticisms': 2368, 'actions': 478, 'passages': 6358, 'typically': 9045, 'leavened': 5099, 'praise': 6711, 'ideals': 4403, 'frequently': 3788, 'mentioned': 5560, 'countries': 2300, 'erred': 3242, 'throated': 8801, 'apology': 789, 'bunch': 1468, 'difference': 2723, 'changing': 1724, 'apologizing': 788, 'latter': 5054, 'charge': 1731, 'disburse': 2771, '803': 349, 'larger': 5032, 'worlds': 9610, 'economies': 3036, 'cms': 1897, '800': 347, 'nations': 5835, 'dramatic': 2942, 'isn': 4750, 'meaningful': 5500, 'lacks': 4991, 'puts': 6980, 'marco': 5397, 'astroturf': 934, 'field': 3563, 'played': 6589, 'flag': 3629, 'football': 3697, '71': 325, 'specify': 8198, 'artificial': 886, 'turf': 9012, 'light': 5186, 'conceivable': 2053, 'knew': 4951, 'geller': 3882, 'refused': 7217, 'address': 500, 'passing': 6364, 'thinks': 8772, 'harm': 4137, 'good': 3964, 'debate': 2492, 'beyond': 1211, 'scope': 7749, 'dollar': 2885, 'fallen': 3468, '44': 241, 'bernanke': 1197, 'pumping': 6951, 'beginning': 1157, 'joined': 4830, 'board': 1294, 'value': 9250, '39': 228, 'euro': 3265, 'partys': 6351, 'relies': 7284, 'currency': 2416, 'broader': 1424, 'currencies': 2415, 'nevertheless': 5890, 'letters': 5149, 'sharply': 7911, 'undeniable': 9088, 'gradual': 3992, 'indexes': 4527, 'influence': 4577, 'begin': 1156, 'allocated': 670, 'penny': 6431, 'fight': 3566, 'zika': 9681, 'targeting': 8633, 'virus': 9338, 'saythat': 7708, 'emergency': 3127, 'ebola': 3030, 'appropriation': 828, 'extent': 3412, 'redirected': 7177, 'holds': 4295, 'disagreement': 2763, 'best': 1201, 'deploy': 2627, 'weighingin': 9480, 'onthat': 6106, 'confront': 2097, 'am': 693, 'defeat': 2535, 'isis': 4742, 'detailed': 2674, 'seven': 7877, 'parties': 6341, 'multi': 5777, 'taking': 8615, 'approach': 823, 'length': 5134, 'detail': 2673, 'overlap': 6220, 'hurt': 4378, 'quality': 6993, 'prescription': 6754, 'intent': 4658, 'complicated': 2033, 'attending': 960, 'talked': 8618, 'possibility': 6679, 'vocational': 9347, 'training': 8914, 'anywhere': 778, 'register': 7234, 'sit': 8025, 'voter': 9361, 'registration': 7236, 'unlimited': 9160, '48': 254, 'hour': 4341, 'imposed': 4470, 'curry': 2420, 'explained': 3381, 'rule': 7609, 'turning': 9020, 'registrations': 7237, 'enforce': 3170, 'explanation': 3383, 'omitted': 6094, 'instituted': 4633, 'moving': 5769, 'stricter': 8405, 'comment': 1967, 'gives': 3938, 'groups': 4050, 'sitting': 8028, 'breaking': 1390, 'crct': 2334, 'questioned': 7007, 'gosa': 3972, 'special': 8186, 'investigators': 4704, 'ajc': 627, 'halls': 4100, 'pants': 6308, 'singed': 8017, 'earns': 3018, 'lowest': 5302, 'ed': 3041, 'gillespie': 3923, 'stewart': 8342, 'criticize': 2369, 'presidential': 6765, 'vulgar': 9372, 'women': 9586, 'voicing': 9351, 'gop': 3967, 'ticket': 8809, 'conservative': 2128, 'inschool': 4613, 'testingwas': 8717, 'vendor': 9275, 'test': 8712, 'materials': 5443, 'cyber': 2432, 'otoole': 6173, 'testing': 8716, 'responsible': 7416, 'initial': 4592, 'logging': 5256, 'onto': 6107, 'week': 9474, 'eric': 3239, 'win': 9550, 'burton': 1487, 'struck': 8423, 'avert': 1006, 'shutdown': 7981, 'considered': 2134, 'implying': 4463, 'agreements': 600, 'cantors': 1569, 'memo': 5547, 'september': 7849, 'attempted': 953, 'alive': 657, 'maneuver': 5373, 'include': 4500, 'victories': 9303, 'burtons': 1488, 'standoff': 8277, 'ceiling': 1665, 'hand': 4109, 'challenge': 1707, 'successfully': 8475, 'block': 1272, 'deliver': 2578, 'main': 5338, 'functions': 3816, 'homeland': 4303, 'securitys': 7796, 'database': 2460, 'checking': 1752, 'citizenship': 1822, 'primarily': 6791, 'drivers': 2962, 'licenses': 5171, 'eligibility': 3099, 'plus': 6606, 'counties': 2297, 'queries': 7004, 'equaled': 3224, 'searches': 7771, 'justices': 4873, 'finance': 3588, 'constitutional': 2153, 'disclosure': 2777, 'interest': 4664, 'recommend': 7154, 'instance': 4629, 'allow': 672, 'bailed': 1050, 'motors': 5758, 'donate': 2895, 'campaigns': 1544, 'provisions': 6935, 'hasen': 4151, 'necessarily': 5857, 'phrases': 6527, 'within': 9575, 'citizens': 1821, 'seem': 7804, 'favorably': 3510, 'upon': 9203, 'idea': 4402, 'terrorists': 8710, 'prisons': 6806, 'mastermind': 5432, '1993': 124, 'bombing': 1315, 'shoe': 7940, 'bomber': 1314, 'unabomber': 9066, 'others': 6171, 'durbin': 2995, 'florence': 3662, 'suited': 8496, 'detainees': 2676, 'guantanamo': 4058, 'bay': 1126, 'my': 5802, 'colleagues': 1929, 'argued': 857, 'appropriate': 825, 'facility': 3439, 'handle': 4116, 'corrections': 2264, 'ought': 6174, 'respect': 7405, 'terminate': 8701, 'americas': 711, 'ability': 402, 'space': 8175, 'predicament': 6734, 'irrelevant': 4732, 'raised': 7049, 'mail': 5335, 'richard': 7488, 'nixon': 5919, 'perhaps': 6456, 'conjunction': 2110, 'gerald': 3907, 'ford': 3712, 'unwanted': 9192, 'title': 8833, 'george': 3902, 'washington': 9421, 'guard': 4062, 'tyranny': 9046, 'gohmerts': 3959, 'rendering': 7310, 'seemingly': 7806, 'tracks': 8899, 'washingtons': 9422, 'disciplined': 2773, 'characterization': 1727, 'speaking': 8184, 'arming': 869, 'troops': 8982, 'behalf': 1161, 'known': 4956, 'global': 3945, 'initiative': 4596, 'ordered': 6149, 'agents': 590, 'read': 7100, 'miranda': 5647, 'captured': 1583, 'battlefield': 1123, 'approval': 830, 'nothing': 5968, 'wholly': 9527, 'communication': 1991, 'wife': 9538, 'york': 9655, 'london': 5258, 'caught': 1649, 'snowden': 8104, 'sent': 7840, 'familiar': 3475, 'governing': 3978, 'surveillance': 8553, 'practices': 6707, 'brought': 1434, 'leaks': 5087, 'happen': 4123, 'scenario': 7722, 'emailing': 3114, 'supposed': 8534, 'minimize': 5632, 'emails': 3115, 'sweep': 8575, 'deleting': 2573, 'searching': 7772, 'audits': 978, 'delivered': 2579, '64': 307, 'brown': 1437, 'underestimating': 9097, 'potential': 6689, 'scores': 7753, 'improve': 4477, 'narrowed': 5822, 'achievement': 461, 'naacp': 5805, 'massachusetts': 5430, 'always': 692, 'somewhat': 8143, 'dubious': 2978, 'statistics': 8309, 'entremont': 3211, 'gains': 3843, 'student': 8430, 'overnight': 6225, 'effort': 3066, 'whats': 9506, 'improvement': 4479, 'influenced': 4578, 'myriad': 5803, 'democratic': 2592, 'diminished': 2741, 'strength': 8394, 'gerrymandered': 3910, 'maps': 5394, 'representation': 7354, 'taken': 8612, 'placing': 6564, 'led': 5105, 'redistricting': 7178, 'totally': 8872, 'besides': 1200, 'hasnt': 4155, 'jersey': 4808, '1988': 119, 'dukakis': 2984, 'ballot': 1063, 'helping': 4216, 'send': 7832, 'tide': 8812, 'turned': 9018, 'visa': 9339, 'mostly': 5746, 'paul': 6384, 'entered': 3196, 'legally': 5118, 'overstayed': 6248, 'temporary': 8685, 'ted': 8670, 'slurred': 8085, 'graybeards': 4017, 'spineless': 8220, 'jellyfish': 4802, 'conceivably': 2054, 'whom': 9528, 'views': 9315, 'insufficiently': 4644, 'defensible': 2542, 'reference': 7194, 'draw': 2946, 'landrieu': 5016, 'ahead': 604, 'veterans': 9293, 'cassidy': 1625, 'putting': 6982, 'aside': 893, 'vastly': 9267, 'agreement': 599, 'reduce': 7181, 'adjustments': 515, 'restore': 7421, 'radio': 7038, 'defend': 2536, 'inaccurately': 4485, 'landrieus': 5017, 'claims': 1832, 'affairs': 560, '391': 229, '890': 363, 'graves': 4015, 'presidents': 6766, 'vas': 9265, 'troubled': 8985, 'prepared': 6751, 'challenges': 1710, 'rep': 7322, 'ga': 3837, 'audit': 973, 'reserve': 7384, 'mclagan': 5493, 'truly': 8991, 'committed': 1983, 'auditing': 975, 'fed': 3528, 'co': 1900, 'strives': 8417, 'implement': 4454, 'principles': 6796, 'friendly': 3794, 'coalition': 1904, 'improving': 4481, 'maternity': 5445, 'childbirth': 1768, 'review': 7464, 'certify': 1694, 'birthing': 1250, 'centers': 1677, 'hospitals': 4333, 'memorial': 5549, 'friday': 3790, 'come': 1957, 'close': 1882, 'achieving': 463, '47': 251, 'stein': 8329, 'tried': 8966, 'convicted': 2232, 'executed': 3335, 'japanese': 4790, 'soldiers': 8122, 'crimes': 2356, 'waterboarding': 9436, 'generals': 3888, 'torture': 8866, 'faced': 3435, 'qualified': 6986, 'variety': 9261, 'crime': 2354, 'sentenced': 7842, 'death': 2489, 'offense': 6057, 'approved': 832, 'gutting': 4084, 'credits': 2349, 'elderly': 3081, 'song': 8146, 'hit': 4279, 'road': 7528, 'jack': 4771, 'moore': 5721, 'breaks': 1393, 'moderate': 5694, 'dictionary': 2714, 'vital': 9344, 'essential': 3249, 'deep': 2529, 'legislature': 5126, 'largely': 5031, 'intact': 4650, 'bucks': 1445, 'district': 2840, 'attorneys': 964, 'skyrocketed': 8055, 'commissioners': 1979, 'noted': 5965, 'calculated': 1518, '2005': 141, '12': 34, 'weld': 9486, 'commission': 1976, 'defended': 2537, 'resources': 7404, 'consider': 2130, 'photonics': 6525, 'tom': 8850, 'reed': 7187, 'congresswoman': 2109, 'louise': 5293, 'slaughter': 8064, '25th': 191, 'assini': 919, 'defense': 2541, 'existed': 3348, 'revitalize': 7469, 'manufacturing': 5388, 'innovation': 4604, 'rochester': 7543, 'selected': 7815, 'application': 808, 'suny': 8511, 'polytechnic': 6641, 'crafting': 2326, 'selection': 7817, 'process': 6825, 'stumped': 8441, 'spread': 8241, 'hiv': 4282, 'distribute': 2834, 'knowing': 4954, 'twelve': 9032, 'pause': 6386, 'coburn': 1910, 'thing': 8769, 'weaver': 9463, 'paper': 6310, 'gotten': 3975, 'mandated': 5367, 'scant': 7718, 'give': 3935, 'giving': 3939, '29': 201, 'benchmark': 1180, 'absorb': 421, 'admittedly': 528, 'gleaned': 3941, 'austin': 983, 'mesquite': 5570, 'devoted': 2702, 'madeleine': 5324, 'albrights': 641, 'iraq': 4725, 'surprised': 8550, 'sanders': 7672, 'albright': 640, 'understands': 9109, 'rationale': 7089, 'suggest': 8486, 'avoided': 1009, 'invasion': 4693, 'propriety': 6896, 'reconciliation': 7159, 'initiatives': 4597, 'indicates': 4533, 'gregg': 4032, 'arguments': 862, 'conferences': 2086, 'tactic': 8607, 'undermines': 9103, 'branches': 1378, 'hypocritical': 4390, 'flying': 3676, 'gowdy': 3984, 'kingdom': 4937, 'abandoned': 390, 'footprint': 3700, 'complex': 2028, 'game': 3850, 'telephone': 8677, 'meaning': 5499, 'original': 6163, 'embraced': 3123, 'evocative': 3294, 'testimony': 8715, 'wood': 9591, 'rhetorically': 7481, 'literally': 5228, 'explaining': 3382, 'western': 9499, 'threat': 8794, 'attacked': 948, 'eliminate': 3101, 'overtime': 6252, 'gittes': 3933, 'tinged': 8829, 'cynicism': 2437, 'unscrupulous': 9176, 'exist': 3347, 'voluntary': 9355, 'budishs': 1452, 'describes': 2648, 'affected': 562, 'hb': 4172, '61': 298, 'smaller': 8088, 'provides': 6931, 'doing': 2884, 'illegally': 4424, 'enforced': 3171, 'polls': 6635, 'extend': 3406, 'poll': 6633, 'straightforward': 8382, 'renovating': 7314, 'headquarters': 4182, 'project': 6859, 'overseen': 6235, 'michael': 5593, 'adlerstein': 517, 'officials': 6069, 'ceremonial': 1686, 'ground': 4046, 'breakingon': 1391, '700': 319, 'shuffled': 7978, 'leased': 5096, 'restoration': 7420, 'expected': 3363, 'completed': 2025, 'website': 9467, '953': 374, 'reaching': 7099, 'stearns': 8322, 'renovations': 7316, 'proposing': 6894, 'millionaires': 5620, 'break': 1389, 'prioritizes': 6802, 'neutral': 5885, 'deductions': 2526, 'rates': 7082, 'decrease': 2520, '87': 357, 'exemptions': 3343, 'rise': 7515, 'romneys': 7561, 'untenable': 9186, 'deficit': 2545, 'assumptions': 931, 'therefore': 8757, 'definite': 2552, 'unknown': 9156, 'cautious': 1655, 'courts': 2312, 'walking': 9390, 'rich': 7487, 'heaven': 4196, 'earth': 3019, 'commissions': 1980, 'complain': 2019, 'mccarthy': 5478, 'interview': 4681, 'believed': 1169, 'traditional': 8903, 'longest': 5262, 'sentences': 7843, 'track': 8895, 'convictions': 2234, 'premiums': 6749, '120': 35, '247': 186, '00': 0, 'newer': 5894, 'increases': 4516, '2021': 160, 'bring': 1411, 'premium': 6748, '161': 59, 'feeling': 3536, 'hot': 4337, 'bothered': 1350, 'twaddle': 9027, 'facing': 3440, '105': 21, 'ncaa': 5849, 'billions': 1234, 'mens': 5556, 'basketball': 1115, 'tournament': 8882, 'players': 6591, 'trophy': 8983, 'foster': 3745, 'walk': 9387, 'championship': 1717, 'scholarships': 7736, 'athletes': 939, 'ncaas': 5850, 'lucrative': 5306, 'contracts': 2203, 'broadcasters': 1420, 'mind': 5627, 'fosters': 3747, 'specifics': 8196, 'decreases': 2522, 'relying': 7290, 'darn': 2456, '16': 56, 'exact': 3295, 'cycle': 2434, 'unprecedented': 9167, 'amstutz': 724, 'understanding': 9108, 'damage': 2445, 'protesters': 6917, 'capitol': 1577, 'repair': 7324, '347': 214, 'indications': 4536, 'smells': 8091, 'pour': 6693, 'fire': 3608, 'industrialized': 4555, 'works': 9608, 'shows': 7971, '790': 343, 'clock': 1878, 'above': 414, 'developed': 2691, '715': 326, 'dock': 2863, 'anotch': 763, 'truth': 8998, 'meter': 5578, 'exaggerating': 3299, 'strickland': 8402, 'bragged': 1371, 'nra': 5981, 'mixed': 5687, 'spotty': 8239, 'mine': 5630, 'portman': 6666, 'framed': 3761, 'quote': 7024, 'proper': 6881, 'billing': 1231, 'guidelines': 4070, 'codes': 1913, 'injuries': 4599, 'turkeys': 9015, 'poe': 6612, 'doctors': 2866, 'regulatory': 7248, 'burden': 1470, 'requiring': 7375, 'turkey': 9014, 'thanksgiving': 8729, 'tradition': 8902, 'tragic': 8908, 'doctor': 2864, 'able': 404, 'describe': 2646, 'digit': 2734, 'hope': 4323, 'w61': 9374, '42xa': 238, '43xs': 240, 'virginia': 9333, 'del': 2565, 'cole': 1922, 'childrens': 1771, 'genitals': 3897, 'bathroom': 1119, 'occupy': 6037, 'coles': 1923, 'restroom': 7430, 'defends': 2540, 'possibilities': 6678, 'birth': 1248, 'certificates': 1692, 'verify': 9285, 'anatomical': 732, 'gender': 3884, 'loose': 5272, 'writing': 9629, 'tighten': 8818, 'legislator': 5124, 'criticism': 2367, 'fee': 3533, 'indirectly': 4546, 'sheriffs': 7926, 'among': 716, 'expenses': 3368, 'jacque': 4778, 'cents': 1680, 'dedicated': 2525, 'governments': 3980, 'budgets': 1450, 'wasnt': 9425, 'subject': 8447, 'anybodys': 773, 'announcement': 756, 'werent': 9497, 'wallace': 9392, 'particular': 6339, 'media': 5520, 'topic': 8861, 'afterward': 580, 'newspapers': 5901, 'bombastic': 1313, 'attention': 961, 'minds': 5629, 'fray': 3775, 'stated': 8293, 'table': 8602, 'flawed': 3638, 'strategy': 8387, 'courage': 2309, 'hopes': 4326, 'neat': 5855, 'trick': 8963, 'reminding': 7301, 'differently': 2725, 'competitors': 2016, 'nomination': 5932, 'proof': 6879, 'fractured': 3759, 'attempt': 952, 'difficulty': 2730, 'lacked': 4989, 'whereas': 9512, 'advantage': 542, 'pregnant': 6744, 'risk': 7518, 'pregnancy': 6743, '80': 346, 'solomon': 8131, 'attributing': 969, 'waiting': 9380, 'attend': 956, 'charter': 1742, 'patrick': 6372, 'variously': 9263, 'parents': 6321, 'association': 926, 'plausible': 6587, 'enroll': 3187, 'apiece': 785, 'survey': 8555, 'responses': 7414, 'represented': 7357, 'reported': 7346, 'lists': 5226, 'enrollment': 3192, 'enrolled': 3188, 'reportedly': 7347, '101': 17, '851': 355, 'wait': 9378, 'head': 4177, 'count': 2291, 'contain': 2176, 'duplications': 2993, 'operator': 6123, 'ukrainian': 9059, 'introduced': 4687, 'abolishing': 407, 'languages': 5025, 'official': 6067, 'russia': 7631, 'today': 8839, 'ukrainians': 9060, 'business': 1495, 'parliament': 6328, 'ukraines': 9058, 'crimea': 2355, 'crisis': 2361, 'ukraine': 9057, 'whereby': 9513, 'russian': 7632, 'determination': 2681, 'parliaments': 6329, 'triggered': 8968, 'aid': 605, 'chemical': 1754, 'weapons': 9458, 'persian': 6476, 'gulf': 4074, 'yoho': 9653, '1990': 120, 'answer': 765, 'zero': 9678, 'looser': 5274, 'longer': 5261, 'frame': 3760, 'iraqi': 4726, 'outside': 6205, 'yohos': 9654, 'counting': 2298, 'aug': 979, 'syria': 8594, 'chlorine': 1778, 'insurgents': 4649, 'tokyo': 8844, 'subway': 8469, 'moscow': 5741, 'theater': 8741, 'rescue': 7377, 'loosening': 5273, 'counts': 2303, 'apples': 805, 'international': 4671, 'immediate': 4438, 'legalization': 5115, '1986': 118, 'designed': 2659, 'unauthorized': 9070, 'indefinitely': 4522, 'defers': 2544, 'proponents': 6885, 'refer': 7193, 'provisional': 6934, 'permanent': 6462, 'legalized': 5116, 'meets': 5534, 'benchmarks': 1181, 'appropriates': 827, 'immediately': 4439, 'reasonably': 7121, 'age': 583, 'abject': 403, 'depths': 2640, 'great': 4019, 'eased': 3021, '37': 222, 'threshold': 8799, 'disproportionately': 2813, 'exaggerate': 3297, 'scale': 7711, 'holder': 4290, 'supportive': 8531, 'naacps': 5806, 'protected': 6907, 'backs': 1037, 'investigation': 4702, 'appears': 800, 'teachers': 8657, '89': 362, 'educated': 3051, 'worker': 9600, 'levels': 5152, 'tend': 8688, 'iran': 4721, 'perpetrated': 6468, 'terror': 8707, 'continents': 2187, 'widely': 9534, 'specificity': 8195, 'tehran': 8675, 'perpetrating': 6469, 'indicated': 4532, 'apparent': 792, 'material': 5442, 'referred': 7200, 'duty': 2999, 'technologies': 8668, 'strategies': 8385, 'deployment': 2629, 'pearl': 6407, 'harbor': 4128, 'stretch': 8399, 'missions': 5670, 'globally': 3946, 'seeing': 7800, 'michelle': 5594, 'mandates': 5368, 'weighing': 9479, 'bloggers': 1276, 'unanimous': 9069, 'consentin': 2123, 'motion': 5751, 'eating': 3028, 'monitoring': 5709, 'periodically': 6459, 'participating': 6337, 'headlines': 4180, 'posts': 6687, 'painted': 6290, 'sweeping': 8576, 'requirement': 7372, '27': 195, 'version': 9288, 'corrects': 2266, 'error': 3244, 'posting': 6685, 'speed': 8204, 'rail': 7042, 'wisconsins': 9564, 'wind': 9551, 'petri': 6501, 'id': 4400, 'blown': 1281, 'signing': 8000, 'condemned': 2074, 'tuition': 9006, 'covers': 2318, 'instruction': 4639, 'uga': 9052, 'fees': 3539, '342': 213, 'cannot': 1565, 'lawful': 5064, 'millsaps': 5622, 'regents': 7229, 'approaches': 824, 'conclude': 2066, 'educating': 3052, 'financing': 3593, 'implemented': 4456, 'accept': 429, 'entities': 3206, 'gordeuk': 3970, 'transfer': 8922, 'handled': 4117, 'packers': 6280, 'games': 3852, 'viking': 9317, 'fix': 3627, 'socialist': 8110, 'organization': 6160, 'quarterbacks': 7000, 'brett': 1398, 'favre': 3515, 'aaron': 389, 'rodgers': 7546, 'sens': 7837, 'markey': 5414, 'al': 629, 'franken': 3769, 'jeanne': 4796, 'shaheen': 7889, 'bribes': 1403, 'insane': 4612, 'nuke': 5991, 'internet': 4672, 'donations': 2898, 'iranian': 4722, 'allegation': 659, 'glosses': 3949, 'received': 7138, 'executive': 3338, 'apprehension': 820, 'detention': 2679, 'merely': 5565, 'respiratory': 7409, 'illness': 4428, 'infowars': 4584, 'com': 1949, 'fundamental': 3818, 'misreading': 5661, 'entering': 3197, 'crossing': 2382, 'lines': 5210, 'plays': 6594, 'serious': 7855, 'involves': 4717, 'lesser': 5142, 'offenses': 6058, 'abele': 394, 'uwm': 9242, 'runs': 7621, 'jails': 4780, 'patrols': 6376, 'freeways': 3783, 'rely': 7289, 'components': 2037, 'huge': 4362, 'recipients': 7149, 'owning': 6267, 'gunsbloggers': 4080, 'tribune': 8961, 'exaggeration': 3300, 'declared': 2514, 'mentally': 5558, 'incompetent': 4508, 'thus': 8808, 'ineligible': 4559, 'targeted': 8632, 'blocking': 1274, 'purchases': 6963, 'seizures': 7813, 'newly': 5897, 'backgroundcheck': 1032, 'sadler': 7646, 'authored': 987, '1992': 123, 'resulted': 7435, 'explored': 3391, 'options': 6145, 'sadlers': 7647, 'rejoinder': 7263, 'unlike': 9158, 'super': 8512, 'pac': 6272, 'tweeted': 9030, 'don': 2893, 'billionaires': 1233, 'affiliated': 564, 'appeared': 799, 'fundraiser': 3822, 'meanwhile': 5506, 'disassociated': 2767, 'historical': 4276, 'historic': 4275, 'born': 1341, 'census': 1673, 'bureau': 1472, 'broken': 1429, 'probable': 6816, 'gillespies': 3924, 'lobbied': 5242, 'dictator': 2713, 'awaiting': 1010, 'trial': 8960, 'warners': 9410, 'ivory': 4770, 'coast': 1905, 'whose': 9531, 'ruler': 7611, 'gbagbo': 3877, 'ads': 535, 'brutal': 1440, 'leave': 5098, 'disclosures': 2778, 'indicate': 4531, 'clients': 1863, 'charged': 1732, 'humanity': 4366, 'firms': 3618, 'universitys': 9153, 'coach': 1901, 'moran': 5725, 'guaranteed': 4060, 'coaches': 1902, 'salaries': 7657, 'universities': 9150, 'foundations': 3751, 'endorsements': 3163, 'broadcast': 1419, 'direct': 2750, 'subsidy': 8457, '34': 211, 'violence': 9330, 'spreading': 8242, 'mexico': 5588, 'youve': 9672, 'bullets': 1466, 'hitting': 4281, 'el': 3079, 'paso': 6354, 'bombs': 1316, 'exploding': 3388, 'area': 850, 'consulate': 2159, 'reopens': 7320, 'husband': 4380, 'gunned': 4077, 'drove': 2970, 'car': 1584, 'bridge': 1404, 'juarez': 4847, 'thoroughfare': 8784, 'perrys': 6472, 'across': 473, 'pasos': 6355, 'seat': 7774, 'exploded': 3386, 'decriminalizing': 2524, 'marijuana': 5403, 'edwards': 3057, 'advocates': 557, 'substantiate': 8462, 'concrete': 2072, 'applicants': 807, 'invited': 4711, 'speakers': 8183, 'handguns': 4114, 'campus': 1547, 'classrooms': 1850, 'npr': 5980, 'ut': 9235, 'deciding': 2509, 'conceal': 2049, 'holders': 4291, 'naming': 5811, 'names': 5810, 'uts': 9238, 'separately': 7847, 'identified': 4407, 'graduate': 3994, 'continuing': 2193, 'seek': 7801, 'applying': 813, 'resisted': 7399, 'invitation': 4710, 'relenting': 7279, 'wildly': 9542, 'unpopular': 9166, 'contradicts': 2206, 'ingrahams': 4587, 'showing': 7969, 'feelings': 3537, 'personally': 6482, 'irs': 4735, 'scandal': 7716, 'behavior': 1162, 'rogers': 7549, 'interviewed': 4682, 'skeptical': 8040, 'met': 5575, 'adverb': 544, 'murky': 5790, 'descriptor': 2651, 'tsa': 9001, 'priv': 6807, 'cards': 1589, 'airport': 623, 'oregon': 6155, 'nov': 5974, 'fate': 3501, 'dmv': 2858, 'driver': 2961, 'prove': 6921, 'residency': 7391, 'supporters': 8529, 'airplanes': 622, 'planes': 6573, 'forty': 3740, 'overstaying': 6249, 'visas': 9340, 'roots': 7571, '1990s': 121, 'analysts': 728, 'demographer': 2596, 'trends': 8957, 'acceptable': 430, 'lee': 5106, 'fisher': 3621, 'countless': 2299, 'element': 3093, 'needed': 5862, 'scientists': 7747, 'arctic': 848, 'ice': 4397, 'summer': 8502, 'prediction': 6738, 'earliest': 3007, 'wider': 9536, 'occur': 6038, 'ilana': 4422, 'shafran': 7888, 'mandels': 5372, 'stake': 8266, 'forest': 3718, 'enterprises': 3198, 'constitutes': 2150, 'shares': 7906, 'conflict': 2093, 'incorrect': 4512, 'abstained': 422, 'strictly': 8407, 'principle': 6795, 'willing': 9547, 'bet': 1202, 'mandel': 5370, 'ownership': 6266, '1999': 130, 'advisory': 553, 'opinion': 6125, 'appear': 796, 'communications': 1992, 'director': 2755, 'anita': 750, 'dunn': 2991, 'mao': 5390, 'tse': 9002, 'tung': 9009, 'philosophers': 6517, 'exceptions': 3321, 'columns': 1948, 'pro': 6815, 'con': 2048, 'purposeful': 6969, 'commentators': 1968, 'laughs': 5058, 'beat': 1133, 'drum': 2974, 'heavily': 4197, 'surprising': 8551, 'network': 5882, 'blogs': 1277, 'syndicated': 8592, 'versions': 9289, '250': 189, 'texans': 8720, 'van': 9253, 'de': 2474, 'putte': 6981, '588': 287, 'perished': 6461, 'texan': 8719, 'dec': 2500, '24': 182, 'bowl': 1361, 'everybodys': 3285, 'estimation': 3261, 'lobbyist': 5246, 'ron': 7562, 'commissioned': 1977, 'host': 4334, 'broad': 1418, 'usual': 9233, 'reviewed': 7465, 'generated': 3890, 'economics': 3035, 'boosters': 1333, 'routinely': 7592, 'inflate': 4571, 'fail': 3453, 'locally': 5250, 'corporate': 2254, 'chains': 1702, 'triple': 8974, 'widespread': 9537, 'guy': 4086, 'tearing': 8662, 'abraham': 415, 'lincoln': 5205, 'established': 3254, 'misattributed': 5649, 'politically': 6627, 'minister': 5636, 'lincolns': 5206, 'assassination': 900, 'wealthy': 9456, 'ever': 3282, 'progressive': 6854, 'beaverton': 1136, 'homeless': 4304, 'compare': 2004, 'assembly': 905, 'amend': 702, 'starts': 8289, 'drive': 2959, 'pension': 6432, '26': 192, 'opb': 6109, 'amason': 694, 'austins': 984, 'wastewater': 9429, 'biggest': 1224, 'residential': 7393, 'depends': 2624, 'biennium': 1220, 'secondary': 7779, '1000': 16, 'accounted': 445, 'pers': 6474, 'alone': 679, 'becca': 1141, 'uherbelau': 9053, 'spokeswoman': 8229, 'represent': 7353, 'vetting': 9298, 'kitzhaber': 4945, 'occasions': 6032, 'cover': 2314, 'checked': 1750, 'verified': 9284, 'hillary': 4260, 'labeled': 4983, 'youth': 9670, 'superpredators': 8520, 'priebussaid': 6787, 'midst': 5600, 'championing': 1716, 'husbands': 4381, 'superpredator': 8519, 'gangs': 3853, 'label': 4982, 'subsequent': 8452, 'inference': 4566, 'cancel': 1553, 'ezekiels': 3429, 'assertion': 910, 'hinges': 4265, 'technicality': 8665, 'insurers': 4648, 'comply': 2035, 'policyholders': 6623, 'grandfathered': 4003, 'influencing': 4579, 'eventually': 3281, 'standards': 8275, 'ezekiel': 3428, 'emanuel': 3117, 'key': 4917, 'medical': 5523, 'reserved': 7385, 'nondisabled': 5939, 'disabled': 2760, 'ideas': 4404, 'practical': 6705, 'hefty': 4204, 'unequivocal': 9120, 'euthanasia': 3269, 'assisted': 922, 'contribute': 2210, 'learned': 5095, 'vrs': 9369, 'mcdonnell': 5488, 'reporters': 7349, 'badly': 1045, 'noble': 5924, 'goal': 3954, 'reversal': 7460, 'nonetheless': 5941, 'arms': 870, 'protect': 6906, 'carson': 1612, 'ussr': 9232, 'committing': 1986, 'protecting': 6908, 'medicine': 5526, 'contrasting': 2209, 'date': 2462, 'pool': 6644, 'losing': 5283, 'lip': 5219, 'brinkmanship': 1414, 'plenty': 6600, 'notice': 5969, 'experimental': 3374, 'evaluate': 3270, 'discretionary': 2784, 'anytime': 776, 'soon': 8149, 'try': 8999, 'push': 6975, 'lottery': 5290, 'scholarship': 7735, 'proceeds': 6824, 'berke': 1195, 'kyle': 4979, 'memphis': 5552, 'roy': 7598, 'herron': 4233, 'dresden': 2953, 'gresham': 4034, 'tabled': 8603, 'quibble': 7011, 'semantics': 7827, 'chairwoman': 1706, 'separate': 7846, 'qualifies': 6989, 'member': 5542, 'minute': 5645, 'confederate': 2084, 'south': 8165, 'flown': 3670, 'statehouse': 8294, '1961': 98, 'symbol': 8588, 'resistance': 7398, 'desegregation': 2652, 'robinson': 7540, 'carolinas': 1603, 'hoisted': 4287, 'flew': 3643, 'opening': 6113, 'ceremonies': 1687, 'centennial': 1675, 'celebration': 1669, 'deliberate': 2574, 'completely': 2026, 'circumstantial': 1812, 'divisions': 2854, '1950s': 91, '1960s': 97, 'deems': 2528, 'arrogance': 881, 'dismissiveness': 2801, 'derision': 2643, 'dictating': 2712, 'acting': 476, 'unilaterally': 9139, 'reviewing': 7466, 'couldn': 2283, 'diagnosis': 2707, 'faces': 3436, 'themes': 8748, 'often': 6075, 'repeats': 7336, 'educate': 3050, 'competitive': 2015, 'marketplace': 5411, 'unsustainable': 9185, 'lays': 5078, 'warning': 9411, 'dominance': 2890, 'threats': 8797, 'china': 1775, 'islamic': 4744, 'jihadists': 4816, 'writes': 9628, 'proudly': 6920, 'continually': 2189, 'apologize': 786, 'admit': 525, 'sort': 8151, 'yourself': 9669, 'philosophical': 6518, 'discover': 2781, 'really': 7116, 'sincere': 8014, 'wiping': 9561, '401': 232, 'entirely': 3204, 'osama': 6168, 'bin': 1236, 'laden': 4993, 'ladens': 4994, 'criticizing': 2371, 'unfocused': 9130, 'complained': 2020, 'shifting': 7932, 'kosovo': 4963, 'strong': 8419, 'enemy': 3168, '1998': 129, 'retaliatory': 7443, 'mission': 5669, 'camps': 1546, 'escaped': 3246, 'mincing': 5626, 'exterminate': 3413, 'strike': 8408, 'qaida': 6983, 'gubernatorial': 4064, 'kaines': 4883, 'mainly': 5340, 'consists': 2141, 'ran': 7062, 'backfill': 1030, 'friends': 3795, 'sister': 8024, 'becauseblue': 1139, 'shield': 7929, 'pulled': 6948, 'coulter': 2285, 'thrown': 8805, 'blue': 1285, 'looking': 5269, 'presented': 6758, 'pull': 6947, 'existing': 3350, 'facts': 3449, 'coulters': 2286, 'woman': 9584, 'elected': 3083, '63': 303, 'conditions': 2079, 'diminish': 2740, 'phasing': 6511, '2017': 155, 'renaccis': 7308, 'column': 1947, 'explain': 3380, 'genuinely': 3900, 'cook': 2237, 'listed': 5222, 'toss': 8867, 'ups': 9205, 'lean': 5088, 'partisan': 6342, 'jacobson': 4777, 'compiled': 2018, 'related': 7264, 'barrows': 1100, 'assessment': 914, 'recalled': 7133, 'reaches': 7098, '99': 383, '900': 365, 'lance': 5007, 'hits': 4280, 'equal': 3223, 'constantly': 2147, 'lances': 5008, 'www': 9633, 'usdebtclock': 9223, 'org': 6158, 'sets': 7871, 'ready': 7106, 'gallups': 3848, 'reflected': 7205, 'hell': 4210, 'likes': 5193, 'georgias': 3906, 'vowed': 9368, 'script': 7765, 'hear': 4189, 'missile': 5666, 'nyet': 6004, 'johnsons': 4828, 'technical': 8664, 'spends': 8211, 'print': 6797, 'sell': 7821, 'online': 6103, 'scientific': 7745, 'web': 9464, 'search': 7770, 'perdues': 6448, 'popular': 6650, 'adds': 504, 'nuance': 5986, 'ryan': 7638, 'blueprints': 1287, 'fundamentally': 3819, 'voucher': 9365, 'entitlement': 3208, 'tries': 8967, 'rein': 7255, 'controlling': 2219, 'physicians': 6531, 'reimbursed': 7252, 'kicked': 4923, 'crooked': 2375, 'cops': 2243, 'rolls': 7558, 'fernandez': 3556, 'thanks': 8728, 'solicitor': 8126, 'accountable': 444, 'pursuing': 6973, '245': 185, 'success': 8473, 'fails': 3456, 'repealing': 7331, 'allen': 665, 'cites': 1817, 'near': 5852, 'closest': 1886, '701': 321, 'nonpartisan': 5943, '109': 24, 'legislatures': 5127, 'midnight': 5599, 'ralston': 7057, 'implied': 4460, 'chambers': 1714, 'nationally': 5833, 'watching': 9433, 'adjourn': 511, 'slipping': 8073, 'rankings': 7071, 'administered': 519, 'overlooks': 6223, 'mid': 5596, 'rebounded': 7128, 'published': 6945, 'exam': 3302, 'ranked': 7069, 'ignored': 4416, 'edged': 3043, 'remained': 7292, '50th': 264, 'percentile': 6444, 'science': 7744, 'oecd': 6050, 'unions': 9142, 'stance': 8271, 'marriage': 5416, 'publication': 6942, 'sacrified': 7642, 'banned': 1078, 'headed': 4178, 'stories': 8372, 'supposition': 8535, 'tested': 8713, 'statewide': 8301, 'conflicted': 2094, 'chris': 1787, 'vetoed': 9295, 'ranks': 7072, 'periods': 6460, 'garden': 3862, 'faring': 3488, '70': 318, 'collective': 1936, 'bargaining': 1089, 'franklin': 3770, 'wisconsinites': 9563, 'staff': 8260, 'cite': 1815, '10s': 25, 'speculation': 8200, 'sherrod': 7927, 'executives': 3339, 'enable': 3145, 'bonus': 1323, 'importantly': 4467, 'aig': 610, 'tough': 8876, 'constitution': 2152, 'prevented': 6779, 'seated': 7775, 'climate': 1865, 'hoax': 4284, 'invented': 4694, 'tweet': 9029, 'view': 9309, 'feels': 3538, 'estate': 3256, 'developer': 2692, 'joke': 4834, 'tweets': 9031, 'appearances': 798, 'repeated': 7333, 'jan': 4783, '2016': 154, 'climatechange': 1866, 'bernie': 1198, 'stage': 8263, 'relative': 7271, 'theoretically': 8751, 'pitted': 6559, 'personalities': 6481, 'substantial': 8460, 'baggage': 1046, 'bottle': 1351, 'deposit': 2635, 'bottles': 1352, 'double': 2914, 'skin': 8049, 'provoked': 6936, 'infamous': 4563, 'response': 7413, 'asking': 897, 'simple': 8007, 'survivors': 8560, 'hearing': 4191, 'phoned': 6520, 'compound': 2038, 'alleged': 662, 'protests': 6918, 'exasperated': 3310, 'kasim': 4891, 'promise': 6866, 'wave': 9442, 'magic': 5332, 'wand': 9397, 'things': 8770, 'foot': 3695, 'dragging': 2940, 'concede': 2051, 'cynics': 2438, 'window': 9554, 'pledges': 6598, 'mining': 5635, 'wmc': 9578, 'tank': 8625, 'landed': 5011, 'numerous': 5996, 'developing': 2693, 'methodology': 5580, 'illustrates': 4431, 'flaws': 3639, 'comparisons': 2009, 'answered': 766, 'surveys': 8557, 'overdoses': 6212, 'crashes': 2332, 'raw': 7093, 'surpassed': 8547, 'motor': 5755, 'vehicle': 9272, 'flipped': 3651, 'schimel': 7731, 'connecticut': 2112, 'outperform': 6199, 'averages': 1005, 'arent': 853, 'definitive': 2556, 'subjects': 8449, 'quantify': 6996, 'classes': 1845, 'totaled': 8869, 'areas': 851, 'heres': 4227, '95': 372, 'arts': 890, '97': 377, '82': 350, '92': 367, 'grades': 3990, 'outperformed': 6200, 'substituted': 8465, 'risen': 7516, 'combining': 1956, 'performed': 6454, 'scoring': 7754, 'scored': 7752, '54': 274, 'overstated': 6244, 'scotts': 7756, 'floridas': 3665, 'release': 7276, 'tens': 8694, 'thousands': 8792, 'prisoners': 6805, 'murderers': 5786, 'rapists': 7075, 'sex': 7880, 'offenders': 6055, 'robbers': 7534, 'dealers': 2483, 'shy': 7983, 'predictions': 6739, 'accomplishment': 439, 'teach': 8654, 'kindergartners': 4934, 'youngsters': 9666, 'instructional': 4640, 'sexual': 7881, 'advances': 540, 'nonconsensual': 5938, 'physical': 6529, 'contact': 2173, 'forcing': 3710, 'va': 9243, 'prefer': 6741, 'monica': 5707, 'lewinsky': 5156, 'rev': 7454, 'spiritual': 8224, 'counseling': 2290, 'marital': 5405, 'difficulties': 2729, 'leaders': 5081, 'interaction': 4663, 'market': 5408, 'jones': 4838, 'norm': 5953, '2004': 140, 'expert': 3375, 'indicating': 4534, 'turnover': 9022, 'enter': 3195, 'purpose': 6968, 'dropping': 2968, 'canceling': 1555, 'altogether': 691, 'red': 7174, 'camera': 1538, 'radar': 7035, 'accident': 434, 'occurring': 6040, 'mccarey': 5477, 'penn': 6428, 'pushed': 6976, 'bicycle': 1215, 'philadelphia': 6513, 'extension': 3409, 'pilot': 6547, 'speeding': 8205, 'cameras': 1539, 'roosevelt': 7569, 'boulevard': 1355, 'detection': 2677, 'highways': 4256, 'cyclist': 2436, 'reduced': 7182, 'dominique': 2892, 'lord': 5279, 'efficacy': 3063, 'crash': 2330, 'loretta': 5280, 'lynch': 5312, 'opened': 6112, 'determine': 2682, 'shooting': 7943, 'charleston': 1738, 'absence': 418, 'tragedy': 8907, 'drawn': 2948, 'ones': 6101, 'marcy': 5398, 'kaptur': 4888, 'aborting': 410, 'baby': 1023, 'girl': 3930, 'sole': 8123, 'consistent': 2139, 'roll': 7554, 'effects': 3062, 'consequences': 2125, 'sponsor': 8230, 'acknowledged': 466, 'compact': 1997, 'medicares': 5525, 'tennessees': 8693, 'shift': 7930, 'management': 5362, 'tenncare': 8691, 'oversight': 6239, 'strings': 8415, 'attached': 946, 'predict': 6735, 'endangered': 3157, 'beneficiaries': 1183, 'engage': 3175, 'semantic': 7826, 'precipitous': 6723, 'withdrawal': 9572, 'rnc': 7527, 'progress': 6853, '47th': 253, 'losses': 5285, 'ranking': 7070, 'tenure': 8698, 'exaggerated': 3298, 'stress': 8395, 'slower': 8079, 'successive': 8476, 'weakens': 9450, 'redfern': 7175, '1936': 86, '1940': 88, 'videos': 9307, 'insulting': 4645, 'islam': 4743, 'muslims': 5799, 'recruit': 7170, 'radical': 7036, 'expect': 3359, 'frenzy': 3785, 'shabaab': 7884, 'site': 8026, 'intelligence': 4651, 'distributed': 2835, 'musical': 5797, 'mamma': 5358, 'mia': 5589, 'example': 3307, 'performances': 6453, 'weeks': 9477, 'exceeds': 3315, 'room': 7567, 'tickets': 8811, 'capacity': 1572, 'alfred': 648, 'branch': 1377, 'editor': 3046, 'ticketnews': 8810, 'sellout': 7824, 'nights': 5913, 'troop': 8980, 'timeframe': 8823, 'similarity': 8005, 'closer': 1885, 'advocating': 558, 'stretches': 8401, 'timeline': 8824, 'grant': 4007, 'effective': 3059, 'omalley': 6090, 'jerseys': 4810, 'regional': 7232, 'malley': 5357, 'refuses': 7218, 'acknowledge': 465, 'jerusalem': 4811, 'israel': 4752, 'therjc': 8759, 'sbrochure': 7710, 'portrays': 6670, 'betrayal': 1204, 'ally': 677, 'acontinuation': 469, 'formally': 3727, 'recognize': 7152, 'sovereignty': 8171, 'cia': 1803, 'israels': 4755, 'footnote': 3699, 'websites': 9468, 'senator': 7830, 'steering': 8328, 'crucial': 2391, 'granting': 4009, 'conceive': 2055, 'crowds': 2388, 'prominent': 6865, 'thompson': 8781, 'authorship': 995, 'modified': 5698, 'automobile': 1000, 'accidents': 436, 'caused': 1652, 'texting': 8723, 'driving': 2963, 'wheel': 9508, 'distracted': 2833, 'phones': 6521, 'course': 2310, 'sector': 7791, 'comparing': 2007, 'else': 3110, 'artificially': 887, 'inflates': 4573, 'admits': 526, 'nazis': 5846, 'socialists': 8111, 'villalba': 9318, 'calls': 1535, 'intended': 4654, 'neatly': 5856, 'brigades': 1409, 'army': 872, 'cheney': 1757, 'precise': 6725, 'june': 4863, 'situation': 8029, 'weight': 9482, 'pounds': 6692, 'chances': 1719, 'dying': 3003, 'peel': 6412, 'youre': 9668, 'researchers': 7383, 'divided': 2848, 'demanding': 2586, 'honda': 4312, 'fits': 3623, 'picking': 6535, 'hondas': 4313, 'hesso': 4237, 'bipartisan': 1245, 'academia': 425, 'hess': 4236, 'dissertation': 2824, 'wayne': 9445, 'portmans': 6667, 'neighborhood': 5875, '675': 315, 'owner': 6264, 'occupied': 6036, '311': 206, '475': 252, 'zillow': 9683, 'west': 9498, '202': 158, '600': 293, 'lives': 5233, 'im': 4433, 'groundhog': 4047, 'shadow': 7886, 'seen': 7808, 'stood': 8364, 'convention': 2224, 'critique': 2373, 'suss': 8565, 'porter': 6660, 'profile': 6845, 'punxsutawney': 6958, 'british': 1416, 'millennials': 5617, 'overwhelmingly': 6255, 'european': 3267, 'union': 9141, 'brexit': 1401, 'referendum': 7198, 'polling': 6634, 'generational': 3892, 'divide': 2847, 'younger': 9664, 'favored': 3511, 'remaining': 7293, 'staying': 8316, 'generations': 3893, 'drafting': 2938, 'item': 4763, 'journal': 4842, 'sentinels': 7845, 'page': 6283, 'feb': 3525, 'refers': 7202, 'toa': 8837, 'analyst': 727, 'financed': 3589, 'parking': 6325, 'greco': 4023, 'overlooked': 6221, 'jeb': 4798, 'winner': 9555, 'everything': 3289, 'setting': 7872, 'allowing': 674, 'loesch': 5254, 'matches': 5439, 'preliminary': 6745, 'incomplete': 4509, 'notices': 5970, 'replacement': 7340, 'constant': 2146, 'churn': 1802, 'loeschs': 5255, 'cancellations': 1557, 'annual': 759, 'retirees': 7447, '716': 327, 'sen': 7828, 'denier': 2605, 'organizing': 6162, 'sound': 8157, 'denying': 2613, 'existence': 3349, 'hypothesis': 4391, 'expressed': 3401, 'opposition': 6136, 'cautiously': 1656, 'proves': 6924, 'february': 3526, 'conceded': 2052, 'opportunities': 6129, 'foodborne': 3692, 'disagree': 2761, 'mead': 5496, 'team': 8659, 'calculations': 1521, 'laboratory': 4986, 'foodnet': 3693, 'approximation': 836, 'hampshires': 4106, 'employers': 3142, 'generalized': 3886, 'zeroing': 9680, 'index': 4526, 'hampshire': 4105, 'ballpark': 1065, 'obrien': 6019, 'misplaced': 5659, 'doyle': 2929, 'argues': 859, '60': 292, 'assumption': 930, 'proportion': 6886, 'realities': 7112, 'accidentally': 435, 'minutes': 5646, 'pornography': 6658, 'boston': 1347, 'night': 5911, 'incident': 4498, 'undoubtedly': 9117, 'viewers': 9311, 'indigestion': 4544, 'user': 9228, 'complaints': 2023, 'cable': 1512, 'provider': 6929, 'equipment': 3233, 'malfunctioned': 5356, 'persons': 6485, 'properly': 6882, 'outlets': 6188, 'backtracked': 1038, 'copies': 2242, '65': 309, 'continues': 2192, 'earned': 3014, '76': 336, '704': 322, 'distinct': 2826, '13': 42, '455': 247, 'navy': 5844, 'naval': 5843, '1969': 103, '612': 299, '280': 200, 'signers': 7996, 'declaration': 2512, 'independence': 4523, 'brave': 1383, 'clergymen': 1858, 'confusion': 2099, 'clergy': 1857, 'studied': 8432, 'doctorates': 2865, 'divinity': 2852, 'designation': 2658, 'jenkins': 4803, 'park': 6323, 'protestant': 6915, 'christians': 1790, 'charles': 1737, 'carroll': 1608, 'maryland': 5426, 'roman': 7559, 'catholic': 1644, 'huckabee': 4360, 'donna': 2900, 'campbell': 1545, 'groceries': 4041, 'wentworth': 9493, '23': 179, 'return': 7450, 'spirit': 8223, 'collected': 1931, 'signals': 7992, 'embrace': 3122, 'sudden': 8479, 'surge': 8542, 'broadening': 1423, 'wedlock': 9471, 'santorums': 7678, 'saudi': 7689, 'arabia': 840, 'borrowed': 1343, 'lenders': 5133, 'allies': 669, 'late': 5044, 'rose': 7574, '05': 8, '62': 301, 'hannity': 4122, 'skyrocketing': 8056, 'cushion': 2422, 'overreached': 6227, 'fastest': 3497, 'tourists': 8881, 'tyrer': 9047, 'development': 2694, 'deltas': 2581, 'flights': 3647, 'marketing': 5410, 'germany': 3908, 'tourist': 8880, 'destination': 2668, 'tourism': 8879, 'representative': 7355, 'commissioner': 1978, 'trajectory': 8916, 'towards': 8885, 'refute': 7220, 'deficits': 2546, 'allens': 666, 'surpluses': 8549, 'starting': 8288, 'maintained': 5343, 'prevailed': 6777, 'smidgen': 8092, 'creates': 2337, 'path': 6368, 'step': 8334, 'guess': 4065, 'fried': 3791, 'butter': 1500, 'newark': 5892, 'buono': 1469, 'christies': 1792, 'trips': 8978, 'citys': 1824, 'participate': 6335, 'reducing': 7184, 'requires': 7374, 'boards': 1296, 'saturday': 7688, 'noon': 5948, 'returning': 7452, 'correctly': 2265, 'transportation': 8934, 'experienced': 3371, 'overruns': 6231, 'assumes': 929, 'liable': 5159, 'keen': 4899, 'embracing': 3124, 'capped': 1578, 'hoped': 4324, 'final': 3585, 'rewrite': 7474, 'fit': 3622, 'narrative': 5820, 'profits': 6848, 'quadrupled': 6984, 'regained': 7222, 'adequately': 507, 'consolidation': 2143, 'healthcare': 4185, 'wasteful': 9428, 'bureaucracy': 1474, 'providers': 6930, 'incur': 4520, 'considerable': 2131, 'dealings': 2485, 'leaner': 5089, 'williamson': 9546, 'payer': 6394, 'wring': 9624, 'nominating': 5931, 'professional': 6840, 'nominated': 5930, 'activist': 481, 'surgeon': 8544, 'murthy': 5793, 'credentials': 2343, 'enacting': 3147, 'murthys': 5794, 'platform': 6585, 'inaccurateto': 4486, 'oct': 6043, 'frazier': 3776, 'crowley': 2389, 'arrested': 876, 'madison': 5326, 'dane': 2450, 'thisitem': 8778, 'shegenerated': 7920, 'cola': 1921, 'adjustment': 514, 'obviously': 6029, 'atheists': 937, 'belief': 1166, 'god': 3956, 'legalizing': 5117, 'marriages': 5417, 'combined': 1955, 'cape': 1574, 'cumberland': 2409, 'salem': 7660, 'atlantic': 943, 'mason': 5428, 'dixon': 2856, 'boundary': 1359, '1760s': 65, 'settle': 7873, 'dispute': 2816, 'jason': 4792, 'isaac': 4737, 'peddling': 6409, 'peddle': 6408, 'owes': 6260, 'vendors': 9276, 'outstanding': 6207, 'debts': 2498, 'exceeding': 3313, 'recoup': 7165, 'stolen': 8362, 'deadbeat': 2477, 'guest': 4068, 'aliens': 652, 'laborers': 4987, 'aren': 852, 'authorized': 993, 'apparently': 793, 'spoken': 8227, 'benedict': 1182, 'temperature': 8683, 'readings': 7105, 'fabricated': 3432, 'blowing': 1280, 'perino': 6457, 'upended': 9199, 'theories': 8752, 'believeshe': 1171, 'relied': 7283, 'telegraph': 8676, 'skeptic': 8039, 'andblogger': 734, 'hetold': 4239, 'challenging': 1711, 'warming': 9407, 'anomalies': 761, 'contacted': 2174, 'ties': 8817, 'produce': 6830, 'closely': 1884, 'allegations': 660, 'skeptics': 8042, 'temperatures': 8684, 'accountability': 443, 'exceed': 3311, 'diane': 2709, 'ravitch': 7092, 'spans': 8179, 'dips': 2748, 'olds': 6087, 'insignificant': 4617, 'buffett': 1456, 'scrap': 7759, 'peoples': 6436, 'elder': 3080, 'regulation': 7245, 'hard': 4129, 'pin': 6548, '55': 276, 'payment': 6397, 'purchased': 6961, 'multilateral': 5779, 'cafta': 1515, 'characterized': 1728, 'focusing': 3681, 'pacts': 6282, 'serving': 7865, 'bilateral': 1227, 'formal': 3726, 'ohios': 6079, 'blank': 1265, 'ruled': 7610, 'places': 6563, 'qualification': 6985, 'initially': 4593, 'loparo': 5276, 'hypothesized': 4392, 'cap': 1570, 'gops': 3969, 'andrew': 738, 'jackson': 4774, 'feat': 3523, 'deserve': 2654, 'plaudits': 6586, 'basically': 1111, 'sarah': 7680, 'palin': 6300, 'wasilla': 9423, 'assault': 902, 'victims': 9302, 'rape': 7073, 'kits': 4944, 'portrayed': 6669, 'heartless': 4194, 'neglected': 5867, 'aimed': 612, 'commented': 1969, 'approving': 833, 'grads': 3991, 'message': 5572, 'youngest': 9665, 'talent': 8616, 'gwen': 4088, 'southerland': 8166, 'southerlands': 8167, 'earning': 3016, 'listing': 5225, 'supervisor': 8522, 'researcher': 7382, 'lobbying': 5245, 'junior': 4865, 'zone': 9685, 'anecdotes': 743, 'scholarly': 7733, 'articles': 884, 'anxiety': 770, 'prevail': 6776, 'promotion': 6874, 'calledfast': 1532, 'trackcruz': 8896, 'supporter': 8528, 'tpa': 8892, 'fast': 3495, 'issued': 4757, 'op': 6108, 'denouncing': 2609, 'additions': 499, 'export': 3394, 'reauthorization': 7123, 'row': 7595, 'shankland': 7900, 'form': 3725, 'categorical': 1638, 'aids': 609, 'parlance': 6327, 'jolly': 4835, 'peters': 6495, 'conference': 2085, 'guilty': 4073, 'attempting': 954, 'faneuil': 3481, 'operate': 6116, 'exchange': 3325, 'accusation': 454, 'mailer': 5336, 'operating': 6118, 'kind': 4933, 'chilean': 1774, 'privatization': 6811, 'sharron': 7912, 'angle': 747, 'hidden': 4246, 'gaps': 3858, 'chile': 1773, 'understandable': 9107, 'unacceptable': 9067, 'overheated': 6219, 'rhetoric': 7480, 'violator': 9328, 'imagery': 4435, 'goose': 3966, 'stepping': 8335, 'exaggerations': 3301, 'substance': 8458, 'dolphins': 2887, 'stadium': 8258, 'renovation': 7315, '225': 177, '740': 332, 'dade': 2439, 'broward': 1436, 'tacked': 8605, 'extra': 3415, '260': 193, '350': 217, 'omission': 6092, 'construction': 2158, '379': 224, '159': 54, 'hire': 4268, 'penalty': 6424, 'jerseyans': 4809, 'theyll': 8764, 'below': 1177, 'disability': 2758, 'israeli': 4753, 'onepalestinian': 6100, 'jebreal': 4799, 'palestinian': 6299, 'voices': 9350, 'watcher': 9432, 'lopsided': 5278, 'measuring': 5512, 'numberof': 5993, 'sworth': 8585, 'unfold': 9131, '19': 76, '1964': 100, 'supplemental': 8523, 'decreased': 2521, 'self': 7820, 'sufficiency': 8483, 'stagnant': 8264, 'sons': 8148, 'kristan': 4969, 'addresses': 502, 'dating': 2465, 'misdemeanor': 5653, 'disorderly': 2802, 'conduct': 2081, 'pouring': 6694, 'beer': 1151, 'robin': 7539, 'vos': 9358, 'bar': 1084, 'posted': 6684, 'directed': 2751, 'matt': 5451, 'alex': 646, 'staffers': 8261, 'express': 3400, 'gift': 3919, 'maddow': 5322, 'normal': 5954, 'easier': 3022, 'efficient': 3065, 'quicker': 7015, 'unusual': 9189, 'insert': 4615, 'rowing': 7597, 'request': 7367, 'poppell': 6648, 'andjust': 737, 'tie': 8813, 'oversimplification': 6240, 'knows': 4957, 'sorties': 8152, 'base': 1104, 'ordnances': 6154, 'concern': 2059, 'statein': 8295, 'uptick': 9207, 'unconventional': 9085, 'airstrikes': 625, 'strategic': 8384, 'goals': 3955, 'signify': 7999, 'abuse': 423, 'metadata': 5576, 'collectionprogram': 1934, 'respond': 7410, 'misuse': 5680, 'intentional': 4659, 'readers': 7102, 'complexities': 2029, 'fly': 3675, 'height': 4205, 'feet': 3540, 'supermajority': 8517, 'reporter': 7348, 'flags': 3632, 'location': 5251, 'knowledge': 4955, 'monument': 5717, 'pays': 6401, 'payroll': 6400, 'cain': 1516, 'contribution': 2213, 'normally': 5955, 'rollback': 7555, 'proportional': 6887, 'walton': 9396, 'wal': 9384, 'mart': 5422, 'wealth': 9453, '42': 237, 'negative': 5866, 'asset': 916, '41': 234, 'leader': 5080, 'vow': 9367, 'incoming': 4507, 'faulted': 3506, 'estimating': 3260, 'personhood': 6483, 'warner': 9409, 'chairman': 1705, 'expression': 3404, 'foundation': 3750, 'unfairly': 9124, 'tars': 8638, 'chicagoans': 1763, 'volunteered': 9356, 'radicalism': 7037, 'shrinking': 7976, 'partly': 6343, 'winding': 9552, 'overseas': 6233, 'wars': 9415, 'congressionally': 2106, 'enacted': 3146, 'acknowledging': 468, 'caps': 1580, 'supercommittee': 8513, 'evenly': 3277, 'failure': 3457, 'gingrich': 3927, 'hed': 4199, 'houses': 4347, 'overplayed': 6226, 'arguing': 860, 'shrinkage': 7975, 'feel': 3535, 'burtless': 1486, 'straightened': 8381, 'stemmed': 8332, 'wasserman': 9426, 'schultz': 7741, 'followed': 3687, 'environmental': 3217, 'trading': 8901, 'acid': 464, 'rain': 7045, 'clean': 1853, 'air': 614, 'legislations': 5122, 'markets': 5413, 'pollution': 6639, 'langevin': 5023, 'jet': 4812, 'engine': 3177, 'zaccaria': 9674, 'inflating': 4574, 'tag': 8609, 'asserting': 909, 'steve': 8339, 'rothman': 7580, 'auto': 996, 'bailout': 1052, 'automakers': 997, 'pascrell': 6353, 'detroit': 2687, 'assist': 920, 'willingness': 9548, 'topped': 8862, 'fresh': 3789, 'spike': 8213, 'doubtful': 2918, 'leaver': 5100, 'encouraging': 3154, 'perdue': 6447, 'lots': 5288, 'conversation': 2227, 'amending': 704, 'judge': 4848, 'interested': 4665, 'havebeen': 4161, 'reconsidered': 7160, 'amended': 703, 'returned': 7451, 'altered': 686, 'planning': 6576, 'administer': 518, 'ways': 9446, 'floated': 3653, 'admitting': 529, 'overhead': 6217, 'narragansett': 5818, 'pell': 6417, 'promotional': 6875, 'algeria': 649, 'unreported': 9172, 'donation': 2897, 'scarborough': 7719, 'recall': 7132, 'algerias': 650, 'maybe': 5463, 'becomes': 1145, 'demand': 2584, 'cancellation': 1556, 'intentionally': 4660, 'minimums': 5634, 'responded': 7411, 'sub': 8445, 'par': 6313, 'pelosis': 6419, 'direction': 2753, 'takeover': 8613, 'representatives': 7356, 'lamenting': 5006, 'condition': 2077, 'statutory': 8313, 'upper': 9204, 'exhaustive': 3345, 'compute': 2045, 'pack': 6275, 'lighter': 5187, 'advanced': 539, 'nevada': 5886, 'hijacked': 4257, 'ignoring': 4418, 'regular': 7240, 'procedure': 6822, 'ramming': 7059, 'manager': 5363, 'caucuses': 1648, 'delegate': 2570, 'incredibly': 4518, 'confusing': 2098, 'arcane': 845, 'structures': 8425, 'howls': 4355, 'unfairness': 9125, 'corruption': 2271, 'nevadas': 5888, 'solidify': 8129, 'pence': 6425, 'blamed': 1262, 'falling': 3469, 'ballistic': 1061, 'patrol': 6374, 'agent': 589, 'operation': 6119, 'furious': 3828, 'scene': 7724, 'emphatic': 3136, 'ballistics': 1062, 'toll': 8847, 'fulfills': 3811, 'commuters': 1996, 'misses': 5665, 'motorists': 5757, 'tolls': 8848, 'addressed': 501, 'directly': 2754, 'impacted': 4448, 'panhandle': 6306, 'extended': 3407, 'thereafter': 8755, 'sarasota': 7681, 'disaster': 2768, 'jindal': 4818, 'proclamation': 6828, 'timely': 8825, 'pryor': 6939, 'narrowly': 5823, 'picks': 6536, 'central': 1678, 'approve': 831, 'nathan': 5830, 'retain': 7440, 'proposition': 6895, 'passes': 6363, 'presuming': 6773, 'slash': 8060, 'healths': 4187, 'levy': 5155, 'outpace': 6195, 'travis': 8941, 'ultra': 9063, 'millionaire': 5619, 'doggett': 2879, 'skaggs': 8038, 'treasurer': 8944, 'battling': 1125, 'prop': 6880, 'mover': 5767, 'click': 1862, 'ratings': 7086, 'select': 7814, 'prosperity': 6904, 'toole': 8857, '270': 196, 'relatives': 7273, 'quotas': 7022, 'processing': 6826, 'immigrant': 4441, 'brings': 1413, 'lifetime': 5182, 'gingrey': 3926, 'easily': 3023, 'bounds': 1360, 'dozen': 2931, '279': 198, 'nan': 5812, 'athletic': 940, 'departments': 2616, 'fbs': 3518, 'generate': 3889, 'athletics': 941, 'charlotte': 1740, 'ordinance': 6152, 'mccrory': 5483, 'applied': 810, 'accommodation': 437, 'hotels': 4340, 'stores': 8371, 'goods': 3965, 'clubs': 1895, 'nonprofits': 5945, 'viewpoints': 9314, 'odds': 6048, 'heard': 4190, 'josh': 4841, 'ellis': 3107, 'broke': 1428, '2026': 163, 'exhausted': 3344, 'solvent': 8133, 'arab': 839, 'emirates': 3128, 'nonprofit': 5944, 'philanthropy': 6515, 'familys': 3478, 'gore': 3971, 'rusak': 7626, 'celebrate': 1666, '76th': 338, 'birthday': 1249, 'dr': 2934, 'suppose': 8533, 'pauls': 6385, 'farm': 3489, 'bachmann': 1024, 'disclosed': 2775, 'benefiting': 1186, 'crop': 2376, 'friedly': 3792, 'draws': 2949, 'partnership': 6347, 'forward': 3743, 'discrepancy': 2782, 'pronouncements': 6878, '501': 263, 'discriminate': 2785, 'garner': 3864, 'upheld': 9201, 'garnered': 3865, 'pain': 6286, 'wealthier': 9454, 'reversing': 7463, 'alaska': 636, 'keystone': 4919, 'ascribing': 892, 'jump': 4861, 'collapsed': 1925, 'alan': 632, 'grayson': 4018, 'vampire': 9252, 'holocaust': 4300, 'meanings': 5502, 'conveys': 2231, 'horrific': 4330, 'killing': 4929, 'religion': 7285, 'uncapitalized': 9073, 'liken': 5192, 'hung': 4371, 'balance': 1055, 'rescuing': 7379, 'heregularly': 4226, 'saving': 7696, 'amid': 713, 'manufacturers': 5387, 'bankruptcy': 1075, 'bass': 1116, 'privatizing': 6813, 'risking': 7520, 'trillions': 8970, 'wall': 9391, 'individuals': 4549, 'voluntarily': 9354, 'tranchemontagne': 8918, 'pure': 6966, 'devised': 2701, 'frighten': 3796, 'bushs': 1494, 'introduce': 4686, 'equation': 3231, 'vladimir': 9345, 'putin': 6979, 'warships': 9417, 'sea': 7768, 'airlifting': 619, 'afghanistan': 572, 'rove': 7593, 'warship': 9416, 'movements': 5765, 'deliberately': 2575, 'fuzzed': 3834, 'vessels': 9292, 'humanitarian': 4365, 'airlift': 618, 'georgian': 3904, 'calibrated': 1527, 'quickly': 7016, 'forces': 3709, 'contemporary': 2181, 'spinning': 8221, 'nuanced': 5987, 'forceful': 3707, 'inducing': 4553, 'drugs': 2973, 'calendar': 1525, 'monday': 5704, 'chamber': 1712, 'mckoon': 5492, 'become': 1144, 'books': 1327, 'serve': 7858, 'tool': 8856, 'kit': 4943, 'front': 3802, 'barrett': 1096, 'flatly': 3635, 'receptionist': 7144, 'battery': 1121, 'crow': 2385, 'investing': 4705, 'markedly': 5407, '49th': 259, 'spectrum': 8199, 'endured': 3166, 'sharpest': 7910, 'vanilla': 9254, 'soy': 8173, 'latte': 5053, 'sweet': 8577, 'fancy': 3480, 'cup': 2412, 'coffee': 1916, 'shell': 7922, 'considerably': 2132, 'frank': 3768, 'wolf': 9582, 'suspects': 8563, 'appropriations': 829, 'deny': 2612, 'firearm': 3609, 'suspected': 8562, 'abetting': 398, 'terrorism': 8708, 'trample': 8917, 'liberties': 5164, 'innocent': 4603, 'objected': 6012, 'bypassing': 1507, 'judiciary': 4855, 'panel': 6304, 'quashed': 7003, 'mayors': 5467, 'inflammatory': 4570, 'wolfs': 9583, 'spurned': 8248, 'compromise': 2042, 'gall': 3844, 'heroes': 4231, 'thursday': 8807, 'hero': 4230, 'pow': 6696, 'broadly': 1426, 'pows': 6702, 'insinuate': 4618, 'insisted': 4619, 'retired': 7445, 'nee': 5860, 'glaring': 3940, 'falls': 3472, 'visit': 9342, 'planned': 6575, 'parenthood': 6319, 'choose': 1783, 'lt': 5304, 'rebecca': 7126, 'kleefisch': 4948, 'mitchell': 5682, 'womans': 9585, 'clinics': 1872, 'nationals': 5834, 'lie': 5174, 'branded': 1380, 'promising': 6869, 'handing': 4115, 'award': 1011, 'insistence': 4620, 'aca': 424, 'clones': 1881, 'shaping': 7902, 'bears': 1132, 'repeat': 7332, 'pledge': 6596, 'continued': 2191, 'observers': 6024, 'stringent': 8414, 'verification': 9283, 'los': 5281, 'angeles': 746, 'neighborhoods': 5876, 'safe': 7649, 'cleveland': 1860, 'happens': 4126, 'careful': 1592, 'discussing': 2790, 'enticed': 3202, 'harold': 4140, 'metts': 5585, 'remembered': 7298, 'educator': 3056, 'inadvertently': 4489, 'teachable': 8655, 'delaying': 2569, 'ten': 8686, 'norquist': 5957, 'event': 3278, 'specialty': 8190, 'plate': 6582, 'americathats': 712, 'stamping': 8269, 'brly': 1417, 'tru': 8989, 'filming': 3584, 'inside': 4616, 'redrafting': 7179, 'maximizing': 5460, 'manheimer': 5374, 'code': 1912, 'meeting': 5532, 'excluding': 3331, 'cumming': 2410, 'racked': 7034, 'wrongly': 9631, 'iaea': 4395, 'atomic': 945, 'iranians': 4723, 'obligations': 6016, 'peaceful': 6404, 'violation': 9326, 'signatories': 7993, 'nonproliferation': 5946, 'treaty': 8951, 'joint': 4832, 'regard': 7224, 'cheneys': 1758, 'activists': 482, 'reproductive': 7360, 'realize': 7114, 'isall': 4741, 'metro': 5583, '1978': 111, 'confident': 2088, 'todays': 8840, 'hisstatistics': 4273, 'strongly': 8422, 'tied': 8814, 'inevitable': 4561, 'aging': 592, 'boomer': 1328, 'fault': 3505, 'premise': 6747, 'stricklands': 8403, 'trending': 8955, 'utility': 9237, 'flattering': 3636, '559': 280, 'fifth': 3565, '1960': 96, 'buchanan': 1441, 'modern': 5696, 'outnumbered': 6193, 'dominating': 2891, '1930': 84, 'urging': 9216, 'restraint': 7423, 'lamented': 5005, 'yearly': 9644, 'positive': 6676, 'quick': 7014, '158': 53, '241': 183, 'geithner': 3880, 'notes': 5966, 'unusually': 9190, 'correction': 2262, 'inarguably': 4490, 'stronger': 8420, 'identical': 4405, 'cumulative': 2411, 'ephemeral': 3222, 'unforeseen': 9132, 'grandfather': 4002, '1925': 83, 'santorum': 7677, 'longstanding': 5264, 'indigent': 4543, 'painting': 6291, '205': 166, 'miles': 5609, 'carries': 1607, 'traffic': 8905, 'glenn': 3942, 'wide': 9533, 'interstate': 4678, 'dingfelders': 2743, 'cars': 1611, 'travel': 8937, '20th': 169, 'century': 1682, 'truman': 8992, 'catastrophe': 1632, 'duncan': 2989, 'hunter': 4372, 'announcer': 757, 'liberia': 5162, 'dallas': 2443, 'cowboys': 2320, 'consumes': 2171, 'peak': 6405, 'kristof': 4970, 'megawatts': 5537, 'installed': 4628, 'stadiums': 8259, 'medium': 5528, 'sized': 8036, 'countrys': 2302, 'engineering': 3179, 'dallasfootball': 2444, 'spill': 8215, 'blowout': 1282, 'factually': 3451, 'blowouts': 1283, 'following': 3689, 'spills': 8218, 'volume': 9353, 'devastating': 2689, '36': 220, 'declined': 2517, 'expired': 3379, 'triumphantly': 8979, 'declaring': 2515, 'reject': 7259, 'expands': 3356, 'television': 8678, 'audiences': 972, 'series': 7854, 'costing': 2276, 'reimbursement': 7253, '516': 266, 'kick': 4922, '2020': 159, '334': 210, '627': 302, '619': 300, '973': 378, 'rand': 7063, 'denied': 2604, 'powers': 6701, 'nbc': 5848, 'hadnt': 4091, 'removing': 7307, 'quietly': 7017, 'concurrent': 2073, 'resolution': 7401, 'precedent': 6719, 'handful': 4112, '1837': 70, 'vacancies': 9244, 'resisting': 7400, 'nominees': 5935, 'thancommitting': 8726, 'steven': 8340, 'lemieux': 5131, 'earmark': 3009, 'earmarks': 3011, 'nelson': 5880, 'stuffed': 8438, 'predecessor': 6732, 'martinez': 5424, 'reining': 7257, 'moratorium': 5726, 'friend': 3793, 'dog': 2878, 'crowd': 2386, 'toomey': 8859, 'privatize': 6812, 'invest': 4697, 'stock': 8358, 'crashed': 2331, 'emphasize': 3134, 'partial': 6333, 'distort': 2828, 'overhauling': 6216, 'everyones': 3288, 'privately': 6810, 'invested': 4698, 'stocks': 8360, 'mutual': 5801, 'synonymous': 8593, 'sizable': 8034, 'rest': 7418, 'sunni': 8506, 'shiite': 7933, 'minorities': 5640, 'shiites': 7934, 'saddam': 7644, 'hussein': 4382, 'sunnis': 8507, 'division': 2853, 'unify': 9136, 'ive': 4769, 'reserves': 7386, 'viewed': 9310, 'harris': 4141, 'talk': 8617, 'republicansagree': 7363, 'shakier': 7891, 'overturning': 6253, 'bars': 1101, 'usaid': 9221, 'polices': 6620, 'grants': 4010, 'technology': 8669, 'mathematics': 5449, 'degrees': 2563, 'masters': 5433, 'chemistry': 1756, 'physics': 6532, 'drops': 2969, 'economically': 3034, 'fields': 3564, 'computer': 2047, 'messes': 5574, '68': 316, 'incomes': 4506, 'unique': 9143, 'handels': 4111, 'understood': 9114, 'dream': 2950, 'napolitano': 5814, '52': 267, 'minimal': 5631, 'napolitanos': 5815, 'embassies': 3120, 'consulates': 2160, 'sixty': 8033, 'garamendi': 3860, 'considering': 2135, 'ambassadors': 699, 'embassy': 3121, 'traveling': 8940, 'understated': 9111, 'deadly': 2480, 'fatalities': 3499, 'strict': 8404, 'highthe': 4254, 'nationwhich': 5836, 'turnaround': 9017, '86': 356, 'nicks': 5909, 'unreliable': 9171, 'graduates': 3996, 'ninth': 5917, 'middling': 5598, 'completion': 2027, 'measured': 5508, 'newest': 5895, 'indication': 4535, 'stuck': 8429, 'plummeting': 6604, 'looks': 5270, 'display': 2807, 'rifle': 7502, 'perfectly': 6451, 'hashimoto': 4152, 'restricts': 7429, 'openly': 6115, 'carried': 1605, 'rifles': 7503, 'manner': 5379, 'alarm': 633, 'ray': 7094, 'lahood': 4999, 'disable': 2759, 'cripple': 2360, 'clarified': 1838, 'toxic': 8889, 'boon': 1330, 'lester': 5144, 'revisited': 7468, 'industries': 4556, 'releasing': 7278, 'disposing': 2812, 'chemicals': 1755, 'matched': 5438, 'reporting': 7350, 'disposal': 2811, 'pollutants': 6638, 'shami': 7898, 'priority': 6803, 'outlaw': 6185, 'compelling': 2010, 'mcauliffe': 5468, 'mouths': 5761, 'maternal': 5444, 'mortality': 5737, 'dramatically': 2943, 'complications': 2034, 'nationwide': 5837, 'focal': 3677, 'solidified': 8128, 'definitely': 2553, 'gained': 3841, 'stands': 8278, 'contrast': 2208, 'tuned': 9008, 'crunchers': 2396, 'fine': 3598, 'tune': 9007, 'womens': 9587, 'procedures': 6823, 'breast': 1394, 'exams': 3309, 'pap': 6309, 'sti': 8344, 'addressing': 503, 'holly': 4299, 'turner': 9019, 'homestead': 4309, 'exemption': 3342, 'fort': 3734, 'workman': 9606, 'safely': 7651, 'enjoyed': 3184, 'household': 4345, 'tarrant': 8637, 'overreaches': 6228, 'mercedes': 5564, 'benz': 1192, '480': 255, 'openings': 6114, 'spur': 8247, 'receiver': 7139, 'inspector': 4625, 'operations': 6120, 'ineffective': 4558, 'seriously': 7856, 'carolinians': 1604, 'concept': 2058, 'restrooms': 7431, 'bathrooms': 1120, 'etc': 3262, 'civitas': 1829, 'doubts': 2919, 'fromthe': 3801, 'surveyusa': 8558, '56': 281, 'begich': 1154, 'harry': 4142, 'reid': 7250, 'letter': 5148, 'begichs': 1155, 'barnes': 1091, 'attributed': 967, 'backdrop': 1027, 'downturn': 2927, 'penalize': 6421, 'involve': 4714, 'extensive': 3410, 'drastically': 2945, 'shrank': 7972, 'weak': 9448, 'peace': 6403, 'dividend': 2849, 'sheer': 7919, 'useful': 9226, 'floridians': 3666, 'manufacture': 5384, 'possession': 6677, 'lapierre': 5026, 'endorse': 3160, 'questionnaire': 7008, 'distanced': 2825, 'questionnaires': 7009, 'advocacy': 554, 'shadowy': 7887, 'conspiracy': 2144, 'destroy': 2670, 'vaguely': 9246, 'hartsfield': 4145, 'jacksons': 4775, 'terminal': 8700, 'furthermore': 3831, 'decosta': 2519, 'design': 2656, 'delta': 2580, 'balked': 1059, 'backing': 1033, 'threatened': 8795, 'davis': 2468, 'institutes': 4634, 'locations': 5252, 'license': 5170, 'undercounted': 9090, 'presenting': 6760, 'arguably': 855, 'bearing': 1131, 'lived': 5232, 'lacking': 4990, 'drag': 2939, 'schultzs': 7742, 'reduces': 7183, 'overwhelming': 6254, 'apartheid': 779, 'facets': 3437, 'racism': 7032, 'expense': 3367, 'wisdom': 9565, 'postal': 6683, 'excluded': 3330, 'climbs': 1870, 'rigell': 7505, 'forfeits': 3720, 'fcc': 3519, 'ruleskuster': 7613, 'forfeited': 3719, 'wmurs': 9580, 'violated': 9323, 'kuster': 4977, 'advertisements': 546, 'moot': 5723, 'wmur': 9579, 'batchelder': 1117, 'judgeship': 4851, 'unconstitutional': 9084, 'prevents': 6781, 'violates': 9324, 'dealing': 2484, 'partnering': 6345, 'season': 7773, 'motivation': 5754, 'exempt': 3340, 'applications': 809, 'groupslevin': 4051, 'matthews': 5455, 'cincinnati': 1807, 'levin': 5154, 'realistic': 7110, 'mcginley': 5490, 'investigated': 4701, 'explosion': 3393, 'exporting': 3395, 'congressmans': 2108, 'concerning': 2061, 'babies': 1022, 'aborted': 409, 'nyc': 6003, 'formoreon': 3731, 'clarify': 1840, 'aged': 584, 'martin': 5423, 'luther': 5309, 'king': 4936, 'honey': 4315, 'edited': 3044, 'kings': 4938, 'dignity': 2737, 'laughable': 5057, 'disappointed': 2766, 'vietnam': 9308, 'orthodox': 6167, 'conservatism': 2127, 'rainy': 7047, 'natural': 5840, 'buffer': 1455, 'shocks': 7939, 'connection': 2114, 'appeals': 795, 'judges': 4850, 'outgoing': 6184, '1968': 102, 'nominate': 5929, 'appellate': 802, 'nominations': 5933, 'ronald': 7563, 'reagan': 7107, 'elena': 3096, 'parent': 6317, 'accuse': 455, 'conspiring': 2145, 'distortion': 2830, 'corbett': 2245, 'pa': 6271, 'weakest': 9451, '57': 284, 'realistically': 7111, 'macroeconomic': 5320, 'robust': 7541, 'helm': 4212, 'treasury': 8946, 'dates': 2464, 'superficial': 8515, 'extensively': 3411, 'intervention': 4680, 'libya': 5167, 'unseated': 9177, 'libyas': 5169, 'gadhafi': 3839, 'powerful': 6699, 'connected': 2111, 'benefited': 1185, 'causal': 1650, 'murkier': 5789, 'justifies': 4875, 'displaced': 2806, 'feingold': 3541, 'taa': 8600, 'reauthorizing': 7124, 'pare': 6316, 'mob': 5691, 'busted': 1497, 'door': 2908, 'thrust': 8806, 'fitzgeralds': 3625, 'fallout': 3471, 'prompted': 6876, 'authorities': 988, 'unprepared': 9168, 'shut': 7980, 'doors': 2909, 'chose': 1785, 'chosen': 1786, 'rejecting': 7261, 'closed': 1883, 'sites': 8027, 'bresette': 1397, 'closings': 1888, 'squeezes': 8251, 'owners': 6265, 'fraudulent': 3773, 'dead': 2476, 'mental': 5557, 'surfaces': 8541, 'resident': 7392, 'metric': 5582, 'idaho': 4401, 'chuck': 1798, 'hagel': 4093, 'paints': 6292, 'korea': 4961, 'eventual': 3280, 'elimination': 3105, 'caveats': 1658, '2030': 165, 'stockpile': 8359, 'warheads': 9404, '2022': 161, 'achieve': 459, 'stole': 8361, 'invention': 4695, 'inventor': 4696, 'stealing': 8321, 'lawyers': 5072, 'appeal': 794, 'representing': 7358, 'shandong': 7899, 'linglong': 5212, 'rubber': 7602, 'entitlements': 3209, 'understates': 9113, 'england': 3181, 'ignore': 4415, 'margin': 5400, 'ghazal': 3914, 'selective': 7818, 'mosquitoes': 5744, 'catch': 1634, 'bolt': 1311, 'olympic': 6089, 'champion': 1715, 'clocks': 1879, 'female': 3550, 'aegypti': 559, 'vector': 9269, 'cruise': 2394, 'sprints': 8246, 'pinellas': 6549, 'officer': 6064, 'olens': 6088, 'commerce': 1972, 'clause': 1851, 'thathillary': 8731, 'clintonviolated': 1876, 'stating': 8302, 'toughest': 8878, 'theyve': 8766, 'watered': 9437, 'concealed': 2050, 'relaxed': 7274, 'jurisdictions': 4868, 'boundaries': 1358, 'penalties': 6423, 'violating': 9325, 'mandatory': 5369, 'species': 8191, 'delisted': 2577, 'lummis': 5307, 'extinct': 3414, 'weren': 9496, 'negotiations': 5873, 'remark': 7295, 'discussion': 2791, 'frusration': 3804, 'programthe': 6852, 'quarterly': 7001, '989': 382, '58': 286, 'bound': 1357, 'thread': 8793, 'applicable': 806, 'missouri': 5672, 'pet': 6493, 'surrender': 8552, 'humane': 4364, 'society': 8114, 'pets': 6506, 'excess': 3322, 'plastic': 6581, 'bridges': 1405, 'absolute': 419, 'rubbish': 7603, 'encompassing': 3148, 'beckman': 1143, 'persists': 6478, 'environment': 3216, 'burned': 1483, 'degraded': 2561, 'molestation': 5701, 'mike': 5605, 'kilian': 4926, 'managing': 5365, 'observer': 6023, 'dispatch': 2805, 'amazed': 696, 'misunderstanding': 5679, 'pipelinefirst': 6556, 'principal': 6794, 'reapplied': 7118, 'debuted': 2499, 'pipeline': 6555, 'follow': 3686, 'wishes': 9569, 'expediting': 3364, 'definitively': 2557, 'mandela': 5371, 'communist': 1993, 'oreilly': 6157, 'denials': 2603, 'encounters': 3151, 'blacks': 1259, 'whites': 9522, 'criminologists': 2359, 'statisticians': 8308, 'score': 7750, 'loud': 5291, 'youll': 9662, 'destabilize': 2667, 'east': 3025, 'felt': 3548, 'publicly': 6944, 'sentiment': 7844, 'commenting': 1970, 'seemed': 7805, 'apprehensive': 822, 'vehemently': 9271, 'built': 1461, 'fence': 3552, 'san': 7668, 'diego': 2721, 'smuggling': 8100, 'apprehensions': 821, 'neighboring': 5877, 'fenceless': 3553, 'centro': 1679, 'arm': 867, 'smugglers': 8099, 'apprehended': 819, 'crs': 2390, 'doubling': 2916, 'deterred': 2685, 'crossings': 2383, 'hired': 4269, 'rally': 7055, 'kaufman': 4894, 'discussions': 2792, 'todd': 8841, 'professionals': 6842, 'digested': 2732, 'unstable': 9182, 'censorship': 1672, 'responsibility': 7415, 'bing': 1239, 'outweighs': 6208, 'commercialization': 1974, 'sthe': 8343, 'wayminardi': 9444, 'quotes': 7026, 'overlookingimportant': 6222, 'stressing': 8398, 'fairly': 3460, 'mississippi': 5671, 'greatest': 4021, '22nd': 178, 'fatality': 3500, '13th': 45, 'planebo': 6572, 'maine': 5339, 'trip': 8973, 'traveled': 8938, 'owned': 6263, 'figured': 3570, 'satirical': 7685, 'reader': 7101, 'entries': 3213, 'straight': 8380, 'gulfstream': 4075, 'g3': 3836, 'limitations': 5201, 'trenton': 8958, 'runway': 7623, 'earnings': 3017, 'enrollees': 3190, 'unrealistic': 9169, 'expound': 3399, 'closing': 1887, 'doughnut': 2920, 'hole': 4296, 'disappear': 2765, 'assure': 932, 'ethics': 3264, 'panels': 6305, 'consent': 2122, 'committees': 1985, 'counsel': 2289, 'substantive': 8463, 'notably': 5963, 'recommendation': 7155, 'summing': 8503, 'essentially': 3250, 'transformed': 8925, 'franchise': 3765, 'bramnick': 1375, 'bramnicks': 1376, 'insure': 4647, 'feds': 3532, 'tab': 8601, '2019': 157, 'questions': 7010, 'implementation': 4455, 'duke': 2985, 'collect': 1930, 'charging': 1734, 'crystal': 2402, 'river': 7525, 'uncompleted': 9081, 'operative': 6121, 'crists': 2363, 'ironically': 4730, 'beck': 1142, 'dire': 2749, 'totals': 8873, '28': 199, 'retiree': 7446, 'collecting': 1932, 'paycheck': 6391, 'jorge': 4840, 'elorza': 3109, 'retirement': 7448, 'permission': 6463, 'automatically': 999, 'flagged': 3630, 'secure': 7792, 'kucks': 4973, 'denzel': 2614, 'speaks': 8185, 'attributes': 968, 'clout': 1893, 'hispanic': 4272, 'populations': 6654, 'region': 7231, 'cautioned': 1654, 'gather': 3871, 'informed': 4583, 'reliable': 7281, 'persuaded': 6488, 'gaining': 3842, 'proven': 6923, 'buried': 1480, 'krauthammer': 4967, 'mechanisms': 5517, 'mitigate': 5684, 'krauthammers': 4968, 'bailouts': 1053, 'sequence': 7850, 'outcomes': 6181, 'altering': 687, 'threw': 8800, 'inchains': 4496, 'knees': 4950, 'sight': 7990, 'eve': 3275, 'juneteenth': 4864, 'celebrates': 1668, 'slavery': 8066, 'finer': 3600, 'photograph': 6524, 'alabama': 630, 'observe': 6022, 'leg': 5111, 'irons': 4731, 'thousand': 8791, 'felons': 3547, 'medeiros': 5519, '001': 2, 'opendoors': 6111, 'inmates': 4601, 'appearance': 797, '606': 295, 'enfranchised': 3174, 'begun': 1160, 'mixing': 5689, 'presentation': 6757, 'providencejournal': 6928, 'childhood': 1769, 'obesity': 6010, 'annually': 760, 'learn': 5094, 'healthy': 4188, 'appreciate': 817, 'jon': 4836, 'runyan': 7624, '825': 351, 'empty': 3144, 'impossible': 4472, 'streetcars': 8392, 'buses': 1492, 'attract': 965, 'riders': 7498, 'ride': 7497, 'transit': 8927, 'bus': 1490, 'hales': 4096, 'persuasive': 6490, 'necessity': 5859, 'usefulness': 9227, 'streetcar': 8391, 'factual': 3450, 'recovery': 7169, 'credible': 2345, 'inequality': 4560, 'equally': 3226, 'valid': 9248, 'flint': 3649, 'poisoning': 6618, 'initialphrasing': 4594, 'unclear': 9079, 'noncitizens': 5937, 'oconnor': 6042, 'spot': 8237, 'fraction': 3758, 'grammys': 3999, 'artist': 888, 'alison': 656, 'krauss': 4966, 'beaten': 1134, 'artists': 889, 'album': 642, 'categories': 1639, 'rehearse': 7249, 'drudge': 2971, 'applies': 811, 'journalist': 4843, 'article': 883, 'briefing': 1406, 'opted': 6139, 'carney': 1601, 'experiences': 3372, 'halper': 4101, 'shaky': 7893, 'drew': 2954, 'austerity': 982, 'solace': 8118, 'nursing': 6001, 'pervasive': 6492, 'grievance': 4036, 'animosity': 749, 'dreams': 2951, 'sailer': 7656, 'arguable': 854, 'sentence': 7841, 'rewrote': 7475, 'verbatim': 9281, 'hutson': 4385, 'affront': 571, 'institution': 4635, 'drawing': 2947, 'unflattering': 9129, 'meme': 5545, 'desirable': 2660, 'overshoots': 6238, 'resilience': 7397, 'programming': 6850, 'enhancing': 3183, 'engagement': 3176, 'violent': 9331, 'extremists': 3422, 'blaming': 1263, 'adherents': 509, 'greatly': 4022, 'yanked': 9639, 'questionable': 7006, 'obliquely': 6018, 'defunded': 2559, 'controversy': 2223, 'nj': 5920, 'loans': 5241, 'clayton': 1852, 'achieved': 460, 'milestone': 5610, 'eluded': 3112, 'metropolitan': 5584, 'waller': 9394, 'aware': 1014, 'thin': 8768, 'grandly': 4005, 'workplace': 9607, 'nash': 5828, 'pretends': 6774, 'chicken': 1764, 'farmer': 3490, 'assessors': 915, 'unable': 9065, 'gauses': 3873, 'birthright': 1252, 'switched': 8581, 'clarifying': 1841, '14th': 48, 'regrets': 7239, 'introducing': 4688, 'fined': 3599, 'funneled': 3827, 'fung': 3826, 'braves': 1384, 'homeowners': 4306, 'cobb': 1908, 'lining': 5213, 'stayed': 8315, 'downtown': 2926, 'brokaw': 1427, 'tribute': 8962, 'imagined': 4437, 'rodham': 7547, 'wellesley': 9489, 'commencement': 1965, 'herself': 4234, 'text': 8722, 'appreciation': 818, 'reverse': 7461, 'hostages': 4335, 'perceived': 6440, 'command': 1962, '1981': 114, 'reagans': 7108, 'scholars': 7734, 'carter': 1614, 'negotiated': 5870, 'inauguration': 4492, 'involvement': 4716, 'transition': 8928, 'photo': 6523, 'finland': 3605, 'hockey': 4286, 'sad': 7643, 'dmitry': 2857, 'medvedev': 5529, 'rounds': 7587, 'allegedly': 663, 'russias': 7633, 'victory': 9304, 'slovakia': 8077, 'guessing': 4066, 'circulating': 1810, 'depict': 2625, 'bifurcated': 1221, 'greitens': 4033, 'image': 4434, 'consultants': 2163, 'rebrand': 7129, 'koster': 4964, 'profit': 6847, '990s': 384, '599': 291, 'pr': 6704, 'fleishmanhillard': 3642, 'branding': 1381, 'monitors': 5710, 'charities': 1735, 'legitimate': 5128, 'discussed': 2788, 'boots': 1336, 'florsheim': 3667, 'ankle': 751, 'badger': 1043, 'headquartered': 4181, 'india': 4528, 'skepticism': 8041, 'humans': 4367, 'downplayed': 2924, 'commitment': 1981, 'extraordinarily': 3416, 'download': 2923, 'electronic': 3092, 'mouse': 5759, 'vets': 9296, 'button': 1501, 'barely': 1088, 'duggar': 2983, 'megyn': 5538, 'kelly': 4903, 'stelter': 8330, 'fleeting': 3641, 'kellys': 4904, 'building': 1458, 'fortress': 3738, 'land': 5010, 'grabs': 3986, 'constructed': 2157, 'islands': 4749, 'sa': 7639, 'outposts': 6201, 'purposesamount': 6971, 'memory': 5550, 'nowhere': 5978, 'pantheon': 6307, 'earmarkers': 3010, 'brush': 1439, 'sept': 7848, 'incentive': 4494, 'accumulate': 448, 'convey': 2229, 'unfilled': 9127, '43': 239, 'distorted': 2829, 'translate': 8929, 'uber': 9048, 'drunk': 2975, 'ridesharing': 7500, 'drunken': 2976, 'wilcox': 9539, 'shop': 7945, 'stat': 8291, 'exits': 3352, '1970s': 105, 'studys': 8436, 'dependable': 2618, 'identity': 4409, 'theft': 8744, 'custody': 2423, 'asserted': 908, 'equality': 3225, 'couples': 2308, 'rudimentary': 7607, 'lewis': 5157, 'bouman': 1356, 'gary': 3866, 'macdougal': 5316, 'illlinois': 4427, 'task': 8639, 'downplays': 2925, 'reorganization': 7321, 'booming': 1329, 'helpful': 4215, 'uncovered': 9087, 'deposition': 2636, 'seed': 7798, 'faith': 3463, 'affirmation': 567, 'cultural': 2408, 'swat': 8570, 'raids': 7041, '1980s': 113, 'stacks': 8257, 'kraskas': 4965, 'ongoing': 6102, 'entity': 3210, 'systematically': 8598, 'fourteen': 3755, 'consecutive': 2120, 'ratcliffe': 7078, 'closure': 1889, 'dewhursts': 2704, 'suggestion': 8489, 'savannahs': 7693, 'port': 6659, 'corps': 2257, 'dredging': 2952, 'megaships': 5536, 'flock': 3654, 'deepened': 2530, 'savannah': 7692, 'clarity': 1842, 'from700': 3800, 'concise': 2065, 'waited': 9379, 'trans': 8919, 'pacific': 6274, 'promote': 6870, 'finalized': 3586, 'disingenuous': 2799, 'veto': 9294, 'equivocation': 3237, 'pointing': 6615, 'honorably': 4317, 'corp': 2253, 'larsons': 5039, 'wedc': 9470, 'clarence': 1835, 'recuse': 7173, 'constitutionality': 2154, 'establish': 3253, 'impartiality': 4451, 'weiner': 9485, 'boils': 1306, 'collectively': 1937, 'lizbeth': 5235, 'benacquisto': 1179, 'hiding': 4247, 'contributors': 2216, '673': 314, 'occupation': 6034, 'fairness': 3461, 'inraders': 4610, '104': 20, 'donors': 2903, 'clerk': 1859, 'patsy': 6378, 'rushing': 7629, 'sloppiness': 8075, 'boosting': 1334, 'teen': 8671, 'childs': 1772, 'oklahoma': 6084, 'permitting': 6467, 'mistaken': 5677, 'chu': 1797, 'nightmare': 5912, 'develop': 2690, 'watched': 9431, 'description': 2650, 'inhofe': 4591, 'divorces': 2855, 'aspects': 899, 'disturb': 2842, 'sought': 8156, 'automatic': 998, 'felon': 3546, 'nonviolent': 5947, 'gelber': 3881, 'clemency': 1856, '1975': 108, 'askew': 896, 'cabinet': 1511, 'viewpoint': 9313, 'kudos': 4974, 'regain': 7221, 'kerrys': 4914, '73': 330, '123': 38, 'trough': 8988, 'automotive': 1001, 'ann': 752, 'arbor': 843, 'intermediate': 4669, 'gauge': 3872, 'fulton': 3814, 'elevating': 3097, 'chair': 1703, 'dekalb': 2564, 'structure': 8424, 'cherrystone': 1760, 'investors': 4708, 'horan': 4327, 'peter': 6494, 'dorsey': 2911, 'differs': 2727, 'professionally': 6841, 'managed': 5361, 'equity': 3234, 'partners': 6346, 'mature': 5456, 'specializes': 8189, 'quit': 7019, 'entrepreneurial': 3212, 'timing': 8828, '1950': 90, 'teacher': 8656, '278k': 197, 'misimpression': 5656, 'feedback': 3534, 'invests': 4709, 'wonder': 9589, 'kammen': 4885, 'consulting': 2167, 'booz': 1337, 'hamilton': 4103, 'examined': 3305, 'whole': 9525, 'grosses': 4044, 'inconceivable': 4510, 'jail': 4779, 'exposed': 3396, 'treated': 8948, 'imprisonment': 4475, 'skolniks': 8053, 'confirm': 2090, 'execution': 3336, 'beheading': 1163, 'headlined': 4179, 'coding': 1915, 'predates': 6731, 'classification': 1847, 'relevant': 7280, 'purview': 6974, 'statistical': 8305, 'sandy': 7674, 'hook': 4320, 'stopping': 8367, 'crucially': 2392, 'background': 1031, 'checks': 1753, 'joining': 4831, 'cruzfrequently': 2399, 'shared': 7904, 'unsuccessful': 9184, 'alternative': 688, 'henry': 4220, 'kissinger': 4942, 'precondition': 6729, 'differ': 2722, 'unconditional': 9083, 'summits': 8504, 'issuing': 4759, 'talks': 8620, 'preconditions': 6730, 'neglects': 5868, 'specified': 8197, 'minnick': 5638, 'stupak': 8442, 'barring': 1098, 'accepted': 431, 'subsidizing': 8456, 'conversely': 2228, 'exchanges': 3326, 'patient': 6369, 'biking': 1226, 'pedestrian': 6410, 'pbot': 6402, 'motorcycle': 5756, 'portlands': 6665, 'adams': 492, 'newgard': 5896, 'owed': 6257, 'unpaid': 9165, 'milwaukie': 5625, 'apartment': 780, 'ring': 7511, 'wednesday': 9472, 'corner': 2250, 'cry': 2401, 'blanket': 1266, 'lawscott': 5069, 'fought': 3748, 'rejected': 7260, 'reversed': 7462, 'ver': 9279, 'ordinary': 6153, 'preferred': 6742, 'rested': 7419, 'roundtable': 7588, 'mavens': 5457, 'suspect': 8561, 'cato': 1646, 'libertarian': 5163, 'amnesty': 715, 'alas': 635, 'thoroughly': 8785, 'regulated': 7243, 'skirted': 8052, 'curb': 2413, 'encourage': 3152, 'hiring': 4270, 'migrants': 5604, 'agriculture': 603, 'backlash': 1034, 'legacy': 5112, 'colorado': 1944, 'seizure': 7812, 'peake': 6406, 'explorer': 3392, 'namely': 5809, 'bought': 1354, 'nongroup': 5942, 'thompsons': 8782, 'eye': 3426, 'catching': 1636, 'daraprim': 2453, 'underpriced': 9104, 'peers': 6413, 'shkreli': 7938, 'ceo': 1683, 'turing': 9013, 'pharmaceuticals': 6508, 'cheaper': 1746, 'cancer': 1560, 'disease': 2794, 'considers': 2136, 'daraprims': 2454, 'patent': 6367, 'niche': 5907, 'generic': 3894, 'treatments': 8950, 'abbott': 392, 'preschool': 6753, 'slated': 8063, 'ozone': 6270, 'nox': 5979, 'improvements': 4480, 'tceq': 8651, 'industrial': 4554, 'emission': 3129, 'expectations': 3362, 'shellacked': 7923, 'midterms': 5602, '1934': 85, 'oddity': 6047, '1902': 78, 'jordan': 4839, 'singling': 8021, 'midterm': 5601, 'stretched': 8400, '1962': 99, 'demonstrate': 2599, 'incumbent': 4519, 'beaches': 1129, 'weekends': 9475, 'holidays': 4297, 'beach': 1128, 'towns': 8888, 'licht': 5173, 'sand': 7671, 'fudge': 3806, 'substitution': 8466, 'snap': 8101, 'understate': 9110, 'nearing': 5853, 'mortgage': 5739, 'loopholes': 5271, 'shortly': 7958, 'contacts': 2175, 'dewines': 2706, 'suntrust': 8510, 'cancels': 1559, 'sells': 7825, 'floridanewsflash': 3664, 'relationships': 7270, 'pawn': 6389, 'shops': 7947, 'payday': 6393, 'cashers': 1623, 'firearms': 3610, 'fdic': 3520, 'warned': 9408, 'examine': 3304, 'processors': 6827, 'choke': 1782, 'backdoor': 1026, 'denies': 2607, 'cresent': 2352, 'hardy': 4134, 'disabilities': 2757, 'drain': 2941, 'guthrie': 4082, 'linking': 5216, 'budweiser': 1453, 'rggi': 7479, 'roof': 7564, 'anheuser': 748, 'busch': 1491, 'relocating': 7287, 'brewery': 1400, 'invoking': 4712, 'bite': 1255, 'twisted': 9036, 'indians': 4530, 'reds': 7180, '918': 366, 'whopping': 9529, 'baseball': 1105, 'franchises': 3766, '184': 71, 'correcting': 2261, 'forcefully': 3708, '980': 380, 'disputed': 2817, 'riot': 7512, 'dismantle': 2800, 'democratically': 2593, 'democracy': 2590, 'soviet': 8172, '1991': 122, 'lieutenant': 5178, 'ambassador': 698, 'negotiate': 5869, 'statutes': 8312, 'sheldon': 7921, 'whitehouses': 9521, 'shameful': 7897, 'possibly': 6681, 'whitehouse': 9520, 'hinckley': 4263, '70th': 324, 'tables': 8604, 'pegs': 6416, 'mix': 5686, 'responsive': 7417, 'underestimates': 9096, 'body': 1300, 'ship': 7935, 'leads': 5084, 'handed': 4110, 'forth': 3735, 'method': 5579, 'quibbles': 7012, 'sporting': 8235, 'devices': 2699, 'cabelas': 1510, 'star': 8280, 'herald': 4224, 'erroneous': 3243, 'software': 8116, 'glitch': 3944, 'refunded': 7213, 'portions': 6663, 'rebutted': 7131, 'rebuttal': 7130, 'corrected': 2260, 'trainer': 8913, 'retainer': 7442, '102': 18, 'dawn': 2469, 'sylvia': 8587, 'stasiewicz': 8290, 'bo': 1293, 'briefly': 1407, 'reggie': 7230, 'love': 5295, 'aide': 606, 'handling': 4119, 'duties': 2998, 'handler': 4118, 'greg': 4031, 'heads': 4183, 'guiding': 4071, 'clackamas': 1830, 'excessive': 3324, 'precision': 6727, 'anyway': 777, 'frequency': 3786, 'lehners': 5130, '216': 174, 'lehner': 5129, 'referenced': 7195, 'understatement': 9112, 'hunters': 4373, 'restricted': 7425, 'magazines': 5331, 'cartridge': 1616, 'hunting': 4374, 'bird': 1247, 'makers': 5350, 'checkers': 1751, 'shoot': 7941, 'wildlife': 9541, 'rudy': 7608, 'wasalready': 9420, 'irans': 4724, 'shouldnt': 7962, 'investigate': 4700, 'hurricane': 4377, 'katrina': 4893, 'thank': 8727, 'pump': 6950, 'ba': 1021, 'ma': 5314, 'lifting': 5185, 'tricky': 8965, 'pins': 6552, 'offshore': 6074, 'enduring': 3167, 'saddles': 7645, 'delegation': 2572, 'hb2': 4173, '141': 47, '201': 147, 'threatening': 8796, 'boycotts': 1365, '567': 283, 'substantially': 8461, 'reeds': 7188, 'uncertain': 9074, 'underestimated': 9095, 'commonwealth': 1990, 'filers': 3575, 'wound': 9621, 'owing': 6261, 'jlarc': 4819, 'weeding': 9473, 'steered': 8327, 'amping': 723, 'pledging': 6599, 'adhered': 508, 'blueprint': 1286, 'immunity': 4446, 'announce': 754, 'savvy': 7698, 'forthright': 3737, 'contractors': 2202, 'diplomats': 2746, 'wear': 9459, 'cowboy': 2319, 'hats': 4158, 'halloween': 4099, 'starnes': 8284, 'harmful': 4138, 'costumes': 2279, 'administrations': 521, 'advice': 548, 'blitzer': 1271, 'strikesyria': 8410, 'theunited': 8761, 'invading': 4691, 'rob': 7531, 'ideological': 4410, '700m': 320, 'twist': 9035, 'complaint': 2022, 'moveon': 5766, 'steeper': 8325, 'lay': 5074, 'politician': 6628, 'gardner': 3863, 'alberta': 639, 'sands': 7673, 'xl': 9635, 'indirect': 4545, 'induced': 4552, 'pipelines': 6557, 'route': 7589, 'fueled': 3809, 'beyer': 1209, 'deterrent': 2686, 'executions': 3337, 'punishments': 6957, 'deter': 2680, 'criminals': 2358, 'nurse': 5999, 'renewals': 7313, 'expiration': 3377, 'forget': 3721, 'renew': 7311, 'fathom': 3504, 'forgetting': 3722, 'monnes': 5711, 'anderson': 735, 'refugees': 7211, 'needham': 5863, 'resettled': 7387, 'totalled': 8871, 'refugee': 7210, 'resided': 7389, 'ptsd': 6940, 'traumatic': 8936, 'brain': 1373, 'injury': 4600, 'patriot': 6373, 'usas': 9222, 'burr': 1485, 'hatch': 4156, 'regards': 7228, 'ofthis': 6076, 'uncertainty': 9075, 'storm': 8374, 'voice': 9348, 'shouting': 7963, 'yea': 9642, 'nay': 5845, 'floors': 3658, 'landfall': 5012, 'louisiana': 5294, 'maiden': 5334, 'defined': 2549, 'receipt': 7135, 'largesse': 5033, 'mcauliffes': 5469, 'gist': 3932, 'virginias': 9335, 'illustrated': 4430, 'inartfully': 4491, 'policys': 6625, 'gasoline': 3869, '171': 64, 'outlier': 6189, 'thorough': 8783, 'cram': 2328, 'budgetary': 1448, 'grown': 4054, 'russ': 7630, 'satisfied': 7686, 'senior': 7834, 'kid': 4924, 'supervise': 8521, 'wise': 9566, 'repeating': 7335, 'dunlavy': 2990, 'privy': 6814, 'harsh': 4143, 'sting': 8352, 'volunteers': 9357, 'competition': 2014, 'tech': 8663, 'unscientific': 9175, 'counterparts': 2295, 'gases': 3868, 'atmospheric': 944, 'climatic': 1867, 'uncheckable': 9078, 'judgment': 4852, 'install': 4627, 'bike': 1225, 'irresponsible': 4733, 'mistakes': 5678, 'partner': 6344, 'caprio': 1579, 'chaired': 1704, 'restrictive': 7428, 'nevadans': 5887, 'robert': 7536, 'uithoven': 9054, 'transfers': 8924, 'lenient': 5136, 'exempting': 3341, 'uithovens': 9055, 'pentagon': 6434, 'soldier': 8121, '2018': 156, 'recommended': 7156, 'rothenberg': 7579, 'chad': 1696, 'chadwell': 1697, 'condom': 2080, 'techniques': 8667, 'demonstrated': 2600, 'mccann': 5476, 'demonstrations': 2601, 'notable': 5962, 'presenter': 6759, 'stirred': 8356, 'contemplated': 2180, 'lesson': 5143, 'gaping': 3857, 'contraceptive': 2198, 'betty': 1206, 'sutton': 8568, 'maxed': 5458, 'debtone': 2497, 'correctional': 2263, 'lowers': 5300, 'expectancy': 3360, 'hazardous': 4171, 'stressful': 8397, 'funerals': 3825, 'mellon': 5540, 'coworkers': 2323, 'prematurely': 6746, 'barred': 1093, 'cindy': 1808, 'hensley': 4221, 'distributorship': 2839, 'congratulations': 2103, 'abided': 400, 'granholm': 4006, 'aides': 608, 'blurring': 1291, 'connections': 2115, 'firewall': 3614, 'preserve': 6762, 'juvenile': 4877, 'triplehe': 8976, 'lesniaks': 5140, 'spikes': 8214, 'kennedys': 4908, 'skips': 8051, 'designate': 2657, 'steube': 8338, 'fires': 3613, '1958': 94, 'fatal': 3498, 'misspoke': 5673, 'broun': 1435, 'deviants': 2697, 'crush': 2397, 'articulated': 885, 'pragmatic': 6709, 'crack': 2325, 'distribution': 2837, 'deviant': 2696, 'dewine': 2705, 'cordrays': 2247, 'exclusively': 3332, 'cordray': 2246, 'recognition': 7151, 'declare': 2513, 'unifying': 9137, 'vocal': 9346, 'catastrophic': 1633, 'cascading': 1618, 'collapse': 1924, 'prosecuted': 6897, 'hearings': 4192, 'prosecutions': 6899, 'patrolling': 6375, 'borders': 1340, 'yougov': 9661, 'homicides': 4311, 'outnumbers': 6194, 'round': 7584, 'sykes': 8586, 'climb': 1868, 'blurred': 1290, 'counted': 2292, 'lapse': 5028, 'murphy': 5791, 'the2015': 8740, 'bids': 1219, 'shorter': 7954, 'pressures': 6770, 'sharp': 7908, 'resolve': 7403, 'shortage': 7951, 'educations': 3055, 'superintendent': 8516, 'lying': 5311, 'barnett': 1092, 'shale': 7894, 'disclose': 2774, 'admission': 524, 'fashion': 3494, 'blast': 1267, 'narrow': 5821, 'seeks': 7803, 'subset': 8454, 'illustrative': 4432, 'broadest': 1425, 'thatobama': 8735, 'statesspecifically': 8300, 'capture': 1582, 'storage': 8369, 'enormous': 3185, 'domestically': 2889, 'instruct': 4637, 'doe': 2874, 'partnerships': 6348, 'commercial': 1973, 'sequestration': 7852, 'interpret': 4673, 'cuff': 2406, 'rope': 7572, 'overly': 6224, 'credence': 2342, '74': 331, 'everytown': 3290, 'suicides': 8493, 'spillover': 8217, 'adjacent': 510, 'quantifying': 6997, 'proximity': 6938, 'campuses': 1548, 'tying': 9041, 'associates': 925, 'infrastructure': 4585, 'fellow': 3545, 'corrine': 2268, 'lawmaking': 5067, 'latourettes': 5051, 'norcross': 5951, 'rutger': 7635, 'camden': 1536, 'jer': 4806, 'ey': 3425, 'merger': 5566, 'restructure': 7432, 'multibillion': 5778, 'bond': 1318, 'southern': 8168, 'historically': 4277, 'norcrosss': 5952, 'restructuring': 7433, 'folding': 3683, 'rutgers': 7636, 'rowan': 7596, 'internal': 4670, 'demaio': 2583, 'confidential': 2089, 'finances': 3590, 'timetable': 8827, 'spring': 8244, 'listening': 5224, 'larry': 5035, 'cretul': 2353, 'flood': 3655, 'chamberlin': 1713, 'ocala': 6030, 'banner': 1079, 'scheduling': 7729, 'stomp': 8363, 'weare': 9460, 'shovels': 7964, 'bags': 1048, 'bp': 1367, 'thick': 8767, 'tar': 8630, 'clogs': 1880, 'mechanical': 5515, 'rakes': 7052, 'machinery': 5317, 'skimming': 8048, 'scoop': 7748, 'mats': 5450, 'formed': 3729, 'surface': 8540, 'alike': 654, 'skimmers': 8047, 'deployed': 2628, 'rig': 7504, 'creeping': 2351, 'shoreline': 7949, 'haul': 4159, 'balls': 1066, 'fares': 3487, 'fare': 3485, 'nashville': 5829, 'larson': 5038, 'cash': 1622, 'patrons': 6377, 'tanning': 8626, 'bed': 1148, 'users': 9229, 'ceos': 1684, 'gm': 3951, 'ventures': 9278, 'errors': 3245, 'appointed': 814, 'reinforces': 7256, 'selectively': 7819, 'quoting': 7027, 'contributing': 2212, 'elect': 3082, 'dna': 2859, 'paired': 6294, 'grizzlies': 4040, 'dated': 2463, 'suggesting': 8488, 'frivolous': 3798, 'merits': 5568, 'bureaus': 1475, 'limberbutt': 5197, 'mccubbins': 5486, 'cat': 1631, 'terrier': 8705, 'limberbutts': 5198, 'fec': 3527, 'deem': 2527, 'candidacy': 1562, 'jonathan': 4837, 'gruber': 4056, 'carefulwording': 1594, 'mit': 5681, 'hhs': 4242, 'documentation': 2868, 'uniquely': 9144, 'positioned': 6674, 'assisting': 923, 'handsomely': 4121, 'simulation': 8012, 'model': 5692, 'teams': 8660, 'jennifer': 4804, 'constitutesafrican': 2151, 'suffice': 8482, 'announcing': 758, 'sample': 7667, 'certified': 1693, 'dan': 2448, 'sullivan': 8497, 'offenderwho': 6056, 'andis': 736, 'gruesome': 4057, 'murder': 5784, 'offender': 6054, 'murdering': 5787, 'sexually': 7882, 'assaulting': 903, 'granddaughter': 4001, 'yost': 9657, 'steady': 8319, 'yosts': 9658, 'havemoved': 4162, 'fold': 3682, 'pew': 6507, '2008law': 145, 'odonnell': 6049, 'soundbite': 8158, 'mo': 5690, 'brooks': 1432, 'abroad': 416, '1790': 66, 'mothers': 5750, 'conveying': 2230, 'owen': 6258, 'ri': 7483, 'govern': 3977, 'ge': 3879, 'owens': 6259, 'advantageous': 543, 'monogamous': 5712, 'married': 5418, 'households': 4346, 'hedge': 4200, 'marginal': 5401, 'managers': 5364, 'lows': 5303, 'earners': 3015, 'loading': 5239, 'foreigners': 3715, 'undocumented': 9116, 'vague': 9245, 'obey': 6011, 'deportations': 2633, 'reentry': 7192, '236': 181, 'hardly': 4132, 'glossing': 3950, 'includedtext': 4502, 'endorsement': 3162, 'taxed': 8645, 'koch': 4958, 'brothers': 1433, 'booze': 1338, 'bribe': 1402, 'folks': 3685, 'generation': 3891, 'alcohol': 643, 'entice': 3201, 'attendees': 959, 'alternatives': 689, 'commercials': 1975, 'fest': 3557, 'bad': 1042, 'mouthed': 5760, 'interests': 4667, 'burning': 1484, 'officially': 6068, 'reliance': 7282, 'boilers': 1305, 'roofs': 7566, 'repairs': 7325, 'tammy': 8623, 'gut': 4081, 'slows': 8082, 'harmless': 4139, 'gutted': 4083, 'lawcaused': 5063, 'trayvon': 8942, 'zimmerman': 9684, 'profiling': 6846, 'desire': 2661, 'obvious': 6028, 'jurys': 4870, 'acquit': 471, 'overstatement': 6245, 'trayvons': 8943, 'input': 4607, 'execute': 3334, 'sara': 7679, 'lees': 5107, 'lauded': 5056, 'regulators': 7247, 'ribble': 7484, 'jumpstart': 4862, 'roofing': 7565, '133': 44, 'bilirakis': 1228, 'cent': 1674, 'sufficient': 8484, 'vermont': 9286, 'computation': 2043, 'flows': 3671, 'vermonts': 9287, 'stagnate': 8265, '755': 335, 'braziles': 1388, 'underlying': 9100, 'ranging': 7067, '96': 375, 'margins': 5402, 'beating': 1135, 'hypothetical': 4393, 'matchups': 5440, 'waivers': 9382, 'individually': 4548, 'evaluated': 3271, 'offering': 6061, 'spurred': 8249, 'requests': 7369, 'sebelius': 7777, 'constitutions': 2156, 'tucked': 9003, 'ncsl': 5851, 'nasbo': 5826, 'dividing': 2850, 'seconds': 7782, '597': 290, 'accumulating': 450, '966': 376, '189': 75, '575': 285, '050': 9, '826': 352, '460': 250, '886': 361, '982': 381, 'rack': 7033, 'omb': 6091, '876': 358, 'judicial': 4853, 'appointments': 816, 'drafted': 2937, 'consulted': 2166, 'concerned': 2060, 'farther': 3493, 'unnecessary': 9163, 'heart': 4193, 'rescinding': 7376, 'ration': 7088, 'longevity': 5263, 'worry': 9613, 'sections': 7790, 'hrc': 4358, 'multimillion': 5780, 'define': 2548, 'nras': 5982, 'hotel': 4338, 'guests': 4069, 'motel': 5747, 'lawmaker': 5065, 'tackle': 8606, 'backlog': 1035, 'visitors': 9343, 'jay': 4794, 'hoteliers': 4339, 'georgians': 3905, 'regions': 7233, 'vary': 9264, 'citation': 1813, 'bang': 1070, 'buck': 1442, 'switzerland': 8582, 'norway': 5960, 'certificate': 1691, 'kapiolani': 4887, 'misstated': 5674, 'bosnia': 1345, '1995': 126, 'biased': 1213, 'harshly': 4144, 'boonville': 1331, 'lament': 5004, 'tired': 8832, 'bizarre': 1256, 'misstatements': 5675, 'analyzes': 731, 'unfinished': 9128, 'oils': 6081, 'refined': 7203, 'crude': 2393, 'combination': 1953, 'barrels': 1095, 'analyze': 729, 'kerry': 4913, 'latino': 5048, 'underemployed': 9093, 'hourly': 4342, 'starters': 8287, 'schedule': 7726, 'statesmans': 8299, 'schedules': 7728, 'woefully': 9581, 'cobbling': 1909, 'hawaii': 4166, 'honolulu': 4316, 'male': 5354, 'rewind': 7473, 'berman': 1196, 'pinpoint': 6551, 'hawaiis': 4167, 'birthplace': 1251, 'combed': 1952, 'abercrombie': 396, 'likethey': 5194, 'imus': 4482, 'tactics': 8608, 'attempts': 955, 'cross': 2378, '417': 236, 'dccc': 2473, 'nrcc': 5983, 'uncollected': 9080, 'believes': 1170, 'delinquent': 2576, 'auditors': 977, 'marilinda': 5404, 'garcia': 3861, 'counter': 2293, 'productive': 6837, 'furloughed': 3829, 'strain': 8383, 'ours': 6177, 'bonamici': 1317, 'wed': 9469, 'forthcoming': 3736, 'fahrenheit': 3452, 'worse': 9614, 'film': 3583, 'lunches': 5308, 'amounting': 720, '170': 63, 'heights': 4207, 'targets': 8634, 'ambitious': 701, 'kevin': 4916, 'len': 5132, 'strongest': 8421, 'planet': 6574, 'francisco': 3767, 'producing': 6834, 'compete': 2012, 'renewable': 7312, 'californias': 1529, 'framework': 3762, 'banked': 1072, 'prosecutor': 6900, 'indictment': 4541, 'perryhas': 6471, 'mccrum': 5484, 'mccrums': 5485, 'expressly': 3405, 'irene': 4729, 'outages': 6180, '1904': 80, 'jcp': 4795, 'outage': 6179, 'ranges': 7066, 'ike': 4421, 'sourcing': 8164, 'lobbies': 5243, 'lobbyists': 5247, 'unspecific': 9179, 'fared': 3486, 'poorly': 6647, '09': 13, 'ratios': 7090, 'alliant': 668, 'practicing': 6708, 'contributor': 2215, 'rezko': 7477, 'slum': 8083, 'landlord': 5014, 'inner': 4602, 'obtain': 6026, 'slumlord': 8084, 'arise': 864, 'hardest': 4131, 'struggling': 8428, 'tier': 8815, 'offsets': 6072, 'regressive': 7238, 'mack': 5318, 'jacks': 4773, 'binding': 1238, 'resolutions': 7402, 'duplicative': 2994, 'macks': 5319, 'produces': 6833, 'eia': 3072, 'alarmists': 634, 'satellite': 7684, 'models': 5693, 'extremely': 3420, 'warm': 9405, '21st': 175, 'stable': 8255, 'warmest': 9406, 'trace': 8893, 'stumble': 8439, 'pollsters': 6637, 'respondents': 7412, 'answers': 767, 'categorize': 1641, 'nuances': 5988, 'intends': 4655, 'duffy': 2981, 'amassed': 695, 'outsourced': 6206, 'plagued': 6565, 'objective': 6014, 'trustworthy': 8997, 'mails': 5337, 'clutch': 1896, 'dent': 2610, 'ipcc': 4720, 'lake': 5001, 'michigan': 5595, 'evaporation': 3274, 'lakes': 5002, 'patterns': 6380, 'precipitation': 6722, 'affecting': 563, 'erosion': 3241, 'mesh': 5569, 'presumed': 6772, 'buildup': 1460, 'impacts': 4449, '45th': 248, 'prospects': 6903, 'campaigning': 1543, 'forbes': 3702, 'tolstoy': 8849, 'wordy': 9596, 'novelist': 5975, 'watershed': 9439, 'ginrgich': 3929, 'zeroed': 9679, 'cooper': 2239, 'primacy': 6789, '1803': 69, 'curtailed': 2421, 'directors': 2756, 'shunned': 7979, 'lotteries': 5289, 'hewitt': 4240, 'mccullen': 5487, 'hinged': 4264, 'corporation': 2255, 'foreman': 3716, 'jury': 4869, 'greenpeace': 4027, 'stotts': 8379, 'replied': 7344, 'monetarily': 5705, 'rallies': 7054, 'examination': 3303, 'reveals': 7457, 'scratch': 7761, 'moderated': 5695, 'audience': 971, 'exxonmobil': 3423, '156': 52, 'rebate': 7125, 'holdover': 4294, 'approximately': 835, 'professor': 6843, 'interpreting': 4677, 'exxonmoblils': 3424, 'mccallum': 5475, 'capco': 1573, 'hopeful': 4325, 'herman': 4229, 'followers': 3688, 'ignorant': 4414, 'backers': 1029, 'ralph': 7056, 'electoral': 3086, 'baseline': 1107, 'corners': 2251, 'overstate': 6243, 'tended': 8689, 'populous': 6656, 'dynamic': 3004, '15th': 55, 'youd': 9660, 'columbus': 1946, 'niagara': 5906, 'lastly': 5043, 'redferns': 7176, 'stivers': 8357, 'crosses': 2381, 'scaling': 7713, 'boot': 1335, 'veracity': 9280, 'shortfall': 7955, 'false': 3473, 'heflin': 4202, 'disputes': 2818, 'trim': 8971, 'via': 9299, 'heflins': 4203, 'rejects': 7262, '103': 19, 'tuesday': 9004, 'bls': 1284, 'write': 9625, 'jurisdiction': 4867, 'tycoon': 9040, 'daylight': 2471, 'bensahel': 1191, 'chiefs': 1766, 'assemblys': 907, 'refusal': 7215, 'broadened': 1422, 'join': 4829, 'suit': 8495, 'sacrifice': 7641, 'virginians': 9334, 'piped': 6554, 'tracking': 8898, 'coins': 1919, 'flow': 3668, 'deposits': 2637, 'enrollee': 3189, 'participates': 6336, '448': 243, 'opinions': 6126, 'contradictory': 2205, 'predicting': 6737, 'ball': 1060, 'tufts': 9005, 'furthest': 3832, 'doomsday': 2907, 'offsetting': 6073, 'swore': 8583, 'oath': 6005, 'swears': 8573, 'swear': 8572, 'sometimes': 8142, 'clashes': 1843, 'andthe': 740, 'obligated': 6015, 'suing': 8494, 'afoul': 574, 'punishment': 6956, 'likelihood': 5190, 'prosecution': 6898, 'exceedingly': 3314, 'vanquished': 9255, 'asserts': 911, 'defending': 2539, 'lawsuit': 5070, 'berger': 1194, 'toto': 8874, 'conflicting': 2095, 'scholarstend': 7737, 'argumentthat': 863, 'unsettled': 9178, 'nunn': 5997, 'odd': 6046, 'oversimplifies': 6241, 'winter': 9559, 'sunshine': 8509, 'rainbows': 7046, 'gloom': 3948, 'sonny': 8147, 'camp': 1540, 'incendiary': 4493, 'brand': 1379, 'homicide': 4310, 'producer': 6832, 'trews': 8959, 'letting': 5150, 'bracket': 1369, 'hanaway': 4107, 'eastern': 3026, 'hanaways': 4108, 'dealt': 2487, 'signature': 7994, 'listeners': 5223, 'robertson': 7538, 'latourette': 5050, 'simpson': 8010, 'bowles': 1362, '2050': 167, 'blanco': 1264, 'consult': 2161, 'player': 6590, 'engineers': 3180, 'empathy': 3132, 'casino': 1624, 'rigged': 7506, 'corrupt': 2270, 'clairvest': 1834, 'abhorrent': 399, 'brewer': 1399, 'researched': 7381, 'diploma': 2744, '372': 223, 'corraling': 2258, 'presumably': 6771, 'fraudulently': 3774, 'claimed': 1831, 'totaling': 8870, '608': 296, 'kingstons': 4940, 'someones': 8139, 'transparency': 8932, 'airing': 617, 'reluctant': 7288, 'sba': 7709, 'absolutely': 420, 'profession': 6839, 'incentives': 4495, 'shipping': 7936, 'binational': 1237, 'dig': 2731, 'fugitive': 3810, 'slave': 8065, 'marshals': 5421, 'slaves': 8067, 'emancipation': 3116, 'freeing': 3782, 'emphasis': 3133, '1864': 73, 'fidel': 3561, 'castros': 1629, 'cuba': 2403, '1959': 95, 'fled': 3640, 'castro': 1628, 'bio': 1241, 'biography': 1244, 'stumbled': 8440, 'revolution': 7471, '1971': 106, 'cuban': 2404, 'exiles': 3346, 'arrived': 880, '1956': 93, '763': 337, 'denial': 2602, 'succeed': 8470, 'dinged': 2742, 'boy': 1363, 'shorthand': 7957, 'brazen': 1386, 'pierick': 6541, '106': 22, '258': 190, '98': 379, '213': 172, 'ghost': 3915, 'inactive': 4487, 'lingered': 5211, 'tenth': 8697, 'populationyet': 6655, 'skilled': 8045, 'bolick': 1308, 'canadas': 1551, '1b': 132, 'sympathize': 8591, '1903': 79, 'manual': 5383, 'distributing': 2836, 'educational': 3054, '1984': 116, 'disprove': 2814, 'fuzzy': 3835, '19th': 131, 'leticia': 5146, 'bodies': 1299, 'resume': 7438, 'costly': 2277, 'envisioned': 3218, 'sharing': 7907, 'sequester': 7851, 'subtracting': 8468, 'monthreviewing': 5715, 'downward': 2928, 'fluctuate': 3672, 'lady': 4995, 'ireland': 4728, 'leffingwell': 5108, 'stamps': 8270, 'workershe': 9603, 'fingertips': 3602, 'swing': 8579, 'fences': 3554, 'throwing': 8804, 'juicy': 4858, 'inexact': 4562, 'dependents': 2622, 'hagan': 4092, 'weapon': 9457, 'categorization': 1640, 'feinstein': 3542, 'core': 2248, 'sustained': 8567, 'remind': 7300, 'krugman': 4971, 'phony': 6522, 'catchy': 1637, 'alexi': 647, 'giannoulias': 3916, 'longtime': 5266, 'landscaping': 5020, 'zoning': 9686, 'lax': 5073, 'deepwater': 2532, 'kirk': 4941, 'precious': 6721, 'theory': 8753, 'mps': 5770, 'pocketbooks': 6609, 'receipts': 7136, 'component': 2036, 'papp': 6312, 'trains': 8915, 'authoritys': 990, 'digging': 2733, 'pockets': 6611, 'gallon': 3845, 'siphoned': 8023, 'expectation': 3361, 'outlook': 6192, 'tensions': 8696, 'disruption': 2821, 'supplies': 8524, 'nugent': 5990, 'dissenting': 2823, 'columbia': 1945, 'heller': 4211, 'protest': 6914, 'impose': 4469, 'typical': 9044, 'homeowner': 4305, 'puffs': 6946, 'fourfold': 3754, 'keane': 4896, 'defining': 2551, 'jihadist': 4815, 'fighters': 3567, 'inspired': 4626, 'pinning': 6550, 'amounted': 719, 'slashing': 8062, 'reshaped': 7388, 'mice': 5592, 'noaa': 5923, 'cnns': 1899, 'crap': 2329, 'graphic': 4011, 'pollster': 6636, 'subcategories': 8446, 'statistically': 8306, 'plainly': 6568, 'spelled': 8207, 'bennett': 1190, 'chafees': 1698, 'youtube': 9671, 'believing': 1172, 'passenger': 6361, 'jetblue': 4813, 'gold': 3961, 'plated': 6584, 'packages': 6277, 'scaled': 7712, 'robyn': 7542, 'chart': 1741, '630': 304, '038': 6, 'obtained': 6027, 'deluna': 2582, 'busy': 1498, 'sticking': 8347, 'jets': 4814, 'factcheck': 3442, 'liquor': 5220, 'jaunts': 4793, 'unjustifiable': 9154, 'expenditure': 3365, 'outlays': 6187, 'expenditures': 3366, 'entry': 3214, 'prostitution': 6905, 'mckeels': 5491, 'juveniles': 4878, 'compile': 2017, 'snyder': 8105, 'files': 3576, 'restrained': 7422, 'undermined': 9102, 'buerkle': 1454, 'intrusion': 4689, 'bureaucracies': 1473, 'infer': 4565, 'bmi': 1292, 'giveaways': 3936, 'receives': 7140, 'compares': 2006, 'oranges': 6147, 'thirty': 8775, 'notion': 5973, 'combine': 1954, 'undesirable': 9115, 'hennessey': 4219, 'blog': 1275, 'routine': 7591, 'lasted': 5042, 'divine': 2851, 'son': 8145, 'disagrees': 2764, 'academic': 426, 'identification': 4406, 'rated': 7080, 'ratliff': 7091, 'tense': 8695, 'chugging': 1799, 'uvalde': 9240, 'academically': 427, 'unveiled': 9191, 'complainour': 2021, 'revealed': 7455, 'electric': 3088, 'transmission': 8930, 'containment': 2178, 'holahan': 4288, 'gao': 3855, 'griffiths': 4038, 'computations': 2044, 'pill': 6546, '78': 340, 'highlighting': 4252, 'demographic': 2597, 'acknowledges': 467, 'demands': 2587, 'misfires': 5654, 'fronts': 3803, 'mexicans': 5587, 'minors': 5642, 'ids': 4411, 'featuring': 3524, 'satisfy': 7687, 'debatable': 2491, 'defenders': 2538, 'replenished': 7342, 'tail': 8610, '787': 341, '357': 219, '801': 348, 'expansions': 3358, 'skewed': 8043, 'confidence': 2087, 'doyles': 2930, 'specification': 8194, 'nurses': 6000, 'firefighters': 3612, 'misguided': 5655, 'xcise': 9634, 'farrelly': 3492, 'contends': 2182, 'bogus': 1303, 'smokers': 8097, 'rush': 7627, 'excise': 3327, 'rti': 7601, 'raleigh': 7053, 'amendmentban': 706, 'abiding': 401, 'sportsmanship': 8236, 'streets': 8393, 'handgun': 4113, 'usagewe': 9220, 'thoughtful': 8790, 'traditions': 8904, 'manufactured': 5385, 'meg': 5535, 'windmills': 9553, 'electrify': 3091, 'approvingly': 834, 'lagged': 4997, 'counterpart': 2294, 'europe': 3266, 'ramping': 7061, 'turbines': 9011, 'shortages': 7952, 'preventing': 6780, 'kentuckys': 4910, 'wholesale': 9526, 'map': 5391, 'barrel': 1094, 'falcons': 3466, 'luxury': 5310, 'dealer': 2482, 'kearney': 4897, 'attitudes': 962, 'knocking': 4952, 'slot': 8076, 'abroader': 417, 'powerhouse': 6700, 'predicts': 6740, 'anomaly': 762, 'sounding': 8160, 'hovered': 4350, 'poorest': 6646, 'affluence': 568, 'skews': 8044, 'simplicity': 8008, 'memes': 5546, 'worried': 9612, 'bartlett': 1102, 'dean': 2488, 'arguedthat': 858, 'municipal': 5783, 'couched': 2280, 'fears': 3522, 'meantime': 5505, '1980': 112, 'contest': 2184, 'geological': 3901, 'eon': 3220, 'landslide': 5021, 'proportions': 6889, 'nascar': 5827, 'fans': 3483, 'servicemembers': 7863, 'phelps': 6512, 'dwight': 3001, 'eisenhower': 3076, '1954': 92, 'wetback': 9502, 'historians': 4274, 'deport': 2631, 'deportation': 2632, 'accompaniedmore': 438, 'finish': 3603, 'slain': 8058, 'raped': 7074, 'robbed': 7532, 'lapierres': 5027, 'assaults': 904, 'robbery': 7535, 'rounded': 7585, 'equals': 3227, 'convinced': 2235, 'nhtsa': 5905, '601': 294, 'occupants': 6033, 'bystanders': 1509, 'impaired': 4450, 'curriculum': 2419, 'dictate': 2711, 'overstays': 6250, 'uphold': 9202, 'overstay': 6247, 'pences': 6426, 'repercussions': 7337, 'ices': 4399, 'prioritize': 6801, 'removal': 7303, 'violators': 9329, 'deported': 2634, '235': 180, '413': 235, 'thatincludes': 8733, 'appalachian': 791, 'morris': 5732, 'apcos': 783, 'armstrong': 871, 'morriss': 5734, 'apco': 782, 'patton': 6382, 'weighted': 9483, 'masks': 5427, 'variation': 9258, 'editors': 3048, 'weighting': 9484, 'pavlich': 6388, 'townhall': 8887, 'dodd': 2871, 'cease': 1664, 'desist': 2662, 'agencys': 587, 'violations': 9327, 'dnc': 2860, 'debbie': 2495, 'twists': 9037, 'implications': 4458, 'emphatically': 3137, 'devil': 2700, 'carlson': 1598, 'hadn': 4090, 'precipitously': 6724, 'biofuels': 1242, 'connie': 2116, 'iv': 4768, 'promoter': 6872, 'hooters': 4322, 'brawling': 1385, 'altercations': 685, 'rage': 7040, '20s': 168, 'destruction': 2672, 'disproved': 2815, 'kucinich': 4972, 'hill': 4259, 'unilateral': 9138, 'unjustified': 9155, 'unwarranted': 9193, 'poses': 6672, 'imminent': 4444, 'pauken': 6383, 'folds': 3684, 'trailed': 8910, '03': 5, 'commitments': 1982, 'offbase': 6053, 'safer': 7652, 'waldens': 9385, 'attribute': 966, 'overregulation': 6229, '4th': 260, '10th': 26, 'dissenters': 2822, 'amout': 722, '660': 312, 'mcconnell': 5482, 'firing': 3615, 'gates': 3870, 'finkel': 3604, 'morning': 5731, 'defund': 2558, 'misinterpreted': 5657, 'ambiguous': 700, 'peppers': 6438, 'pepper': 6437, 'excuses': 3333, 'sheriff': 7925, 'decides': 2508, 'allot': 671, 'federally': 3530, 'borrow': 1342, '525': 268, '483': 256, '486': 257, 'discretion': 2783, 'fbis': 3517, 'consolidated': 2142, 'watchlist': 9434, 'mend': 5554, 'shape': 7901, '330': 209, 'onsurveys': 6105, 'unhappy': 9135, 'variations': 9259, 'complexity': 2030, 'conclusively': 2071, 'yarmuth': 9641, 'depicting': 2626, 'flames': 3633, 'libyan': 5168, 'democratization': 2594, 'favorable': 3509, 'punctuated': 6954, 'islamist': 4745, 'attackers': 949, 'brigade': 1408, 'ships': 7937, 'kinds': 4935, 'tipped': 8831, 'refusing': 7219, 'pacs': 6281, 'accepts': 432, 'daschle': 2458, 'alston': 684, '019': 3, 'classified': 1848, 'bolton': 1312, 'thati': 8732, 'overthrow': 6251, 'examiner': 3306, 'consultation': 2164, 'buckyballs': 1446, 'blackburn': 1258, 'writers': 9627, 'brightest': 1410, 'innovators': 4605, 'creators': 2341, 'penalized': 6422, 'overzealous': 6256, 'cpsc': 2324, 'lengthy': 5135, 'establishes': 3255, 'inherently': 4589, 'unsafe': 9174, 'donorswere': 2904, 'consistency': 2138, 'inscribed': 4614, 'garage': 3859, 'agovernment': 594, 'thatll': 8734, 'bonds': 1322, 'repayment': 7328, 'equated': 3229, 'outlawing': 6186, 'stupid': 8443, 'easing': 3024, 'prohibit': 6855, 'occupations': 6035, 'saul': 7690, 'choosing': 1784, 'stevenson': 8341, 'bruce': 1438, 'pronounced': 6877, 'recessions': 7147, 'stabilized': 8254, 'eliminated': 3102, 'hayes': 4169, 'annie': 753, 'casey': 1621, 'melinda': 5539, 'lag': 4996, 'catches': 1635, '683': 317, 'eileen': 3075, 'appelbaum': 801, 'leaning': 5090, 'layoffs': 5077, 'stripped': 8416, 'steer': 8326, 'writer': 9626, 'catherine': 1643, 'rampell': 7060, 'economix': 3039, 'howard': 4352, 'lindenwood': 5207, 'causing': 1653, 'scares': 7721, 'operatives': 6122, 'leans': 5091, 'schale': 7725, 'expressing': 3403, 'anecdote': 742, 'involving': 4718, 'unsubstantiated': 9183, 'strategists': 8386, 'indiana': 4529, 'turnout': 9021, 'returns': 7453, 'surveyed': 8556, 'lags': 4998, 'calendars': 1526, 'lyons': 5313, 'johnsen': 4826, 'motherhood': 5749, 'involuntary': 4713, 'servitude': 7866, 'oscanlon': 6169, 'insolvency': 4621, '992': 385, 'indoctrinated': 4550, 'grandchildren': 4000, 'relaying': 7275, 'underprivileged': 9105, 'lamar': 5003, 'mccall': 5473, 'alert': 645, 'controversalremarks': 2221, 'byrev': 1508, 'a12': 386, 'whip': 9518, 'scalise': 7714, 'hasblown': 4150, 'abc': 393, 'littered': 5229, '536': 272, 'cancelled': 1558, 'compliant': 2032, 'strictest': 8406, '187': 74, 'ranged': 7065, 'murders': 5788, 'palau': 6297, 'iceland': 4398, 'monaco': 5703, 'parker': 6324, 'uk': 9056, 'australia': 985, 'japan': 4789, 'singapore': 8016, 'africa': 577, 'locales': 5249, 'tightest': 8819, 'unfunded': 9134, 'liability': 5158, 'lieutenants': 5179, 'straus': 8388, 'ic': 4396, 'homer': 4307, 'launch': 5059, 'unexpected': 9122, 'upshot': 9206, 'barton': 1103, 'mccalls': 5474, 'named': 5808, 'colleague': 1928, 'indicative': 4537, 'everyday': 3286, 'correspondence': 2267, 'constituents': 2148, 'interpreted': 4676, 'bases': 1109, 'females': 3551, 'adult': 536, 'southside': 8169, 'uranium': 9211, 'coastwales': 1907, 'southwest': 8170, 'yield': 9651, 'oxide': 6269, 'tap': 8628, 'shore': 7948, 'wales': 9386, 'spare': 8180, 'spouses': 8240, 'sink': 8022, 'mcbride': 5470, 'respective': 7407, 'soil': 8117, 'invaded': 4690, 'parameters': 6315, 'tweaked': 9028, 'plots': 6601, 'combating': 1951, 'immensely': 4440, 'motivated': 5753, 'chesney': 1761, 'specialist': 8187, 'dobbs': 2862, 'arrivals': 878, 'plateaued': 6583, 'newcomers': 5893, 'influx': 4580, 'murphyis': 5792, 'scorecard': 7751, 'afp': 575, 'duo': 2992, 'needlessly': 5864, 'trauma': 8935, 'weekly': 9476, '244': 184, 'upticks': 9208, 'actuary': 489, 'unadjusted': 9068, 'formula': 3733, 'admonished': 530, 'server': 7860, 'gration': 4012, 'kenya': 4911, 'skills': 8046, 'independently': 4525, 'grations': 4013, 'lately': 5045, 'qualifiedto': 6987, 'dodged': 2872, 'adelson': 505, 'powell': 6697, 'yg': 9650, 'adelsons': 506, 'napkin': 5813, 'variables': 9256, 'gamers': 3851, 'kill': 4927, 'brazenly': 1387, 'kay': 4895, 'attended': 958, 'shredding': 7973, 'ourpolitifact': 6176, 'menu': 5563, 'colonize': 1942, 'mars': 5420, 'basics': 1112, 'prepare': 6750, 'foods': 3694, 'simulate': 8011, 'ain': 613, 'waterfalls': 9438, 'trees': 8952, 'shopping': 7946, 'carts': 1617, 'lies': 5177, 'cart': 1613, 'occurs': 6041, 'aperson': 784, 'beconsidered': 1147, 'submitted': 8450, 'transmitted': 8931, 'literal': 5227, 'popping': 6649, 'amazon': 697, 'oversimplifying': 6242, 'intend': 4653, 'wereenrolled': 9495, 'load': 5237, 'tellers': 8680, 'pundits': 6955, 'summarizing': 8500, 'ingraham': 4586, 'terrible': 8704, 'untethered': 9187, 'liberals': 5161, 'algorithm': 651, 'conservatives': 2129, 'troubles': 8986, 'collections': 1935, 'madrassa': 5327, 'madrassas': 5328, 'breeding': 1395, 'extremism': 3421, 'bait': 1054, 'switch': 8580, 'accusing': 457, 'protective': 6912, 'viewing': 9312, 'oppressor': 6137, 'dials': 2708, 'pressed': 6768, 'arabic': 842, 'indonesia': 4551, 'memoir': 5548, 'sectarian': 7788, 'celebrated': 1667, 'christian': 1789, 'faiths': 3464, 'tussled': 9025, 'aligned': 653, 'era': 3238, 'dropout': 2966, 'lonegan': 5259, 'robberies': 7533, 'ucr': 9050, 'bookers': 1326, 'disregarded': 2820, 'routes': 7590, 'tremendous': 8953, 'pupil': 6959, 'medal': 5518, 'bronze': 1430, 'skyrocket': 8054, '340': 212, 'chronicle': 1795, 'draft': 2936, 'alameel': 631, 'dodgers': 2873, 'conventional': 2225, 'baltimore': 1068, '160th': 58, 'pitch': 6558, 'larsens': 5037, 'perfect': 6450, 'larsen': 5036, 'flagrantly': 3631, 'joyce': 4845, 'demanded': 2585, 'spanning': 8178, 'wallaces': 9393, 'spontaneous': 8234, 'miscarriage': 5650, 'cancers': 1561, 'unrelated': 9170, 'hoods': 4319, 'dilation': 2738, 'curettage': 2414, 'laubenberg': 5055, 'surgery': 8545, 'removes': 7306, 'uterus': 9236, 'solidly': 8130, 'edge': 3042, 'ritters': 7523, 'successful': 8474, 'wins': 9558, 'ritter': 7522, 'stir': 8355, 'challengers': 1709, 'rides': 7499, 'jacksonvilles': 4776, 'mile': 5608, 'channel': 1725, 'authorize': 992, 'stalled': 8267, 'rpofs': 7600, 'eighth': 3074, 'dependent': 2621, 'dependence': 2619, 'carters': 1615, 'fostering': 3746, 'abeles': 395, 'intense': 4656, 'accorded': 440, 'cullen': 2407, 'newsletter': 5899, 'lebron': 5104, 'stops': 8368, '118': 32, 'athlete': 938, 'sliver': 8074, 'astute': 935, 'flaw': 3637, 'nba': 5847, 'beginsjan': 1159, 'hypothetically': 4394, 'rusty': 7634, 'backwater': 1041, 'saloon': 7663, 'burgers': 1478, 'burger': 1477, 'flipping': 3652, 'thereby': 8756, 'ripple': 7514, 'highway': 4255, 'diverted': 2846, 'ogden': 6077, 'overhaul': 6215, 'rickety': 7493, 'watson': 9440, 'recaps': 7134, 'balancing': 1057, 'soar': 8107, 'favoring': 3512, 'membership': 5544, 'weakened': 9449, 'notified': 5971, 'changesincluding': 1723, 'ppo': 6703, 'realized': 7115, 'hmo': 4283, 'desantis': 2644, 'encountering': 3150, 'infiltrators': 4569, 'pressing': 6769, 'pumps': 6952, 'inspection': 4623, 'stickers': 8346, 'inspections': 4624, 'cheating': 1748, 'tda': 8652, 'gilbert': 3922, 'haven': 4163, 'duly': 2986, 'inspected': 4622, 'peek': 6411, 'pocketbook': 6608, 'punch': 6953, 'cheated': 1747, 'proved': 6922, 'stays': 8317, 'concession': 2063, 'initiated': 4595, 'dot': 2913, 'applauded': 803, 'concessions': 2064, 'defies': 2547, 'ordering': 6150, 'misrepresented': 5662, 'segments': 7810, 'fencing': 3555, 'continuous': 2194, 'barriers': 1097, 'layered': 5075, 'defying': 2560, 'bosses': 1346, 'laundering': 5060, 'vin': 9319, 'gopal': 3968, '11th': 33, 'links': 5217, 'disgraced': 2796, 'occasional': 6031, 'becoming': 1146, 'references': 7196, 'naturalized': 5842, 'transferred': 8923, 'digital': 2735, 'naturalization': 5841, 'magazine': 5330, 'smitherman': 8094, 'sawhill': 7700, 'haskins': 4153, 'marry': 5419, 'pair': 6293, 'stressed': 8396, 'roaring': 7530, 'christine': 1793, 'radogno': 7039, 'freeze': 3784, 'madigan': 5325, 'giants': 3918, 'train': 8911, 'rutherford': 7637, '1976': 109, 'playing': 6593, 'albany': 637, 'roster': 7577, '1st': 133, 'substitute': 8464, '950': 373, 'asterisk': 933, 'perez': 6449, 'teenager': 8673, 'glock': 3947, 'strikingly': 8412, 'teens': 8674, 'acquire': 470, 'securing': 7794, 'flopped': 3660, 'flop': 3659, 'gerry': 3909, 'connolly': 2117, 'spree': 8243, 'connollys': 2118, 'keating': 4898, 'guesswork': 4067, 'generous': 3895, 'digits': 2736, 'mann': 5378, 'alleging': 664, 'indictable': 4539, 'constitutionally': 2155, 'overfunded': 6214, 'sayshillary': 7707, 'syrian': 8595, 'shed': 7916, '550': 277, 'screen': 7762, 'screening': 7764, 'interviews': 4683, 'ngo': 5904, 'referrals': 7199, 'kooyenga': 4959, 'caucus': 1647, 'moves': 5768, 'gaap': 3838, 'awareness': 1015, 'unmentioned': 9162, 'decreasing': 2523, 'benzene': 1193, 'exposure': 3397, 'exposures': 3398, 'constitute': 2149, 'europeans': 3268, 'mccaul': 5479, 'travelers': 8939, 'fill': 3582, 'sift': 7989, 'suspicious': 8564, 'pieces': 6540, 'thorpe': 8786, 'shade': 7885, 'ninety': 5916, 'topsoil': 8864, 'inadequate': 4488, 'moisture': 5699, 'crops': 2377, 'watters': 9441, 'subjective': 8448, 'emotions': 3131, 'agrarian': 595, 'minded': 5628, 'harvest': 4148, 'weather': 9462, 'draconian': 2935, 'cutbacks': 2429, 'arc': 844, 'tunnel': 9010, 'philippines': 6516, 'gen': 3883, 'pershing': 6475, 'dipped': 2747, 'pigs': 6543, 'blood': 1278, 'rebels': 7127, 'disbelief': 2770, 'persisted': 6477, 'titled': 8834, '1860': 72, '1917': 82, 'republished': 7364, 'kentucky': 4909, 'commanding': 1964, 'col': 1920, 'grave': 4014, 'pig': 6542, 'pleasant': 6595, 'prospect': 6901, 'assassins': 901, 'edition': 3045, 'greenwood': 4029, 'maj': 5345, 'bell': 1174, 'commander': 1963, 'custom': 2424, 'bury': 1489, 'discourage': 2780, 'maintaining': 5344, 'crazy': 2333, 'fanatics': 3479, 'silbey': 8002, 'linn': 5218, 'janda': 4784, 'kasichs': 4890, 'planpolitifact': 6577, '130th': 43, 'alliances': 667, 'batchelders': 1118, 'tone': 8851, 'judicious': 4856, 'dittoe': 2843, 'certainty': 1690, 'jobless': 4821, 'conditioned': 2078, 'fickle': 3560, 'pakistan': 6296, 'remembering': 7299, 'councils': 2288, 'janesville': 4786, 'sheboygan': 7915, 'regularly': 7241, 'ram': 7058, 'outliers': 6190, 'egypt': 3069, 'lebanon': 5103, 'licensing': 5172, 'chapter': 1726, 'civilization': 1828, 'regulating': 7244, 'excesses': 3323, 'liberty': 5165, 'advancing': 541, 'intolerant': 4685, 'mold': 5700, 'illegitimate': 4425, 'pairing': 6295, 'highlighted': 4251, 'neumanns': 5884, 'narration': 5819, 'huntsman': 4375, 'arabias': 841, 'recoverable': 7167, 'runner': 7618, 'huntsmans': 4376, 'climbed': 1869, 'levies': 5153, 'wild': 9540, 'roller': 7557, 'coaster': 1906, 'weaknesses': 9452, 'commonly': 1989, 'depressed': 2638, 'declining': 2518, 'optional': 6144, 'hospice': 4331, 'islanders': 4748, 'intelligent': 4652, 'ensure': 3193, 'wisely': 9567, 'delegates': 2571, 'superdelegates': 8514, 'pledged': 6597, 'persuade': 6487, 'boat': 1297, 'korean': 4962, 'sweatshop': 8574, 'haiti': 4095, 'sae': 7648, 'guatemala': 4063, 'factory': 3448, 'sean': 7769, 'motions': 5752, 'procedural': 6821, 'advance': 538, 'oversell': 6236, 'lackthereof': 4992, 'qualitative': 6992, 'quantifiable': 6995, 'slowing': 8080, 'swift': 8578, 'fluid': 3674, 'rolein': 7552, 'baloney': 1067, 'entirety': 3205, 'deceptive': 2504, 'jamieson': 4782, 'faults': 3507, 'distortions': 2831, 'snippets': 8103, 'presents': 6761, 'judged': 4849, 'binge': 1240, 'inherited': 4590, 'percentmore': 6445, 'adopt': 531, 'barak': 1087, 'muhammed': 5776, 'hoosiers': 4321, 'statistician': 8307, 'actively': 480, 'thisfact': 8777, 'isthe': 4760, 'spilled': 8216, 'milk': 5615, 'hazard': 4170, 'moooooooved': 5720, 'hub': 4359, 'storing': 8373, 'cybersecurity': 2433, 'precautions': 6718, 'accustomed': 458, 'vulnerable': 9373, 'boyce': 1364, 'sensitive': 7839, 'treasurers': 8945, 'mosque': 5742, 'deputys': 2642, 'longterm': 5265, 'shrink': 7974, 'calculatorthe': 1523, 'calculator': 1522, 'falsify': 3474, 'instrument': 4642, 'displays': 2809, 'device': 2698, 'earmarksits': 3012, 'buckners': 1444, 'vehicles': 9273, 'horlacher': 4329, 'buckner': 1443, 'pocan': 6607, 'roys': 7599, 'somebody': 8136, 'chaffetz': 1700, 'hicks': 4244, 'tripoli': 8977, 'mortar': 5738, 'drone': 2964, 'militia': 5613, 'sickening': 7985, 'depressing': 2639, 'disgusting': 2798, 'clarifies': 1839, 'utterly': 9239, '794': 344, 'honored': 4318, 'archived': 847, 'creator': 2340, 'reckless': 7150, 'afl': 573, 'cio': 1809, 'gini': 3928, 'govt': 3983, 'supremacy': 8537, 'gigantic': 3920, 'remote': 7302, 'haridopolos': 4135, 'warrant': 9413, 'cias': 1804, 'hayden': 4168, 'transcripts': 8921, 'hyde': 4386, 'comprises': 2041, 'lent': 5137, 'blunt': 1289, 'bloomberg': 1279, 'sanford': 7675, 'qualifiers': 6988, 'essig': 3252, 'hcahospital': 4175, 'indicted': 4540, 'hca': 4174, 'conviction': 2233, 'noteworthy': 5967, 'indictments': 4542, 'mad': 5321, 'unwilling': 9194, 'survive': 8559, 'murdered': 5785, '114': 29, 'junk': 4866, 'firmly': 3617, 'payout': 6399, 'appalachia': 790, 'webb': 9465, 'comprise': 2040, 'dakotas': 2442, 'majorities': 5347, 'native': 5838, 'webbs': 9466, 'alderman': 644, 'donovan': 2905, 'anybody': 772, 'nobodys': 5926, 'clips': 1877, 'footage': 3696, 'journalists': 4844, 'networks': 5883, 'blasted': 1268, 'genuine': 3899, 'hosts': 4336, 'reilly': 7251, 'risked': 7519, 'cortez': 2273, 'mastos': 5435, 'masto': 5434, 'nrsc': 5984, 'quirks': 7018, 'connecting': 2113, 'fines': 3601, 'thatrepublican': 8736, 'darryl': 2457, 'glennhas': 3943, 'evil': 3293, 'bennet': 1189, 'disdain': 2793, 'bipartisanship': 1246, 'tobacco': 8838, 'luck': 5305, 'smoking': 8098, 'prime': 6793, 'teenage': 8672, 'dianne': 2710, 'shall': 7896, 'displayed': 2808, 'pave': 6387, 'bans': 1081, 'advertising': 547, 'lift': 5183, 'cloud': 1892, 'feinsteins': 3543, 'rushed': 7628, 'fitzgerald': 3624, 'skipped': 8050, 'praised': 6712, '24th': 187, 'congested': 2100, 'adler': 516, 'inrix': 4611, 'congestion': 2101, '26th': 194, 'yorks': 9656, 'experiencing': 3373, 'afford': 569, 'prieto': 6788, 'assemblyman': 906, 'barackobama': 1086, 'upwards': 9210, '168': 61, 'infers': 4568, 'predecessors': 6733, 'fdr': 3521, '1900': 77, 'kennedy': 4907, 'revoked': 7470, 'sarlo': 7682, 'njtv': 5921, 'heterosexual': 4238, 'plummeted': 6603, 'northern': 5959, 'stanley': 8279, 'kurtz': 4976, 'hurts': 4379, 'badgett': 1044, 'scandinavia': 7717, 'intensifies': 4657, 'parental': 6318, 'cohabitation': 1917, 'intentions': 4661, 'comey': 1959, 'comeys': 1960, 'imperfect': 4452, 'touch': 8875, 'conservation': 2126, 'deniers': 2606, 'leap': 5092, 'league': 5085, 'regarded': 7225, 'marketed': 5409, 'cousins': 2313, 'clinic': 1871, 'yellow': 9646, 'consents': 2124, 'pertinent': 6491, 'reinvestment': 7258, 'arra': 874, 'crumbling': 2395, 'roads': 7529, 'bolling': 1309, 'critiqued': 2374, 'shortcomings': 7953, 'efficiency': 3064, 'promoting': 6873, 'dwarfed': 3000, 'undermine': 9101, 'louie': 5292, 'gohmert': 3958, 'collins': 1941, 'linked': 5215, 'egyptian': 3070, 'characters': 1730, 'achievements': 462, '166': 60, 'laying': 5076, 'kkk': 4946, 'marched': 5396, 'mebane': 5514, 'victorytrump': 9305, 'corroborated': 2269, 'rumors': 7616, 'wearing': 9461, 'regalia': 7223, 'amongst': 717, 'overheard': 6218, 'excited': 3328, 'passel': 6360, 'forconditions': 3711, 'nunns': 5998, 'misconstrues': 5652, 'memos': 5551, 'undergraduate': 9098, 'mcraven': 5494, 'burdened': 1471, 'piled': 6544, 'outpaces': 6196, 'sanctionswas': 7670, 'landscape': 5019, 'heightening': 4206, 'calculus': 1524, 'withholdings': 9574, 'financially': 3592, 'loaded': 5238, 'bias': 1212, '7billion': 345, 'destinations': 2669, 'universally': 9149, 'criteria': 2364, '214': 173, 'israelisgave': 4754, 'sergeant': 7853, 'freed': 3780, '027': 4, 'sgt': 7883, 'gilad': 3921, 'shalit': 7895, 'captive': 1581, 'hamas': 4102, 'bondi': 1320, 'bondis': 1321, 'secretly': 7786, 'starbucks': 8281, 'stack': 8256, 'tiered': 8816, 'sponsorship': 8233, 'purely': 6967, 'farmers': 3491, 'dentists': 2611, 'transparent': 8933, 'dark': 2455, 'tripled': 8975, 'yardsticks': 9640, 'maximizes': 5459, 'horizon': 4328, '1983': 115, 'housing': 4348, 'mortgages': 5740, 'bailey': 1051, 'hutchison': 4383, 'succeeding': 8472, 'richards': 7489, 'abolished': 406, 'roves': 7594, 'succeeded': 8471, 'abolition': 408, 'hutchisons': 4384, 'stint': 8353, 'scraping': 7760, 'finds': 3597, 'cuccinelli': 2405, 'gunsales': 4079, 'norment': 5956, 'purchasers': 6962, 'leffingwells': 5109, 'rolled': 7556, 'lapsed': 5029, 'similarly': 8006, '113': 28, 'rough': 7581, 'fairs': 3462, 'pegged': 6414, 'inconclusive': 4511, 'selecting': 7816, 'varies': 9260, 'uw': 9241, 'objecting': 6013, 'envisions': 3219, 'sorely': 8150, 'eclipsed': 3031, 'dwindled': 3002, 'steep': 8324, 'plunge': 6605, 'void': 9352, 'medina': 5527, 'mentioning': 5561, 'populated': 6652, 'malfeasance': 5355, 'investigator': 4703, 'performing': 6455, 'backlogged': 1036, 'whitmire': 9523, 'allege': 661, 'breakout': 1392, 'braley': 1374, 'campaigned': 1542, 'landmark': 5015, 'menendez': 5555, 'kyrillos': 4980, 'holdouts': 4293, 'displeasure': 2810, 'withdrawals': 9573, 'disastrous': 2769, 'authorization': 991, 'outpatient': 6198, 'walter': 9395, 'meals': 5497, 'proxies': 6937, 'reefs': 7190, 'keys': 4918, 'upgrade': 9200, 'sewer': 7879, 'worthy': 9617, 'relatedto': 7265, 'conscience': 2119, 'discriminated': 2786, 'saydont': 7702, 'gallup': 3847, 'deace': 2475, 'surgical': 8546, 'wheat': 9507, 'chaff': 1699, 'crowded': 2387, 'debates': 2494, 'primaries': 6790, 'secondhand': 7780, 'smoke': 8096, 'kills': 4930, 'stossel': 8378, 'studying': 8435, 'milbank': 5607, 'decidedly': 2507, 'impressionable': 4474, 'instructed': 4638, 'sing': 8015, 'praises': 6713, 'steele': 8323, 'directing': 2752, 'mikehuckabee': 5606, 'julie': 4859, 'barko': 1090, 'deputy': 2641, 'celebrity': 1670, 'myspace': 5804, 'thefacebook': 8743, 'brag': 1370, 'popularity': 6651, 'ratification': 7084, 'consultative': 2165, 'contingent': 2188, 'weigh': 9478, 'symbolic': 8589, 'apple': 804, 'factories': 3445, 'isaacson': 4738, 'recounted': 7164, 'optimistic': 6140, 'ammunition': 714, 'pages': 6284, 'coupled': 2307, 'urgently': 9215, 'ecomony': 3032, 'weighs': 9481, 'repaying': 7327, 'repay': 7326, '117': 31, 'missiles': 5667, 'islamists': 4746, 'thatu': 8738, 'destroyed': 2671, 'rendered': 7309, 'inoperable': 4606, 'militias': 5614, 'looting': 5275, 'nato': 5839, 'carcinogenic': 1587, 'hydrocarbons': 4388, 'cerullo': 1695, 'reputable': 7365, 'inhaled': 4588, 'default': 2534, 'creditors': 2348, 'bondholders': 1319, 'uncharted': 9077, 'territory': 8706, 'creditworthiness': 2350, 'unblemished': 9072, 'risks': 7521, 'prioritization': 6800, 'unfavorable': 9126, 'upward': 9209, 'trendline': 8956, 'ribbon': 7485, 'excellence': 3316, 'terminations': 8702, 'dohl': 2883, 'closures': 1890, 'doggetts': 2880, 'zilker': 9682, 'elementary': 3094, 'suggestions': 8490, 'carly': 1600, 'fiorina': 3607, 'hewlett': 4241, 'packard': 6278, 'compaq': 2001, 'hp': 4356, 'hps': 4357, 'organic': 6159, 'latinos': 5049, 'filibustered': 3578, 'fannie': 3482, 'mae': 5329, 'freddie': 3778, 'mac': 5315, 'assign': 918, 'filibustering': 3579, 'strays': 8389, 'equating': 3230, 'diplomacy': 2745, 'sotomayor': 8155, 'mainstream': 5341, 'rulings': 7615, 'greentech': 4028, 'slice': 8068, 'slammed': 8059, 'deferral': 2543, 'overseeing': 6234, 'unexpectedly': 9123, 'howards': 4353, 'traces': 8894, 'shortfalls': 7956, 'fema': 3549, 'reputation': 7366, 'inquiry': 4609, 'lands': 5018, 'kingston': 4939, 'trouble': 8984, 'ms': 5772, 'kagan': 4881, 'pamphlets': 6303, 'awful': 1017, 'muddled': 5775, 'paine': 6287, 'pamphlet': 6302, 'caymans': 1659, 'thad': 8724, 'cochran': 1911, 'damaged': 2446, 'chocola': 1779, 'twin': 9034, 'span': 8176, 'devastate': 2688, 'dependency': 2620, '122': 37, 'manufacturer': 5386, 'matteiss': 5452, 'strikes': 8409, 'hinting': 4267, '650': 310, 'eds': 3049, 'lieberman': 5175, 'classic': 1846, 'stroke': 8418, 'pen': 6420, 'overrule': 6230, 'oversaw': 6232, 'settlement': 7875, 'appropriately': 826, 'crediting': 2347, 'rosalyn': 7573, 'dance': 2449, 'morrissey': 5735, 'pulling': 6949, 'parlor': 6330, 'neighbor': 5874, 'informal': 4581, 'centuries': 1681, 'nicole': 5910, '12th': 41, 'heavy': 4198, 'striking': 8411, 'replaced': 7339, 'assessing': 913, 'misstating': 5676, 'parkway': 6326, 'turnpike': 9023, '125': 40, 'roggensacks': 7550, 'fallone': 3470, 'clarifications': 1837, 'saysdemocratic': 7706, 'alisha': 655, 'morgan': 5729, 'encountered': 3149, 'wilsons': 9549, 'nasa': 5824, 'outreach': 6203, 'bolden': 1307, 'nasas': 5825, 'akin': 628, 'deserting': 2653, 'outer': 6183, 'concentrate': 2057, 'nile': 5914, 'unbelievable': 9071, 'repaid': 7323, 'framing': 3763, 'gmac': 3952, 'kincaid': 4932, 'readiness': 7103, 'resigning': 7396, '1985': 117, 'string': 8413, 'keeps': 4902, 'wives': 9577, 'polygamy': 6640, 'lowering': 5299, 'covering': 2317, 'hollow': 4298, 'deer': 2533, 'kessler': 4915, 'crossed': 2380, 'slickers': 8069, 'hairs': 4094, 'sheds': 7917, 'downgrading': 2922, 'overselling': 6237, 'competing': 2013, 'observation': 6021, 'minus': 5644, 'copayments': 2240, 'reimbursements': 7254, 'stems': 8333, 'cables': 1513, 'desk': 2665, 'pasco': 6352, 'fiorentino': 3606, 'cope': 2241, 'refundable': 7212, 'graveyards': 4016, 'museums': 5795, 'salvages': 7664, 'aircraft': 615, 'militaries': 5611, 'salvaging': 7665, 'buys': 1505, 'neighbors': 5878, 'tear': 8661, 'sally': 7662, 'bethea': 1203, 'chattahoochee': 1744, 'riverkeeper': 7526, 'monitored': 5708, 'customer': 2425, 'japans': 4791, 'budgetwe': 1451, 'senor': 7836, 'sustainable': 8566, 'mess': 5571, 'tony': 8853, 'negotiation': 5872, 'rezkos': 7478, 'seller': 7822, 'discount': 2779, 'relation': 7267, '076': 11, 'manipulation': 5377, 'backups': 1040, 'basements': 1108, 'milwaukees': 5624, 'floods': 3656, 'bohls': 1304, 'wet': 9501, 'overboard': 6211, 'scare': 7720, 'ok': 6083, 'nichols': 5908, 'billboards': 1230, 'clothing': 1891, 'shelter': 7924, 'heritage': 4228, 'summarize': 8499, 'jackie': 4772, 'winters': 9560, 'evangelical': 3272, 'catholics': 1645, 'mormons': 5730, 'sanctioned': 7669, 'misread': 5660, 'sect': 7787, 'ports': 6671, 'isakson': 4739, '352': 218, 'isaksons': 4740, 'beltline': 1178, 'acre': 472, 'davidson': 2467, 'manage': 5360, 'overflow': 6213, 'stormwater': 8375, 'pond': 6642, 'leah': 5086, 'vukmir': 9371, 'churches': 1801, 'playgrounds': 6592, 'flier': 3645, 'cares': 1595, 'permits': 6465, 'cowles': 2322, 'bidder': 1217, 'buyer': 1503, 'mosques': 5743, 'surveilling': 8554, 'detectives': 2678, 'mapped': 5393, 'tracked': 8897, 'appointee': 815, 'acted': 475, 'conducts': 2083, 'shuttered': 7982, 'enrolling': 3191, 'minnesota': 5637, 'forgoing': 3724, 'nuts': 6002, 'carburetors': 1586, 'craig': 2327, 'fraser': 3771, 'forum': 3741, 'slack': 8057, 'trickier': 8964, 'characterizes': 1729, 'sizes': 8037, 'mcdonnells': 5489, 'postings': 6686, 'explore': 3390, 'plainer': 6567, 'sounded': 8159, 'manik': 5375, 'delayed': 2568, 'awarding': 1013, 'vending': 9274, 'procurement': 6829, 'obliged': 6017, 'beyonce': 1210, 'fixated': 3628, 'submitting': 8451, 'brace': 1368, 'rice': 7486, 'saysdavid': 7705, 'piling': 6545, 'shareholders': 7905, 'kkr': 4947, 'baptist': 1083, 'inferior': 4567, 'subservient': 8453, 'servant': 7857, 'serves': 7861, 'begins': 1158, 'sliding': 8070, 'xviii': 9636, 'interpretations': 4675, 'orlando': 6165, 'geneva': 3896, 'enters': 3199, 'spins': 8222, 'explodes': 3387, 'conventions': 2226, 'wartime': 9418, 'mateens': 5441, 'moores': 5722, 'inflicted': 4576, 'damages': 2447, 'schip': 7732, 'paychecks': 6392, 'defines': 2550, 'italy': 4762, 'nominal': 5927, 'runthe': 7622, 'parity': 6322, 'latta': 5052, 'warnings': 9412, 'assess': 912, 'burn': 1482, '631': 305, 'aim': 611, 'inches': 4497, 'figuring': 3572, 'shots': 7960, 'duck': 2979, 'duffys': 2982, 'trail': 8909, 'prey': 6784, 'blind': 1269, '40s': 233, 'format': 3728, 'averaged': 1004, 'smack': 8086, 'blips': 1270, 'irreversible': 4734, 'unconciousness': 9082, 'function': 3815, 'encyclopedia': 3155, 'cerebral': 1685, 'oculocephalic': 6045, 'reflex': 7207, 'focuses': 3680, 'helio': 4209, 'melo': 5541, 'singles': 8020, 'mirrors': 5648, '635': 306, 'optimistically': 6141, 'proportionately': 6888, 'footing': 3698, 'fathers': 3503, 'alluding': 676, 'bishops': 1253, 'accumulated': 449, 'resulting': 7436, 'refusals': 7216, 'widen': 9535, 'workaround': 9598, 'richest': 7491, 'workeralthough': 9601, 'peggy': 6415, 'riley': 7510, 'factored': 3444, 'wealthiest': 9455, '72': 328, 'audited': 974, '720': 329, '539': 273, 'accelerating': 428, 'desjarlaiss': 2664, 'tn': 8835, 'disgruntled': 2797, 'adamantly': 491, 'realm': 7117, 'hyperbole': 4389, 'convoluted': 2236, 'desjarlais': 2663, 'secretaries': 7784, 'clintonsthe': 1875, 'whos': 9530, 'schumer': 7743, 'grandiose': 4004, 'rarely': 7077, 'recover': 7166, 'urgency': 9214, 'lang': 5022, 'reward': 7472, 'healthier': 4186, 'justify': 4876, 'wellness': 9490, 'investedin': 4699, 'shrunk': 7977, 'cliff': 1864, 'gambling': 3849, 'forcedhome': 3706, 'trained': 8912, 'egregious': 3068, 'counterterrorism': 2296, 'ensures': 3194, '535': 271, 'discloses': 2776, 'fringe': 3797, 'recurring': 7172, 'theme': 8747, 'parrots': 6331, 'ganley': 3854, 'soliciting': 8125, 'spotted': 8238, 'advises': 552, 'kathryn': 4892, 'starkey': 8282, 'aided': 607, 'abetted': 397, 'seconding': 7781, 'millage': 5616, 'penningtons': 6429, 'basin': 1113, 'taxable': 8643, 'values': 9251, 'soared': 8108, '194': 87, 'suppression': 8536, 'invalidates': 4692, 'marks': 5415, 'tokaji': 8843, 'fudges': 3807, 'lindsay': 5208, 'shea': 7914, 'specialized': 8188, 'porters': 6661, 'gradually': 3993, 'jeanneshaheens': 4797, 'surged': 8543, 'shaheens': 7890, 'jointly': 4833, 'fluctuations': 3673, 'discern': 2772, 'storydont': 8377, 'aviation': 1007, 'airports': 624, 'faa': 3430, 'adjust': 512, 'airlines': 621, 'banstetter': 1082, 'ehrhart': 3071, 'faas': 3431, 'patterson': 6381, 'mayoral': 5466, 'injunction': 4598, 'dumping': 2988, 'petrochemicals': 6502, 'springs': 8245, 'aquifer': 838, 'rockwell': 7545, 'lowes': 5301, 'sunset': 8508, 'plaintiffs': 6569, 'observing': 6025, 'hydrocarbon': 4387, 'sheen': 7918, 'runoff': 7620, 'flowing': 3669, 'underground': 9099, 'limestone': 5199, 'engineer': 3178, 'oily': 6082, 'rooted': 7570, 'dump': 2987, 'impervious': 4453, 'sos': 8154, 'malaysian': 5353, 'conglomerate': 2102, 'genting': 3898, 'square': 8250, 'suzanne': 8569, 'citations': 1814, 'computed': 2046, 'rounding': 7586, 'contradicting': 2204, 'comparable': 2002, 'rabinowitz': 7028, 'riding': 7501, 'roughshod': 7583, 'judicially': 4854, 'chiropractor': 1777, '380': 226, 'interesting': 4666, 'perception': 6446, 'outrageous': 6202, 'bother': 1349, 'pip': 6553, 'sway': 8571, 'liking': 5195, 'ultimate': 9061, 'propose': 6892, 'condensed': 2076, 'manipulated': 5376, 'emerged': 3126, 'protectionshe': 6911, 'embargowhile': 3119, 'embargo': 3118, 'parenthoodmartin': 6320, 'biographers': 1243, 'margaret': 5399, 'sanger': 7676, 'founder': 3752, 'kansas': 4886, 'consumption': 2172, 'dogs': 2881, 'pored': 6657, 'rex': 7476, 'fido': 3562, 'knapp': 4949, 'bulbs': 1462, 'ridden': 7495, 'morrison': 5733, 'numero': 5995, 'uno': 9164, 'heroin': 4232, 'socially': 8113, 'prayer': 6715, 'vigil': 9316, 'scout': 7757, 'cookies': 2238, 'scouts': 7758, 'frc': 3777, 'asks': 898, 'si': 7984, 'dos': 2912, 'singled': 8019, 'prayers': 6716, 'pray': 6714, 'mints': 5643, 'saunders': 7691, 'vouchers': 9366, 'restricting': 7426, 'yep': 9647, 'shaking': 7892, 'nitty': 5918, 'gritty': 4039, 'eyes': 3427, '450': 245, 'starkly': 8283, '548': 275, 'pales': 6298, 'payers': 6395, 'units': 9147, 'retrain': 7449, 'equip': 3232, 'deployments': 2630, 'discusses': 2789, 'capabilities': 1571, 'chronic': 1794, 'corsi': 2272, 'rigor': 7509, 'contracting': 2201, 'endorses': 3164, 'humor': 4368, 'smear': 8090, 'budgetbuono': 1449, 'bail': 1049, 'taylors': 8650, 'laura': 5061, 'peterson': 6497, 'exclude': 3329, 'extrapolation': 3418, 'ernst': 3240, 'saidpersonhood': 7655, 'foresees': 3717, '60s': 297, 'yale': 9638, 'scientist': 7746, 'mayhew': 5464, 'replicated': 7343, 'battles': 1124, 'relating': 7266, '1949': 89, '1966': 101, 'pragmatism': 6710, 'bert': 1199, 'rockman': 7544, 'purdue': 6965, 'art': 882, 'forging': 3723, 'roles': 7553, 'revealing': 7456, 'toned': 8852, 'aa': 387, 'aaa': 388, 'sessions': 7869, 'esquivel': 3248, 'policymaking': 6624, 'goldman': 3962, 'sachs': 7640, 'frye': 3805, 'gallons': 3846, 'maple': 5392, 'syrup': 8596, 'ayotte': 1019, 'ayottes': 1020, 'muncher': 5782, 'flinn': 3648, 'forums': 3742, 'collateral': 1927, 'hamper': 4104, 'justified': 4874, 'un': 9064, 'jeopardizes': 4805, 'tools': 8858, 'expresses': 3402, 'screeners': 7763, 'mushroomed': 5796, '590': 289, 'variances': 9257, 'bulging': 1463, 'infancy': 4564, 'mica': 5591, 'cadillac': 1514, 'joes': 4824, 'janes': 4785, 'insufficient': 4643, 'qualms': 6994, 'norah': 5950, 'donnell': 2901, 'withdraw': 9571, 'petraeus': 6500, 'recommends': 7157, 'moon': 5719, 'landing': 5013, 'fake': 3465, 'consumed': 2168, 'quantity': 6998, 'petroleum': 6503, 'bankrupted': 1076, 'bankruptcies': 1074, 'cbs': 1662, 'vindicating': 9320, 'conclusive': 2070, 'mastro': 5436, 'tamp': 8624}\n"
          ],
          "name": "stdout"
        }
      ]
    },
    {
      "cell_type": "markdown",
      "metadata": {
        "id": "tAA5HKCJLPSE",
        "colab_type": "text"
      },
      "source": [
        "says': 9676, 'the': 10988, 'annies': 1044, 'list': 6639, 'political': 8376,"
      ]
    },
    {
      "cell_type": "code",
      "metadata": {
        "id": "v6Z5gorHSbDb",
        "colab_type": "code",
        "colab": {
          "base_uri": "https://localhost:8080/",
          "height": 173
        },
        "outputId": "f5fb7da7-b292-464c-84df-41824d1ab0d8"
      },
      "source": [
        "# summarize encoded vector\n",
        "print(traindata_cvec.shape)\n",
        "print(type(traindata_cvec))\n",
        "print(traindata_cvec.toarray())"
      ],
      "execution_count": 40,
      "outputs": [
        {
          "output_type": "stream",
          "text": [
            "(1284, 9690)\n",
            "<class 'scipy.sparse.csr.csr_matrix'>\n",
            "[[0 0 0 ... 0 0 0]\n",
            " [0 0 0 ... 0 0 0]\n",
            " [0 0 0 ... 0 0 0]\n",
            " ...\n",
            " [0 0 0 ... 0 0 0]\n",
            " [0 0 0 ... 0 0 0]\n",
            " [0 0 0 ... 0 0 0]]\n"
          ],
          "name": "stdout"
        }
      ]
    },
    {
      "cell_type": "code",
      "metadata": {
        "id": "JXkLvaeOTlOs",
        "colab_type": "code",
        "colab": {}
      },
      "source": [
        "# Calculate inverse document frequencies\n",
        "# create the transform\n",
        "tfidf_vec = TfidfTransformer()\n",
        "\n",
        "# tokenize, build vocab and encode training data\n",
        "traindata_tfidf_vec = tfidf_vec.fit_transform(traindata_cvec)"
      ],
      "execution_count": 0,
      "outputs": []
    },
    {
      "cell_type": "code",
      "metadata": {
        "id": "htKkuVqqI5al",
        "colab_type": "code",
        "colab": {
          "base_uri": "https://localhost:8080/",
          "height": 52
        },
        "outputId": "6183b8bc-8217-4fbd-a725-bc266118a088"
      },
      "source": [
        "# tfidf score\n",
        "tfidf_vec.transform(traindata_cvec)"
      ],
      "execution_count": 42,
      "outputs": [
        {
          "output_type": "execute_result",
          "data": {
            "text/plain": [
              "<1284x9690 sparse matrix of type '<class 'numpy.float64'>'\n",
              "\twith 75478 stored elements in Compressed Sparse Row format>"
            ]
          },
          "metadata": {
            "tags": []
          },
          "execution_count": 42
        }
      ]
    },
    {
      "cell_type": "code",
      "metadata": {
        "id": "ISU5XaOzUOvm",
        "colab_type": "code",
        "colab": {
          "base_uri": "https://localhost:8080/",
          "height": 156
        },
        "outputId": "7c4abb8b-36d5-4dc1-b256-d7be7caa8315"
      },
      "source": [
        "# summarize encoded vector\n",
        "print(traindata_tfidf_vec.shape)\n",
        "print(traindata_tfidf_vec.toarray())"
      ],
      "execution_count": 43,
      "outputs": [
        {
          "output_type": "stream",
          "text": [
            "(1284, 9690)\n",
            "[[0. 0. 0. ... 0. 0. 0.]\n",
            " [0. 0. 0. ... 0. 0. 0.]\n",
            " [0. 0. 0. ... 0. 0. 0.]\n",
            " ...\n",
            " [0. 0. 0. ... 0. 0. 0.]\n",
            " [0. 0. 0. ... 0. 0. 0.]\n",
            " [0. 0. 0. ... 0. 0. 0.]]\n"
          ],
          "name": "stdout"
        }
      ]
    },
    {
      "cell_type": "code",
      "metadata": {
        "id": "cwO2uwbqUTJD",
        "colab_type": "code",
        "colab": {}
      },
      "source": [
        "# tfidf + ngrams\n",
        "tfidf_vectorizer = TfidfVectorizer(stop_words='english', ngram_range=(1,2), use_idf=True, smooth_idf=True)\n",
        "tfidf_vectorizer_vectors = tfidf_vectorizer.fit_transform(traindata['new'].values)"
      ],
      "execution_count": 0,
      "outputs": []
    },
    {
      "cell_type": "code",
      "metadata": {
        "id": "PLd2GN9smTvZ",
        "colab_type": "code",
        "colab": {
          "base_uri": "https://localhost:8080/",
          "height": 1000
        },
        "outputId": "d7668452-3dfd-4321-baf9-6fd4db6398a2"
      },
      "source": [
        "# print(tfidf_ngram.toarray())\n",
        "# tfidf.vocabulary_\n",
        "first_vector_tfidfvectorizer = tfidf_vectorizer_vectors[0]\n",
        "\n",
        "\n",
        "# place tf-idf values in a pandas data frame\n",
        "df = pd.DataFrame(first_vector_tfidfvectorizer.T.todense(), index=tfidf_vectorizer.get_feature_names(), columns=[\"tfidf\"])\n",
        "df.sort_values(by=[\"tfidf\"],ascending=False)\n",
        " "
      ],
      "execution_count": 45,
      "outputs": [
        {
          "output_type": "execute_result",
          "data": {
            "text/html": [
              "<div>\n",
              "<style scoped>\n",
              "    .dataframe tbody tr th:only-of-type {\n",
              "        vertical-align: middle;\n",
              "    }\n",
              "\n",
              "    .dataframe tbody tr th {\n",
              "        vertical-align: top;\n",
              "    }\n",
              "\n",
              "    .dataframe thead th {\n",
              "        text-align: right;\n",
              "    }\n",
              "</style>\n",
              "<table border=\"1\" class=\"dataframe\">\n",
              "  <thead>\n",
              "    <tr style=\"text-align: right;\">\n",
              "      <th></th>\n",
              "      <th>tfidf</th>\n",
              "    </tr>\n",
              "  </thead>\n",
              "  <tbody>\n",
              "    <tr>\n",
              "      <th>70s</th>\n",
              "      <td>0.328225</td>\n",
              "    </tr>\n",
              "    <tr>\n",
              "      <th>decade</th>\n",
              "      <td>0.242670</td>\n",
              "    </tr>\n",
              "    <tr>\n",
              "      <th>lower</th>\n",
              "      <td>0.191335</td>\n",
              "    </tr>\n",
              "    <tr>\n",
              "      <th>70s years</th>\n",
              "      <td>0.164112</td>\n",
              "    </tr>\n",
              "    <tr>\n",
              "      <th>70s hartzler</th>\n",
              "      <td>0.164112</td>\n",
              "    </tr>\n",
              "    <tr>\n",
              "      <th>lower labor</th>\n",
              "      <td>0.164112</td>\n",
              "    </tr>\n",
              "    <tr>\n",
              "      <th>talking entire</th>\n",
              "      <td>0.164112</td>\n",
              "    </tr>\n",
              "    <tr>\n",
              "      <th>hartzler</th>\n",
              "      <td>0.164112</td>\n",
              "    </tr>\n",
              "    <tr>\n",
              "      <th>ratio lower</th>\n",
              "      <td>0.164112</td>\n",
              "    </tr>\n",
              "    <tr>\n",
              "      <th>1977 lower</th>\n",
              "      <td>0.164112</td>\n",
              "    </tr>\n",
              "    <tr>\n",
              "      <th>hartzler talking</th>\n",
              "      <td>0.164112</td>\n",
              "    </tr>\n",
              "    <tr>\n",
              "      <th>population ratio</th>\n",
              "      <td>0.164112</td>\n",
              "    </tr>\n",
              "    <tr>\n",
              "      <th>1977</th>\n",
              "      <td>0.164112</td>\n",
              "    </tr>\n",
              "    <tr>\n",
              "      <th>rate 2015</th>\n",
              "      <td>0.164112</td>\n",
              "    </tr>\n",
              "    <tr>\n",
              "      <th>participation rate</th>\n",
              "      <td>0.164112</td>\n",
              "    </tr>\n",
              "    <tr>\n",
              "      <th>years decade</th>\n",
              "      <td>0.164112</td>\n",
              "    </tr>\n",
              "    <tr>\n",
              "      <th>decade 1970</th>\n",
              "      <td>0.164112</td>\n",
              "    </tr>\n",
              "    <tr>\n",
              "      <th>lower employment</th>\n",
              "      <td>0.164112</td>\n",
              "    </tr>\n",
              "    <tr>\n",
              "      <th>1970 1977</th>\n",
              "      <td>0.164112</td>\n",
              "    </tr>\n",
              "    <tr>\n",
              "      <th>working 70s</th>\n",
              "      <td>0.164112</td>\n",
              "    </tr>\n",
              "    <tr>\n",
              "      <th>decade 70s</th>\n",
              "      <td>0.164112</td>\n",
              "    </tr>\n",
              "    <tr>\n",
              "      <th>employment population</th>\n",
              "      <td>0.164112</td>\n",
              "    </tr>\n",
              "    <tr>\n",
              "      <th>entire decade</th>\n",
              "      <td>0.164112</td>\n",
              "    </tr>\n",
              "    <tr>\n",
              "      <th>americans working</th>\n",
              "      <td>0.155199</td>\n",
              "    </tr>\n",
              "    <tr>\n",
              "      <th>1970</th>\n",
              "      <td>0.155199</td>\n",
              "    </tr>\n",
              "    <tr>\n",
              "      <th>force participation</th>\n",
              "      <td>0.155199</td>\n",
              "    </tr>\n",
              "    <tr>\n",
              "      <th>labor force</th>\n",
              "      <td>0.148875</td>\n",
              "    </tr>\n",
              "    <tr>\n",
              "      <th>ratio</th>\n",
              "      <td>0.139961</td>\n",
              "    </tr>\n",
              "    <tr>\n",
              "      <th>participation</th>\n",
              "      <td>0.139961</td>\n",
              "    </tr>\n",
              "    <tr>\n",
              "      <th>entire</th>\n",
              "      <td>0.126637</td>\n",
              "    </tr>\n",
              "    <tr>\n",
              "      <th>...</th>\n",
              "      <td>...</td>\n",
              "    </tr>\n",
              "    <tr>\n",
              "      <th>eyes</th>\n",
              "      <td>0.000000</td>\n",
              "    </tr>\n",
              "    <tr>\n",
              "      <th>extreme caveat</th>\n",
              "      <td>0.000000</td>\n",
              "    </tr>\n",
              "    <tr>\n",
              "      <th>extreme</th>\n",
              "      <td>0.000000</td>\n",
              "    </tr>\n",
              "    <tr>\n",
              "      <th>extensively develop</th>\n",
              "      <td>0.000000</td>\n",
              "    </tr>\n",
              "    <tr>\n",
              "      <th>extinct</th>\n",
              "      <td>0.000000</td>\n",
              "    </tr>\n",
              "    <tr>\n",
              "      <th>extensively financing</th>\n",
              "      <td>0.000000</td>\n",
              "    </tr>\n",
              "    <tr>\n",
              "      <th>extensively supporting</th>\n",
              "      <td>0.000000</td>\n",
              "    </tr>\n",
              "    <tr>\n",
              "      <th>extent</th>\n",
              "      <td>0.000000</td>\n",
              "    </tr>\n",
              "    <tr>\n",
              "      <th>extent clinton</th>\n",
              "      <td>0.000000</td>\n",
              "    </tr>\n",
              "    <tr>\n",
              "      <th>extent comeys</th>\n",
              "      <td>0.000000</td>\n",
              "    </tr>\n",
              "    <tr>\n",
              "      <th>extent contractors</th>\n",
              "      <td>0.000000</td>\n",
              "    </tr>\n",
              "    <tr>\n",
              "      <th>extent dog</th>\n",
              "      <td>0.000000</td>\n",
              "    </tr>\n",
              "    <tr>\n",
              "      <th>extent excessive</th>\n",
              "      <td>0.000000</td>\n",
              "    </tr>\n",
              "    <tr>\n",
              "      <th>extent funds</th>\n",
              "      <td>0.000000</td>\n",
              "    </tr>\n",
              "    <tr>\n",
              "      <th>exterminate</th>\n",
              "      <td>0.000000</td>\n",
              "    </tr>\n",
              "    <tr>\n",
              "      <th>exterminate bin</th>\n",
              "      <td>0.000000</td>\n",
              "    </tr>\n",
              "    <tr>\n",
              "      <th>extinct species</th>\n",
              "      <td>0.000000</td>\n",
              "    </tr>\n",
              "    <tr>\n",
              "      <th>extrapolation slightly</th>\n",
              "      <td>0.000000</td>\n",
              "    </tr>\n",
              "    <tr>\n",
              "      <th>extra</th>\n",
              "      <td>0.000000</td>\n",
              "    </tr>\n",
              "    <tr>\n",
              "      <th>extra 260</th>\n",
              "      <td>0.000000</td>\n",
              "    </tr>\n",
              "    <tr>\n",
              "      <th>extra million</th>\n",
              "      <td>0.000000</td>\n",
              "    </tr>\n",
              "    <tr>\n",
              "      <th>extra money</th>\n",
              "      <td>0.000000</td>\n",
              "    </tr>\n",
              "    <tr>\n",
              "      <th>extra months</th>\n",
              "      <td>0.000000</td>\n",
              "    </tr>\n",
              "    <tr>\n",
              "      <th>extra step</th>\n",
              "      <td>0.000000</td>\n",
              "    </tr>\n",
              "    <tr>\n",
              "      <th>extraordinarily</th>\n",
              "      <td>0.000000</td>\n",
              "    </tr>\n",
              "    <tr>\n",
              "      <th>extraordinarily powerful</th>\n",
              "      <td>0.000000</td>\n",
              "    </tr>\n",
              "    <tr>\n",
              "      <th>extrapolating</th>\n",
              "      <td>0.000000</td>\n",
              "    </tr>\n",
              "    <tr>\n",
              "      <th>extrapolating old</th>\n",
              "      <td>0.000000</td>\n",
              "    </tr>\n",
              "    <tr>\n",
              "      <th>extrapolation</th>\n",
              "      <td>0.000000</td>\n",
              "    </tr>\n",
              "    <tr>\n",
              "      <th>ʺthe banks</th>\n",
              "      <td>0.000000</td>\n",
              "    </tr>\n",
              "  </tbody>\n",
              "</table>\n",
              "<p>57867 rows × 1 columns</p>\n",
              "</div>"
            ],
            "text/plain": [
              "                             tfidf\n",
              "70s                       0.328225\n",
              "decade                    0.242670\n",
              "lower                     0.191335\n",
              "70s years                 0.164112\n",
              "70s hartzler              0.164112\n",
              "lower labor               0.164112\n",
              "talking entire            0.164112\n",
              "hartzler                  0.164112\n",
              "ratio lower               0.164112\n",
              "1977 lower                0.164112\n",
              "hartzler talking          0.164112\n",
              "population ratio          0.164112\n",
              "1977                      0.164112\n",
              "rate 2015                 0.164112\n",
              "participation rate        0.164112\n",
              "years decade              0.164112\n",
              "decade 1970               0.164112\n",
              "lower employment          0.164112\n",
              "1970 1977                 0.164112\n",
              "working 70s               0.164112\n",
              "decade 70s                0.164112\n",
              "employment population     0.164112\n",
              "entire decade             0.164112\n",
              "americans working         0.155199\n",
              "1970                      0.155199\n",
              "force participation       0.155199\n",
              "labor force               0.148875\n",
              "ratio                     0.139961\n",
              "participation             0.139961\n",
              "entire                    0.126637\n",
              "...                            ...\n",
              "eyes                      0.000000\n",
              "extreme caveat            0.000000\n",
              "extreme                   0.000000\n",
              "extensively develop       0.000000\n",
              "extinct                   0.000000\n",
              "extensively financing     0.000000\n",
              "extensively supporting    0.000000\n",
              "extent                    0.000000\n",
              "extent clinton            0.000000\n",
              "extent comeys             0.000000\n",
              "extent contractors        0.000000\n",
              "extent dog                0.000000\n",
              "extent excessive          0.000000\n",
              "extent funds              0.000000\n",
              "exterminate               0.000000\n",
              "exterminate bin           0.000000\n",
              "extinct species           0.000000\n",
              "extrapolation slightly    0.000000\n",
              "extra                     0.000000\n",
              "extra 260                 0.000000\n",
              "extra million             0.000000\n",
              "extra money               0.000000\n",
              "extra months              0.000000\n",
              "extra step                0.000000\n",
              "extraordinarily           0.000000\n",
              "extraordinarily powerful  0.000000\n",
              "extrapolating             0.000000\n",
              "extrapolating old         0.000000\n",
              "extrapolation             0.000000\n",
              "ʺthe banks                0.000000\n",
              "\n",
              "[57867 rows x 1 columns]"
            ]
          },
          "metadata": {
            "tags": []
          },
          "execution_count": 45
        }
      ]
    },
    {
      "cell_type": "code",
      "metadata": {
        "id": "8JCWSDPeq8Bc",
        "colab_type": "code",
        "colab": {
          "base_uri": "https://localhost:8080/",
          "height": 104
        },
        "outputId": "12bcb478-946e-434c-f0c5-619db4158366"
      },
      "source": [
        "nltk.download('treebank')\n",
        "nltk.download('universal_tagset')"
      ],
      "execution_count": 46,
      "outputs": [
        {
          "output_type": "stream",
          "text": [
            "[nltk_data] Downloading package treebank to /root/nltk_data...\n",
            "[nltk_data]   Package treebank is already up-to-date!\n",
            "[nltk_data] Downloading package universal_tagset to /root/nltk_data...\n",
            "[nltk_data]   Unzipping taggers/universal_tagset.zip.\n"
          ],
          "name": "stdout"
        },
        {
          "output_type": "execute_result",
          "data": {
            "text/plain": [
              "True"
            ]
          },
          "metadata": {
            "tags": []
          },
          "execution_count": 46
        }
      ]
    },
    {
      "cell_type": "code",
      "metadata": {
        "id": "VVlLkO5dXXe3",
        "colab_type": "code",
        "colab": {}
      },
      "source": [
        "# POS tagging using CRF\n",
        "tagged_sentence = nltk.corpus.treebank.tagged_sents(tagset='universal')\n",
        "# print(len(tagged_sentence))"
      ],
      "execution_count": 0,
      "outputs": []
    },
    {
      "cell_type": "code",
      "metadata": {
        "id": "U4ABWbceqaeV",
        "colab_type": "code",
        "colab": {}
      },
      "source": [
        "# load training sentences\n",
        "training_sentences = traindata['new']\n",
        "# print(training_sentences)"
      ],
      "execution_count": 0,
      "outputs": []
    },
    {
      "cell_type": "code",
      "metadata": {
        "id": "gqNu50Syu2Is",
        "colab_type": "code",
        "colab": {}
      },
      "source": [
        "# function to extract features from dataset\n",
        "def features(sentence, index):\n",
        "  #returns a dictionary containing extracted features\n",
        "  return {\n",
        "      'is_first_capital': int(sentence[index][0].isupper()),\n",
        "      'is_first_word': int(index==0),\n",
        "      'is_last_word': int(index==len(sentence)-1),\n",
        "      'is_complete_capital': int(sentence[index].upper()==sentence[index]),\n",
        "      'is_complete_lower': int(sentence[index].lower()==sentence[index]),\n",
        "      'prev_word':'' if index==0 else sentence[index-1],\n",
        "      'next_word':'' if index==len(sentence)-1 else sentence[index+1],\n",
        "      'is_numeric': int(sentence[index].isdigit()),\n",
        "      'is_alphanumeric': int(bool((re.match('^(?=.*[0-9]$)(?=.*[a-zA-Z])',sentence[index])))),\n",
        "      'prefix_1': sentence[index][0],\n",
        "      'prefix_2': sentence[index][:2],\n",
        "      'prefic_3': sentence[index][:3],\n",
        "      'prefix_4': sentence[index][:4],\n",
        "      'suffix_1': sentence[index][-1],\n",
        "      'suffix_2': sentence[index][-2:],\n",
        "      'suffix_3': sentence[index][-3:],\n",
        "      'suffix_4': sentence[index][-4:],\n",
        "      'word_has_hyphen': 1 if '-' in sentence[index] else 0\n",
        "  }"
      ],
      "execution_count": 0,
      "outputs": []
    },
    {
      "cell_type": "code",
      "metadata": {
        "id": "jEP_jj-KyfCH",
        "colab_type": "code",
        "colab": {}
      },
      "source": [
        "# function to strip tags from tagged corpus\n",
        "def untag(sentence):\n",
        "  return [word for word,tag in sentence]"
      ],
      "execution_count": 0,
      "outputs": []
    },
    {
      "cell_type": "code",
      "metadata": {
        "id": "8rBj5w4ocA44",
        "colab_type": "code",
        "colab": {}
      },
      "source": [
        "# # download GloVe word embeddings file\n",
        "# !wget http://nlp.stanford.edu/data/glove.6B.zip"
      ],
      "execution_count": 0,
      "outputs": []
    },
    {
      "cell_type": "code",
      "metadata": {
        "id": "Pu6CH5WIdNUP",
        "colab_type": "code",
        "colab": {}
      },
      "source": [
        "# from google.colab import drive\n",
        "# drive.mount('/content/drive')\n"
      ],
      "execution_count": 0,
      "outputs": []
    },
    {
      "cell_type": "code",
      "metadata": {
        "id": "e1QYwsZTc2ex",
        "colab_type": "code",
        "colab": {}
      },
      "source": [
        "# extract the zip file at drive\n",
        "# import zipfile\n",
        "# zip_ref = zipfile.ZipFile(\"glove.6B.zip\", 'r')\n",
        "# zip_ref.extractall('content/drive/')\n",
        "# zip_ref.close()"
      ],
      "execution_count": 0,
      "outputs": []
    },
    {
      "cell_type": "code",
      "metadata": {
        "id": "3BrU5XMBymK4",
        "colab_type": "code",
        "colab": {}
      },
      "source": [
        "# load GloVe pretrained vectors from glove.6B.50d.txt\n",
        "# with open(\"content/drive/glove.6B.50d.txt\", \"rb\") as lines:\n",
        "#   w2v = {line.split()[0]: np.array(map(float, line.split()[1:]))\n",
        "#         for line in lines}"
      ],
      "execution_count": 0,
      "outputs": []
    },
    {
      "cell_type": "code",
      "metadata": {
        "id": "t1ImsCnVaLvq",
        "colab_type": "code",
        "colab": {}
      },
      "source": [
        "# print(len(w2v))"
      ],
      "execution_count": 0,
      "outputs": []
    },
    {
      "cell_type": "code",
      "metadata": {
        "id": "yO7BGTHkd-Dn",
        "colab_type": "code",
        "colab": {}
      },
      "source": [
        "# w2v\n",
        "# now we can use the above dictionary to build features. The simplest way to do that is by averaging word vectors for all words in a text.\n",
        "# # I will build a sklearn compatible transformer that is initalised with a word-> vector dictionary\n",
        "# class MeanEmbeddingVectorizer(object):\n",
        "#   def __init__(self, word2vec):\n",
        "#     self.word2vec = word2vec\n",
        "#     # if a text is empty, return a vector of zeros with same dimensions\n",
        "#     self.dim = len(word2vec.iteravalues.next())\n",
        "    \n",
        "  \n",
        "#   def fit(self, X, y):\n",
        "#     return self\n",
        "  \n",
        "#   def transform(self, X):\n",
        "#     return np.array([\n",
        "#         np.mean([self.word2vec[w] for w in words if w in self.word2vec]\n",
        "#                 or [np.zeros(self.dim)], axis=0)\n",
        "#         for words in X\n",
        "#     ])\n",
        "    "
      ],
      "execution_count": 0,
      "outputs": []
    },
    {
      "cell_type": "markdown",
      "metadata": {
        "id": "BUoA2_4UMEYY",
        "colab_type": "text"
      },
      "source": [
        "**Task: Six-way classification**"
      ]
    },
    {
      "cell_type": "markdown",
      "metadata": {
        "id": "6wFPuncSLCXE",
        "colab_type": "text"
      },
      "source": [
        "Training models with word-count-vectors from CountVectorizer method."
      ]
    },
    {
      "cell_type": "code",
      "metadata": {
        "id": "mIzI2H1GxqFs",
        "colab_type": "code",
        "colab": {}
      },
      "source": [
        "# using LogisticRegression\n",
        "logReg_pipeline_cv = Pipeline([\n",
        "    ('LogRCV', cvec),\n",
        "    ('LogR_model', LogisticRegression())\n",
        "])\n",
        "\n",
        "logReg_pipeline_cv.fit(traindata['new'], traindata['label'])\n",
        "predictions_logReg = logReg_pipeline_cv.predict(testdata['statement'])\n",
        "logReg_cv = np.mean(predictions_logReg == testdata['label'])\n",
        "\n",
        "# using SVM\n",
        "svm_pipeline_cv = Pipeline([\n",
        "    ('svmCV', cvec),\n",
        "    ('svm_model', svm.LinearSVC())\n",
        "])\n",
        "\n",
        "svm_pipeline_cv.fit(traindata['new'], traindata['label'])\n",
        "predictions_svm = svm_pipeline_cv.predict(testdata['statement'])\n",
        "svm_cv = np.mean(predictions_svm == testdata['label'])\n",
        "\n",
        "# using naive bayes\n",
        "nb_pipeline_cv = Pipeline([\n",
        "    ('nbCV', cvec),\n",
        "    ('nb_model', MultinomialNB())\n",
        "])\n",
        "\n",
        "nb_pipeline_cv.fit(traindata['new'], traindata['label'])\n",
        "predictions_nb = nb_pipeline_cv.predict(testdata['statement'])\n",
        "nb_cv = np.mean(predictions_nb == testdata['label'])\n",
        "\n",
        "# using random forest\n",
        "rf_pipeline_cv = Pipeline([\n",
        "    ('rfCV', cvec),\n",
        "    ('rf_model', RandomForestClassifier(n_estimators=400, n_jobs=4))\n",
        "])\n",
        "\n",
        "rf_pipeline_cv.fit(traindata['new'], traindata['label'])\n",
        "predictions_rf = rf_pipeline_cv.predict(testdata['statement'])\n",
        "rf_cv = np.mean(predictions_rf == testdata['label'])"
      ],
      "execution_count": 0,
      "outputs": []
    },
    {
      "cell_type": "code",
      "metadata": {
        "id": "BbOftrB0PVNK",
        "colab_type": "code",
        "colab": {
          "base_uri": "https://localhost:8080/",
          "height": 86
        },
        "outputId": "18be01e8-2996-4779-8475-d9381fcacf2b"
      },
      "source": [
        "print(logReg_cv)\n",
        "print(svm_cv)\n",
        "print(nb_cv)\n",
        "print(rf_cv)"
      ],
      "execution_count": 56,
      "outputs": [
        {
          "output_type": "stream",
          "text": [
            "0.1894238358326756\n",
            "0.19021310181531176\n",
            "0.20757695343330704\n",
            "0.17205998421468036\n"
          ],
          "name": "stdout"
        }
      ]
    },
    {
      "cell_type": "code",
      "metadata": {
        "id": "8oCVSvRnR42o",
        "colab_type": "code",
        "colab": {}
      },
      "source": [
        "def kFoldCV(model):\n",
        "  k_fold = KFold(n_splits=5)\n",
        "  scores = []\n",
        "  conf_matrix = np.zeros(shape=(6,6))\n",
        "  \n",
        "  for train_index, test_index in k_fold.split(traindata['new']):\n",
        "    trainText = traindata.iloc[train_index]['new']\n",
        "    train_y = traindata.iloc[train_index]['label']\n",
        "    \n",
        "    testText = traindata.iloc[test_index]['new']\n",
        "    test_y = traindata.iloc[test_index]['label']\n",
        "    \n",
        "    model.fit(trainText, train_y)\n",
        "    pred_y = model.predict(testText)\n",
        "    \n",
        "    conf_matrix += confusion_matrix(test_y, pred_y)\n",
        "    scores.append(f1_score(test_y, pred_y, average='micro'))\n",
        "    \n",
        "  return (print('Total statements classified:', len(traindata)),\n",
        "         print('Score:', sum(scores)/len(scores)),\n",
        "         print('Confusion Matrix:'),\n",
        "         print(conf_matrix),\n",
        "         print(\"---------------------------------------------------\"))"
      ],
      "execution_count": 0,
      "outputs": []
    },
    {
      "cell_type": "code",
      "metadata": {
        "id": "Aosywdc5Tx71",
        "colab_type": "code",
        "colab": {
          "base_uri": "https://localhost:8080/",
          "height": 729
        },
        "outputId": "a0355697-8846-4202-e030-87a857621ece"
      },
      "source": [
        "kFoldCV(logReg_pipeline_cv)\n",
        "kFoldCV(svm_pipeline_cv)\n",
        "kFoldCV(nb_pipeline_cv)\n",
        "kFoldCV(rf_pipeline_cv)"
      ],
      "execution_count": 58,
      "outputs": [
        {
          "output_type": "stream",
          "text": [
            "Total statements classified: 1284\n",
            "Score: 0.2679322714007782\n",
            "Confusion Matrix:\n",
            "[[69. 54. 38. 45.  9. 22.]\n",
            " [65. 64. 41. 49. 21. 23.]\n",
            " [41. 43. 82. 57.  4. 21.]\n",
            " [46. 42. 47. 81.  7. 28.]\n",
            " [17. 46. 11. 21. 12.  9.]\n",
            " [23. 44. 27. 35.  4. 36.]]\n",
            "---------------------------------------------------\n",
            "Total statements classified: 1284\n",
            "Score: 0.25546267023346303\n",
            "Confusion Matrix:\n",
            "[[66. 50. 40. 43. 15. 23.]\n",
            " [69. 60. 38. 43. 26. 27.]\n",
            " [53. 39. 69. 54.  7. 26.]\n",
            " [46. 44. 45. 77. 11. 28.]\n",
            " [18. 40. 11. 23. 19.  5.]\n",
            " [25. 37. 24. 39.  7. 37.]]\n",
            "---------------------------------------------------\n",
            "Total statements classified: 1284\n",
            "Score: 0.25624696011673154\n",
            "Confusion Matrix:\n",
            "[[ 44.  69.  66.  54.   0.   4.]\n",
            " [ 49.  91.  50.  70.   0.   3.]\n",
            " [ 31.  49.  80.  83.   0.   5.]\n",
            " [ 27.  49.  61. 109.   0.   5.]\n",
            " [ 11.  51.  26.  24.   1.   3.]\n",
            " [ 18.  34.  47.  65.   1.   4.]]\n",
            "---------------------------------------------------\n",
            "Total statements classified: 1284\n",
            "Score: 0.28896522373540856\n",
            "Confusion Matrix:\n",
            "[[ 77.  90.  25.  45.   0.   0.]\n",
            " [ 74. 106.  27.  53.   0.   3.]\n",
            " [ 51.  55.  74.  67.   0.   1.]\n",
            " [ 43.  56.  44. 107.   0.   1.]\n",
            " [ 29.  62.   8.  13.   2.   2.]\n",
            " [ 29.  61.  26.  48.   0.   5.]]\n",
            "---------------------------------------------------\n"
          ],
          "name": "stdout"
        },
        {
          "output_type": "execute_result",
          "data": {
            "text/plain": [
              "(None, None, None, None, None)"
            ]
          },
          "metadata": {
            "tags": []
          },
          "execution_count": 58
        }
      ]
    },
    {
      "cell_type": "markdown",
      "metadata": {
        "id": "-5iKphF7LN7P",
        "colab_type": "text"
      },
      "source": [
        "Training models with word-count-vectors from TfidfVectorizer method."
      ]
    },
    {
      "cell_type": "code",
      "metadata": {
        "id": "_w9xrhD4P3yu",
        "colab_type": "code",
        "colab": {}
      },
      "source": [
        "# using LogisticRegression\n",
        "logReg_pipeline_ngram = Pipeline([\n",
        "    ('LogR_tfidf', tfidf_vectorizer),\n",
        "    ('LogR_model', LogisticRegression())\n",
        "])\n",
        "\n",
        "logReg_pipeline_ngram.fit(traindata['new'], traindata['label'])\n",
        "predictions_logReg_ngram = logReg_pipeline_ngram.predict(testdata['statement'])\n",
        "logReg_ngram = np.mean(predictions_logReg_ngram == testdata['label'])\n",
        "\n",
        "# using SVM\n",
        "svm_pipeline_ngram = Pipeline([\n",
        "    ('svmCV', tfidf_vectorizer),\n",
        "    ('svm_model', svm.LinearSVC())\n",
        "])\n",
        "\n",
        "svm_pipeline_ngram.fit(traindata['new'], traindata['label'])\n",
        "predictions_svm = svm_pipeline_ngram.predict(testdata['statement'])\n",
        "svm_ngram = np.mean(predictions_svm == testdata['label'])\n",
        "\n",
        "# using naive bayes\n",
        "nb_pipeline_ngram = Pipeline([\n",
        "    ('nbCV', tfidf_vectorizer),\n",
        "    ('nb_model', MultinomialNB())\n",
        "])\n",
        "\n",
        "nb_pipeline_ngram.fit(traindata['new'], traindata['label'])\n",
        "predictions_nb = nb_pipeline_ngram.predict(testdata['statement'])\n",
        "nb_ngram = np.mean(predictions_nb == testdata['label'])\n",
        "\n",
        "# using random forest\n",
        "rf_pipeline_ngram = Pipeline([\n",
        "    ('rfCV', tfidf_vectorizer),\n",
        "    ('rf_model', RandomForestClassifier(n_estimators=400, n_jobs=4))\n",
        "])\n",
        "\n",
        "rf_pipeline_ngram.fit(traindata['new'], traindata['label'])\n",
        "predictions_rf = rf_pipeline_ngram.predict(testdata['statement'])\n",
        "rf_ngram = np.mean(predictions_rf == testdata['label'])"
      ],
      "execution_count": 0,
      "outputs": []
    },
    {
      "cell_type": "code",
      "metadata": {
        "id": "33L7ZujUREvT",
        "colab_type": "code",
        "colab": {
          "base_uri": "https://localhost:8080/",
          "height": 86
        },
        "outputId": "9a16c4a8-d82b-437d-a99f-c62b9ed816a8"
      },
      "source": [
        "print(logReg_ngram)\n",
        "print(svm_ngram)\n",
        "print(nb_ngram)\n",
        "print(rf_ngram)"
      ],
      "execution_count": 60,
      "outputs": [
        {
          "output_type": "stream",
          "text": [
            "0.22336227308603\n",
            "0.1941594317284925\n",
            "0.22573007103393844\n",
            "0.18468823993685873\n"
          ],
          "name": "stdout"
        }
      ]
    },
    {
      "cell_type": "code",
      "metadata": {
        "id": "uGgssUVbPZYu",
        "colab_type": "code",
        "colab": {
          "base_uri": "https://localhost:8080/",
          "height": 729
        },
        "outputId": "f3e6c7ce-f3b7-439b-b9e2-abbb4bcabfea"
      },
      "source": [
        "kFoldCV(logReg_pipeline_ngram)\n",
        "kFoldCV(svm_pipeline_ngram)\n",
        "kFoldCV(nb_pipeline_ngram)\n",
        "kFoldCV(rf_pipeline_ngram)"
      ],
      "execution_count": 61,
      "outputs": [
        {
          "output_type": "stream",
          "text": [
            "Total statements classified: 1284\n",
            "Score: 0.26560372081712064\n",
            "Confusion Matrix:\n",
            "[[ 35. 102.  49.  50.   0.   1.]\n",
            " [ 32. 122.  36.  72.   0.   1.]\n",
            " [ 23.  66.  79.  79.   0.   1.]\n",
            " [ 20.  71.  56. 104.   0.   0.]\n",
            " [  8.  67.  13.  28.   0.   0.]\n",
            " [ 16.  48.  42.  62.   0.   1.]]\n",
            "---------------------------------------------------\n",
            "Total statements classified: 1284\n",
            "Score: 0.2640381809338522\n",
            "Confusion Matrix:\n",
            "[[55. 67. 48. 44.  4. 19.]\n",
            " [50. 84. 37. 64.  6. 22.]\n",
            " [37. 43. 76. 71.  1. 20.]\n",
            " [28. 49. 55. 96.  2. 21.]\n",
            " [13. 44. 18. 25. 13.  3.]\n",
            " [28. 37. 41. 47.  1. 15.]]\n",
            "---------------------------------------------------\n",
            "Total statements classified: 1284\n",
            "Score: 0.2648133511673152\n",
            "Confusion Matrix:\n",
            "[[ 22. 104.  56.  55.   0.   0.]\n",
            " [ 21. 134.  38.  70.   0.   0.]\n",
            " [ 16.  71.  82.  79.   0.   0.]\n",
            " [ 10.  81.  58. 102.   0.   0.]\n",
            " [  6.  72.  15.  23.   0.   0.]\n",
            " [ 10.  54.  41.  64.   0.   0.]]\n",
            "---------------------------------------------------\n",
            "Total statements classified: 1284\n",
            "Score: 0.282724343385214\n",
            "Confusion Matrix:\n",
            "[[ 66. 103.  17.  47.   1.   3.]\n",
            " [ 70. 124.  14.  47.   4.   4.]\n",
            " [ 51.  73.  58.  59.   0.   7.]\n",
            " [ 39.  69.  30. 106.   0.   7.]\n",
            " [ 33.  63.   5.   8.   5.   2.]\n",
            " [ 30.  65.  14.  56.   0.   4.]]\n",
            "---------------------------------------------------\n"
          ],
          "name": "stdout"
        },
        {
          "output_type": "execute_result",
          "data": {
            "text/plain": [
              "(None, None, None, None, None)"
            ]
          },
          "metadata": {
            "tags": []
          },
          "execution_count": 61
        }
      ]
    },
    {
      "cell_type": "markdown",
      "metadata": {
        "id": "gVyDVD2BMUb5",
        "colab_type": "text"
      },
      "source": [
        "**Task: Binary Classification**"
      ]
    },
    {
      "cell_type": "code",
      "metadata": {
        "id": "u5zfu2aC3aF1",
        "colab_type": "code",
        "colab": {}
      },
      "source": [
        "# function to convert 6 classes of label into 2 classes\n",
        "# def classLabel(dataset):\n",
        "#   for index in range(len(dataset['label'])):\n",
        "#     if(dataset.iloc[index]['label'] == 'true' or dataset.iloc[index]['label'] == 'mostly-true' or dataset.iloc[index]['label'] == 'half-true'):\n",
        "#       dataset.iloc[index]['label'] = 'true'\n",
        "      \n",
        "#     if(dataset.iloc[index]['label'] == 'barely-true' or dataset.iloc[index]['label'] == 'false' or dataset.iloc[index]['label'] == 'pants-fire'):\n",
        "#       dataset.iloc[index]['label'] = 'false'\n",
        "      \n",
        "#   return dataset"
      ],
      "execution_count": 0,
      "outputs": []
    },
    {
      "cell_type": "code",
      "metadata": {
        "id": "yu7Uump9UHPl",
        "colab_type": "code",
        "colab": {}
      },
      "source": [
        "# load dataset containing only two classes of label\n",
        "new_train = pd.read_csv('newtrain.csv')\n",
        "new_test = pd.read_csv('newtest.csv')\n",
        "new_val = pd.read_csv('newvalid.csv')"
      ],
      "execution_count": 0,
      "outputs": []
    },
    {
      "cell_type": "code",
      "metadata": {
        "id": "cYocRVsORRTb",
        "colab_type": "code",
        "colab": {
          "base_uri": "https://localhost:8080/",
          "height": 206
        },
        "outputId": "d0c5a5d6-d486-4cdb-ddfb-170e018cf558"
      },
      "source": [
        "new_test.head()"
      ],
      "execution_count": 64,
      "outputs": [
        {
          "output_type": "execute_result",
          "data": {
            "text/html": [
              "<div>\n",
              "<style scoped>\n",
              "    .dataframe tbody tr th:only-of-type {\n",
              "        vertical-align: middle;\n",
              "    }\n",
              "\n",
              "    .dataframe tbody tr th {\n",
              "        vertical-align: top;\n",
              "    }\n",
              "\n",
              "    .dataframe thead th {\n",
              "        text-align: right;\n",
              "    }\n",
              "</style>\n",
              "<table border=\"1\" class=\"dataframe\">\n",
              "  <thead>\n",
              "    <tr style=\"text-align: right;\">\n",
              "      <th></th>\n",
              "      <th>Statement</th>\n",
              "      <th>Label</th>\n",
              "    </tr>\n",
              "  </thead>\n",
              "  <tbody>\n",
              "    <tr>\n",
              "      <th>0</th>\n",
              "      <td>Building a wall on the U.S.-Mexico border will...</td>\n",
              "      <td>True</td>\n",
              "    </tr>\n",
              "    <tr>\n",
              "      <th>1</th>\n",
              "      <td>Wisconsin is on pace to double the number of l...</td>\n",
              "      <td>False</td>\n",
              "    </tr>\n",
              "    <tr>\n",
              "      <th>2</th>\n",
              "      <td>Says John McCain has done nothing to help the ...</td>\n",
              "      <td>False</td>\n",
              "    </tr>\n",
              "    <tr>\n",
              "      <th>3</th>\n",
              "      <td>Suzanne Bonamici supports a plan that will cut...</td>\n",
              "      <td>True</td>\n",
              "    </tr>\n",
              "    <tr>\n",
              "      <th>4</th>\n",
              "      <td>When asked by a reporter whether hes at the ce...</td>\n",
              "      <td>False</td>\n",
              "    </tr>\n",
              "  </tbody>\n",
              "</table>\n",
              "</div>"
            ],
            "text/plain": [
              "                                           Statement  Label\n",
              "0  Building a wall on the U.S.-Mexico border will...   True\n",
              "1  Wisconsin is on pace to double the number of l...  False\n",
              "2  Says John McCain has done nothing to help the ...  False\n",
              "3  Suzanne Bonamici supports a plan that will cut...   True\n",
              "4  When asked by a reporter whether hes at the ce...  False"
            ]
          },
          "metadata": {
            "tags": []
          },
          "execution_count": 64
        }
      ]
    },
    {
      "cell_type": "code",
      "metadata": {
        "id": "yjmQPufKcour",
        "colab_type": "code",
        "colab": {}
      },
      "source": [
        "# concatenate validation set with training dataset\n",
        "new_train = pd.concat([new_val])\n",
        "\n",
        "# drop Null rows\n",
        "new_train = new_train.dropna()"
      ],
      "execution_count": 0,
      "outputs": []
    },
    {
      "cell_type": "code",
      "metadata": {
        "id": "mZuFtLmFshBD",
        "colab_type": "code",
        "colab": {
          "base_uri": "https://localhost:8080/",
          "height": 206
        },
        "outputId": "aa11d4de-6fa5-4262-a42d-2e969bbcdd4b"
      },
      "source": [
        "new_train.head()"
      ],
      "execution_count": 75,
      "outputs": [
        {
          "output_type": "execute_result",
          "data": {
            "text/html": [
              "<div>\n",
              "<style scoped>\n",
              "    .dataframe tbody tr th:only-of-type {\n",
              "        vertical-align: middle;\n",
              "    }\n",
              "\n",
              "    .dataframe tbody tr th {\n",
              "        vertical-align: top;\n",
              "    }\n",
              "\n",
              "    .dataframe thead th {\n",
              "        text-align: right;\n",
              "    }\n",
              "</style>\n",
              "<table border=\"1\" class=\"dataframe\">\n",
              "  <thead>\n",
              "    <tr style=\"text-align: right;\">\n",
              "      <th></th>\n",
              "      <th>Statement</th>\n",
              "      <th>Label</th>\n",
              "    </tr>\n",
              "  </thead>\n",
              "  <tbody>\n",
              "    <tr>\n",
              "      <th>0</th>\n",
              "      <td>We have less Americans working now than in the...</td>\n",
              "      <td>FALSE</td>\n",
              "    </tr>\n",
              "    <tr>\n",
              "      <th>1</th>\n",
              "      <td>When Obama was sworn into office, he DID NOT u...</td>\n",
              "      <td>FALSE</td>\n",
              "    </tr>\n",
              "    <tr>\n",
              "      <th>2</th>\n",
              "      <td>Says Having organizations parading as being so...</td>\n",
              "      <td>FALSE</td>\n",
              "    </tr>\n",
              "    <tr>\n",
              "      <th>3</th>\n",
              "      <td>Says nearly half of Oregons children are poor.</td>\n",
              "      <td>TRUE</td>\n",
              "    </tr>\n",
              "    <tr>\n",
              "      <th>4</th>\n",
              "      <td>On attacks by Republicans that various program...</td>\n",
              "      <td>TRUE</td>\n",
              "    </tr>\n",
              "  </tbody>\n",
              "</table>\n",
              "</div>"
            ],
            "text/plain": [
              "                                           Statement  Label\n",
              "0  We have less Americans working now than in the...  FALSE\n",
              "1  When Obama was sworn into office, he DID NOT u...  FALSE\n",
              "2  Says Having organizations parading as being so...  FALSE\n",
              "3     Says nearly half of Oregons children are poor.   TRUE\n",
              "4  On attacks by Republicans that various program...   TRUE"
            ]
          },
          "metadata": {
            "tags": []
          },
          "execution_count": 75
        }
      ]
    },
    {
      "cell_type": "markdown",
      "metadata": {
        "id": "u_IipCwxO9bk",
        "colab_type": "text"
      },
      "source": [
        "**Feature extraction (vectorization) :** Build Bag-Of-Words model using CountVectorizer and TfidfVectorizer. \n",
        "\n",
        "\n",
        "\n",
        "\n"
      ]
    },
    {
      "cell_type": "code",
      "metadata": {
        "id": "UtnJMhkMOH3P",
        "colab_type": "code",
        "colab": {
          "base_uri": "https://localhost:8080/",
          "height": 54
        },
        "outputId": "426ee084-6556-480a-dffe-e406371ff320"
      },
      "source": [
        "# Convert text to word count vectors with CountVectorizer\n",
        "# create the transform\n",
        "cvec = CountVectorizer()\n",
        "\n",
        "# tokenize, build vocab and encode training data\n",
        "traindata_cvec = cvec.fit_transform(new_train['Statement'].values)\n",
        "\n",
        "# summarize\n",
        "print(cvec.vocabulary_)\n",
        "# print(cvec.get_feature_names())"
      ],
      "execution_count": 66,
      "outputs": [
        {
          "output_type": "stream",
          "text": [
            "{'we': 4222, 'have': 1894, 'less': 2342, 'americans': 346, 'working': 4298, 'now': 2729, 'than': 3913, 'in': 2044, 'the': 3922, '70s': 158, 'when': 4247, 'obama': 2746, 'was': 4208, 'sworn': 3844, 'into': 2126, 'office': 2766, 'he': 1900, 'did': 1247, 'not': 2724, 'use': 4118, 'holy': 1963, 'bible': 565, 'but': 698, 'instead': 2106, 'kuran': 2272, 'their': 3924, 'equivalency': 1466, 'to': 3962, 'our': 2824, 'very': 4141, 'different': 1255, 'beliefs': 548, 'says': 3474, 'having': 1896, 'organizations': 2815, 'parading': 2875, 'as': 420, 'being': 547, 'social': 3649, 'welfare': 4236, 'and': 355, 'then': 3927, 'involved': 2144, 'political': 3013, 'combat': 921, 'harkens': 1883, 'back': 476, 'why': 4261, 'statute': 3746, 'hundred': 1992, 'years': 4316, 'ago': 290, 'said': 3445, 'that': 3916, 'they': 3932, 'were': 4240, 'prohibited': 3113, 'nearly': 2677, 'half': 1870, 'of': 2758, 'oregons': 2812, 'children': 832, 'are': 402, 'poor': 3024, 'on': 2778, 'attacks': 442, 'by': 702, 'republicans': 3325, 'various': 4128, 'programs': 3112, 'economic': 1374, 'stimulus': 3759, 'plan': 2985, 'stimulative': 3758, 'if': 2015, 'you': 4320, 'add': 246, 'all': 319, 'stuff': 3791, 'up': 4107, 'it': 2170, 'accounts': 225, 'for': 1671, 'percent': 2938, 'overall': 2837, 'package': 2865, 'armed': 410, 'civilians': 865, 'stop': 3763, 'mass': 2489, 'shootings': 3585, 'with': 4278, 'guns': 1859, 'an': 353, 'average': 464, 'people': 2932, 'die': 1250, 'otherwise': 2822, '18': 29, 'tennessee': 3888, 'is': 2155, 'providing': 3153, 'millions': 2578, 'dollars': 1305, 'virtual': 4166, 'school': 3488, 'company': 944, 'results': 3355, 'at': 434, 'bottom': 627, 'health': 1904, 'care': 750, 'reform': 3276, 'would': 4306, 'set': 3553, 'limits': 2376, 'similar': 3613, 'socialized': 3652, 'system': 3849, 'britain': 656, 'where': 4248, 'allowed': 326, 'treatment': 4023, 'cost': 1057, 'more': 2616, '22': 84, '000': 1, 'donald': 1309, 'trump': 4041, 'started': 3734, 'his': 1946, 'career': 751, '1973': 45, 'sued': 3803, 'justice': 2226, 'department': 1214, 'racial': 3192, 'discrimination': 1273, 'because': 532, 'rent': 3306, 'apartments': 377, 'one': 2780, 'developments': 1240, 'african': 279, 'bill': 575, 'white': 4253, 'has': 1888, 'long': 2402, 'history': 1949, 'trying': 4047, 'limit': 2374, 'or': 2803, 'even': 1489, 'disenfranchise': 1276, 'military': 2571, 'voters': 4177, 'john': 2207, 'mccains': 2509, 'chief': 828, 'adviser': 268, 'during': 1358, '08': 3, 'race': 3190, 'estimated': 1477, 'trumps': 4042, 'promises': 3120, 'cause': 779, 'america': 344, 'lose': 2409, 'million': 2575, 'jobs': 2205, '21': 82, 'wisconsin': 4274, 'residents': 3338, 'got': 1797, '2011': 71, 'them': 3925, 'other': 2820, 'states': 3739, 'state': 3736, 'revenue': 3366, 'projections': 3116, 'missed': 2593, 'mark': 2474, 'month': 2611, 'after': 280, 'median': 2525, 'income': 2055, 'middle': 2560, 'class': 871, 'family': 1574, 'went': 4239, 'down': 1320, '100': 5, 'from': 1712, '2001': 62, '2007': 66, 'every': 1492, 'citizen': 858, 'entitled': 1459, 'freedom': 1707, 'speech': 3697, 'no': 2707, 'should': 3590, 'right': 3388, 'government': 1801, 'funds': 1727, 'institutions': 2108, 'portray': 3033, 'acts': 243, 'morally': 2615, 'reprehensible': 3320, 'vast': 4129, 'majority': 2440, 'rick': 3380, 'perry': 2951, 'advocated': 271, 'abandoning': 191, 'security': 3516, 'scuttling': 3500, 'medicaid': 2526, 'ending': 1434, 'federal': 1594, 'tax': 3864, 'two': 4061, 'thirds': 3941, 'three': 3950, 'quarters': 3185, 'without': 4282, 'insurance': 2113, 'rhode': 3371, 'island': 2162, 'work': 4293, 'congress': 985, 'spent': 3702, '66': 152, 'first': 1640, 'days': 1145, 'this': 3943, 'term': 3893, 'recess': 3250, 'sharpe': 3568, 'lowered': 2420, 'property': 3129, 'taxes': 3867, '17': 27, 'iowa': 2146, 'gov': 1799, 'terry': 3903, 'branstad': 639, 'chartered': 819, 'plane': 2986, 'remove': 3302, '124': 17, 'young': 4323, 'illegal': 2021, 'immigrants': 2030, 'take': 3853, 'honduras': 1971, 'dont': 1314, 'buy': 700, 'cigarettes': 854, 'your': 4326, 'local': 2400, 'supermarket': 3813, 'grocery': 1835, 'wont': 4290, 'go': 1786, 'dime': 1258, 'same': 3452, 'true': 4038, 'sugary': 3805, 'drink': 1337, 'passed': 2897, 'can': 724, 'avoid': 467, 'paying': 2911, 'buying': 701, 'drinks': 1339, 'president': 3068, 'barack': 506, 'everybody': 1493, 'hate': 1892, 'police': 3008, 'georgia': 1758, 'had': 1866, 'ʺmore': 4334, 'bank': 497, 'failures': 1564, 'any': 370, 'could': 1060, 'create': 1091, '878': 175, '300': 101, 'benefits': 554, '2010': 70, 'bonuses': 611, 'job': 2204, 'creation': 1095, 'thom': 3944, 'tillis': 3956, 'cut': 1127, 'almost': 329, '500': 132, 'education': 1382, 'make': 2441, 'money': 2608, 'earn': 1366, 'salary': 3447, 'poised': 3007, 'get': 1764, 'rid': 3381, 'over': 2836, 'regulations': 3291, '2012': 72, 'flight': 1650, 'atlanta': 437, 'houston': 1987, 'canceled': 727, 'due': 1352, 'terrorist': 3901, 'dry': 1351, 'run': 3429, 'administrative': 256, 'employees': 1425, 'colleges': 915, 'universitieshave': 4094, 'doubled': 1319, 'last': 2297, '25': 90, 'outpacing': 2831, 'growth': 1844, 'students': 3788, 'private': 3090, 'prison': 3085, 'systems': 3850, 'calculating': 707, 'how': 1988, 'many': 2464, 'new': 2692, 'beds': 536, 'will': 4264, 'need': 2678, 'based': 515, 'number': 2736, 'third': 3940, 'graders': 1807, 'amendment': 342, 'protects': 3144, 'florida': 1658, 'seniors': 3534, 'scams': 3480, 'rip': 3391, 'offs': 2772, 'apply': 387, 'fbi': 1590, 'secret': 3509, 'service': 3547, 'be': 526, 'disqualified': 1283, 'past': 2899, 'associations': 432, 'william': 4265, 'ayers': 472, 'kids': 2251, 'sat': 3461, 'nation': 2664, 'mean': 2516, 'high': 1934, 'percentage': 2939, 'walker': 4192, 'hes': 1928, 'lower': 2419, 'milwaukee': 2579, 'county': 1072, 'spending': 3700, 'gone': 1791, '349': 105, 'say': 3471, 'filibuster': 1617, 'immigration': 2031, 'worldwide': 4302, 'credit': 1097, 'card': 748, 'transactions': 4008, 'fraud': 1703, 'rate': 3216, '04': 2, 'compared': 949, '10': 4, 'medicare': 2528, 'january': 2183, 'canada': 725, 'created': 1092, 'under': 4074, 'leadership': 2317, 'access': 214, 'charlie': 816, 'crist': 1107, 'me': 2515, 'positions': 3035, 'held': 1915, 'like': 2367, 'six': 3625, 'months': 2613, 'running': 3430, 'republican': 3324, 'primary': 3079, 'only': 2783, 'agenda': 287, 'imposing': 2039, 'massive': 2491, 'american': 345, '40': 113, 'hike': 1941, 'giant': 1768, 'tariff': 3863, 'loan': 2393, 'guarantee': 1847, 'program': 3111, 'helped': 1918, 'solyndra': 3666, 'supported': 3817, 'bush': 693, 'just': 2225, 'granted': 1819, 'exception': 1506, 'obamacare': 2747, 'mccollumhas': 2511, 'recovered': 3260, '200': 60, 'despite': 1228, 'billion': 577, 'iraqs': 2151, 'electrical': 1403, 'baghdad': 483, 'still': 3757, 'gets': 1765, 'five': 1643, 'hours': 1982, 'electricity': 1404, 'day': 1144, 'tim': 3957, 'kaine': 2231, 'urged': 4113, 'cuts': 1128, 'employed': 1423, 'growing': 1842, 'green': 1825, 'collar': 907, 'workforce': 4297, 'which': 4250, 'fossil': 1689, 'fuel': 1715, 'industry': 2076, 'steps': 3752, 'took': 3975, 'there': 3928, 'about': 205, 'who': 4256, 'unemployed': 4081, '2009': 69, 'saved': 3467, 'ratepayers': 3218, 'around': 413, 'persuading': 2962, 'council': 1061, 'pursue': 3169, 'expensive': 1531, 'compliance': 961, 'mechanism': 2523, 'city': 861, 'required': 3329, 'treat': 4021, 'bull': 680, 'drinking': 1338, 'water': 4217, 'enforcing': 1442, 'ask': 422, 'tell': 3882, 'policy': 3010, 'regarding': 3283, 'gays': 1748, 'lesbians': 2341, 'keeping': 2240, 'creating': 1094, 'greetings': 1829, 'wendys': 4238, 'diebold': 1251, 'weve': 4245, 'doorsteps': 1317, 'keep': 2239, 'here': 1924, 'ohio': 2773, 'baldwin': 490, 'senate': 3529, 'kept': 2243, 'campaign': 719, 'offices': 2769, 'fox': 1697, 'valley': 4123, 'eau': 1373, 'claire': 869, 'la': 2273, 'crosse': 1114, 'staffs': 3722, 'preparing': 3062, 'next': 2698, 'battle': 524, '2003': 64, '2006': 65, 'sesame': 3551, 'street': 3773, 'made': 2429, '211': 83, 'toy': 3994, 'consumer': 1010, 'product': 3104, 'sales': 3450, 'kasich': 2233, 'architect': 400, 'balanced': 489, 'budget': 670, 'surplus': 3831, 'igniting': 2016, 'record': 3257, 'going': 1789, 'districts': 1285, 'force': 1672, 'let': 2343, 'boys': 633, 'shower': 3595, 'little': 2386, 'girls': 1776, '2008': 67, 'proposed': 3131, 'greenhouse': 1827, 'gas': 1743, 'bankrupt': 498, 'anyone': 373, 'wants': 4201, 'build': 674, 'coal': 897, 'fired': 1635, 'power': 3044, 'plant': 2990, 'been': 537, 'trillion': 4029, 'debt': 1158, 'added': 247, 'four': 1694, 'texas': 3910, 'public': 3158, 'safety': 3444, 'troopers': 4035, 'standing': 3730, 'orders': 2807, 'inquire': 2095, 'status': 3745, 'unless': 4097, 'theyre': 3934, 'arrest': 415, 'dennis': 1211, 'richardson': 3378, 'drastic': 1332, 'services': 3549, 'depend': 1216, 'schools': 3489, 'home': 1964, 'so': 3647, '440': 120, 'unspent': 4104, 'priorities': 3083, 'nobody': 2708, 'covered': 1079, 'remarks': 3301, 'patricia': 2903, 'smith': 3643, 'mother': 2628, 'benghazi': 555, 'victim': 4147, 'live': 2387, 'khizrkhans': 2248, 'mr': 2637, 'khans': 2247, 'food': 1667, 'stamp': 3726, 'time': 3958, 'opponent': 2793, 'mary': 2486, 'burke': 688, 'she': 3570, 'supports': 3822, 'unequivocally': 4083, 'expand': 1523, 'essex': 1473, 'suffer': 3804, 'second': 3505, 'highest': 1936, 'ken': 2242, 'lanci': 2283, 'lifelong': 2364, 'clevelander': 879, 'originally': 2817, 'democrats': 1204, 'promised': 3119, 'liked': 2368, 'year': 4314, 'later': 2300, 'know': 2266, 'waiver': 4189, 'carlos': 752, 'lopez': 2408, 'cantera': 736, 'voiced': 4173, 'enthusiastic': 1454, 'support': 3816, 'bringing': 655, 'arizona': 409, 'style': 3793, 'law': 2306, 'calling': 714, 'measure': 2520, 'common': 935, 'sense': 3536, 'controlled': 1032, 'house': 1983, 'share': 3566, 'gross': 1836, 'domestic': 1307, 'leapt': 2322, 'largest': 2294, 'such': 3802, 'increase': 2059, 'eight': 1393, 'period': 2946, 'since': 3616, 'world': 4300, 'war': 4202, 'ii': 2019, 'cbos': 783, 'latest': 2301, 'report': 3316, 'confirms': 981, 'what': 4246, 'saying': 3473, 'hardworking': 1881, 'supreme': 3825, 'court': 1075, 'guys': 1864, 'start': 3733, 'determining': 1234, 'contraceptions': 1020, 'legal': 2330, 'scott': 3495, 'slashed': 3634, 'pensions': 2930, 'adding': 248, 'ethanol': 1481, 'raises': 3204, 'costs': 1059, 'mitt': 2600, 'romney': 3408, 'once': 2779, 'obamas': 2748, 'opposes': 2798, 'usafreedom': 4117, 'act': 236, 'undercuts': 4075, 'privacy': 3089, 'becausethe': 534, 'phone': 2969, 'records': 3259, 'hands': 1876, 'companies': 943, 'hundreds': 1993, 'available': 463, 'look': 2406, 'versus': 4140, '20': 59, '30': 100, 'corzine': 1056, 'decided': 1164, 'steal': 3750, 'unemployment': 4082, 'trust': 4043, 'fund': 1722, 'governors': 1804, 'before': 539, 'simply': 3615, 'do': 1291, 'havent': 1895, 'done': 1311, 'permit': 2948, 'import': 2037, 'hemp': 1921, 'products': 3106, 'country': 1069, 'want': 4198, 'cant': 735, 'grow': 1841, 'gina': 1773, 'raimondos': 3200, 'venture': 4136, 'capital': 742, 'firm': 1638, 'secured': 3515, 'bid': 566, 'contract': 1022, 'funded': 1724, 'taxpayers': 3869, 'spend': 3699, 'antacids': 368, 'politics': 3015, 'cutting': 1129, 'own': 2855, 'while': 4251, 'raising': 3205, 'families': 1573, 'ponzi': 3022, 'scheme': 3484, 'pennsylvania': 2927, 'charges': 812, 'top': 3977, 'delaware': 1193, 'jeff': 2191, 'greene': 1826, 'anything': 374, 'owns': 2860, 'mansions': 2458, 'elizabeth': 1411, 'warren': 4206, 'lied': 2360, 'abolish': 198, 'minimum': 2585, 'wage': 4185, 'universal': 4092, 'brendan': 646, 'doherty': 1302, 'repeal': 3311, 'increasing': 2062, 'drug': 1348, 'prices': 3078, 'abortion': 203, 'coverage': 1078, 'standard': 3729, 'benefit': 553, '90': 178, 'plans': 2989, 'sold': 3658, 'debated': 1156, 'las': 2296, 'vegas': 4131, 'killed': 2252, 'toledo': 3968, 'fourth': 1696, 'behind': 546, 'much': 2639, 'bigger': 571, 'cities': 857, 'miami': 2556, 'portland': 3031, 'human': 1990, 'trafficking': 4001, 'arrests': 417, 'rescues': 3331, '94': 182, 'winning': 4271, 'candidates': 733, 'opponents': 2794, 'joe': 2206, 'biden': 568, 'oppose': 2796, 'drilling': 1336, 'nuclear': 2734, 'apologized': 378, 'agency': 286, 'charge': 810, 'disburse': 1269, '803': 171, 'making': 2443, 'larger': 2293, '15': 22, 'worlds': 4301, 'economies': 1375, 'marco': 2469, 'rubio': 3425, '800': 170, 'astroturf': 433, 'field': 1608, 'played': 2997, 'flag': 1645, 'football': 1670, 'refused': 3279, 'address': 249, 'issues': 2169, 'matter': 2502, 'most': 2625, 'passing': 2898, 'dollar': 1304, 'fallen': 1569, '44': 119, 'bernanke': 558, 'began': 540, 'pumping': 3164, 'beginning': 543, '2002': 63, 'begin': 542, 'its': 2172, 'allocated': 324, 'penny': 2928, 'fight': 1610, 'zika': 4332, 'am': 337, 'candidate': 732, 'either': 1396, 'side': 3602, 'laid': 2279, 'out': 2825, 'specific': 3694, 'defeat': 1181, 'isis': 2157, 'hurt': 1998, 'quality': 3183, 'college': 914, 'group': 1839, 'anywhere': 375, 'register': 3286, 'sit': 3621, 'voter': 4176, 'registration': 3288, 'forms': 1682, 'unlimited': 4099, 'amount': 351, 'crct': 1090, 'tests': 3908, 'questioned': 3187, 'ed': 1379, 'gillespie': 1771, 'mention': 2543, 'name': 2655, 'condemning': 972, 'him': 1943, 'delay': 1194, 'inschool': 2097, 'testingwas': 3907, 'vendor': 4134, 'problem': 3096, 'test': 3904, 'materials': 2496, 'itself': 2173, 'cyber': 1130, 'attack': 440, 'already': 332, 'agreed': 292, 'deal': 1149, 'wanted': 4199, 'eric': 1469, 'cantor': 737, 'win': 4267, 'main': 2436, 'functions': 1721, 'homeland': 1965, 'securitys': 3517, 'save': 3466, 'database': 1140, 'checking': 822, 'citizenship': 860, 'nine': 2702, 'justices': 2227, 'decision': 1166, 'finance': 1622, 'constitutional': 1002, 'require': 3328, 'disclosure': 1271, 'special': 3691, 'interest': 2117, 'recommend': 3255, 'reality': 3234, 'holding': 1958, 'some': 3667, 'dangerous': 1136, 'terrorists': 3902, 'prisons': 3087, 'including': 2054, 'mastermind': 2492, '1993': 55, 'trade': 3996, 'center': 788, 'bombing': 606, 'shoe': 3583, 'bomber': 605, 'unabomber': 4069, 'others': 2821, 'terminate': 3895, 'americas': 347, 'ability': 195, 'put': 3173, 'man': 2447, 'space': 3686, 'george': 1757, 'washington': 4209, 'free': 1706, 'guard': 1850, 'against': 282, 'tyranny': 4063, 'known': 2268, 'global': 1783, 'initiative': 2087, 'administration': 255, 'ordered': 2805, 'agents': 289, 'read': 3229, 'miranda': 2592, 'rights': 3389, 'value': 4124, 'detainees': 1231, 'captured': 744, 'battlefield': 525, 'wholly': 4257, 'communication': 936, 'between': 563, 'wife': 4262, 'york': 4319, 'london': 2401, 'caught': 778, 'nsa': 2733, 'audits': 452, 'delivered': 1198, '64': 150, 'savings': 3469, 'governor': 1803, 'scores': 3494, 'improve': 2042, 'also': 333, 'narrowed': 2659, 'achievement': 230, 'gap': 1741, '50': 131, 'democratic': 1202, 'diminished': 1259, 'voting': 4179, 'strength': 3777, '32': 103, 'through': 3951, 'gerrymandered': 1763, 'maps': 2467, 'hasnt': 1891, 'won': 4289, 'election': 1401, 'presidency': 3067, 'jersey': 2196, '1988': 52, 'visa': 4168, 'became': 531, 'mostly': 2626, 'changed': 807, 'ted': 3878, 'cruz': 1120, 'slurred': 3640, 'senators': 3531, 'cornyn': 1048, 'graybeards': 1821, 'spineless': 3705, 'jellyfish': 2192, 'landrieu': 2287, 'voted': 4175, 'ahead': 296, 'veterans': 4142, 'increased': 2060, 'pending': 2926, 'claims': 868, 'affairs': 273, '391': 112, '890': 177, 'rep': 3307, 'barrow': 512, 'ga': 1732, 'does': 1297, 'audit': 450, 'reserve': 3334, 'unit': 4090, 'strives': 3781, 'implement': 2034, 'principles': 3081, 'friendly': 1710, 'outlined': 2829, 'national': 2665, 'coalition': 898, 'improving': 2043, 'maternity': 2498, 'childbirth': 830, 'ballot': 492, 'party': 2892, 'thats': 3921, 'come': 923, 'close': 888, 'achieving': 231, 'tried': 4028, 'convicted': 1038, 'cases': 764, 'executed': 1512, 'japanese': 2184, 'soldiers': 3660, 'crimes': 1102, 'included': 2052, 'waterboarding': 4218, 'approved': 393, 'gutting': 1862, 'credits': 1099, 'help': 1917, 'elderly': 1398, 'bucks': 668, 'district': 1284, 'attorneys': 448, 'skyrocketed': 3631, 'photonics': 2972, 'sponsored': 3709, 'written': 4311, 'congressman': 987, 'tom': 3972, 'reed': 3273, 'congresswoman': 988, 'louise': 2417, 'slaughter': 3635, 'mccain': 2508, 'stumped': 3792, 'asked': 423, 'whether': 4249, 'contraceptives': 1021, 'spread': 3714, 'hiv': 1953, '45': 122, '180': 30, 'mandated': 2452, 'testing': 3906, 'madeleine': 2430, 'albrights': 311, 'position': 3034, 'iraq': 2150, 'wouldnt': 4307, 'surprised': 3832, 'propriety': 3134, 'reconciliation': 3256, 'flying': 1663, 'legislation': 2333, 'effectively': 1387, 'eliminate': 1409, 'overtime': 2849, 'doing': 1303, 'illegally': 2022, 'until': 4105, 'enforced': 1440, 'renovating': 3304, 'headquarters': 1902, 'original': 2816, 'estimate': 1476, 'proposing': 3132, 'give': 1777, 'millionaires': 2577, 'another': 366, 'break': 643, 'courts': 1076, 'walking': 4194, 'premiums': 3060, 'rising': 3394, '120': 14, 'per': 2936, '2013': 73, '247': 88, '00': 0, '2014': 74, 'ncaa': 2674, 'billions': 578, 'mens': 2541, 'basketball': 520, 'tournament': 3988, 'players': 2998, 'trophy': 4037, 'currently': 1125, 'significantly': 3610, 'decreases': 1175, 'resources': 3342, 'damage': 1132, 'protesters': 3146, 'capitol': 743, 'repair': 3309, 'way': 4220, 'industrialized': 2075, 'countries': 1068, 'strickland': 3778, 'bragged': 636, 'plus': 3004, 'rating': 3220, 'nra': 2732, 'mixed': 2601, 'spotty': 3712, 'issue': 2167, 'criticized': 1109, 'those': 3946, 'words': 4292, 'mine': 2584, 'billing': 576, 'guidelines': 1855, 'codes': 903, 'injuries': 2089, 'turkeys': 4054, 'virginia': 4164, 'del': 1192, 'cole': 905, 'check': 821, 'childrens': 833, 'genitals': 1754, 'using': 4121, 'bathroom': 522, 'monthly': 2612, 'fire': 1633, 'protection': 3142, 'fee': 1595, 'bills': 579, 'nothing': 2726, 'wasnt': 4211, 'subject': 3794, 'anybodys': 372, 'mind': 2582, 'brought': 663, 'my': 2653, 'announcement': 363, 'opposed': 2797, 'flawed': 1648, 'strategy': 3771, 'courage': 1074, 'call': 711, 'change': 806, 'didn': 1248, 'play': 2996, 'truth': 4045, 'never': 2691, 'proof': 3124, 'pregnant': 3058, 'women': 4287, 'stand': 3728, 'risk': 3395, 'pre': 3051, 'pregnancy': 3057, '80': 169, 'waiting': 4188, 'list': 2382, 'attend': 444, 'charter': 818, 'ukrainian': 4066, 'introduced': 2127, 'abolishing': 200, 'languages': 2291, 'official': 2770, 'circumstances': 856, 'chemical': 824, 'weapons': 4227, 'used': 4119, 'probably': 3095, 'times': 3959, 'persian': 2956, 'gulf': 1857, 'immediate': 2027, 'legalization': 2331, 'border': 617, 'sometime': 3672, 'future': 1731, '1986': 51, 'designed': 1226, 'age': 283, 'living': 2390, 'abject': 196, 'poverty': 3043, 'holder': 1957, 'supportive': 3821, 'naacps': 2654, 'efforts': 1391, 'united': 4091, 'nations': 2668, 'elections': 1402, 'teachers': 3873, '89': 176, '48': 128, 'workers': 4296, 'iran': 2147, 'perpetrated': 2950, 'terror': 3899, 'continents': 1016, 'left': 2329, 'lowest': 2422, 'active': 239, 'duty': 1359, 'troops': 4036, 'putting': 3177, 'michelle': 2558, 'mandates': 2453, 'weighing': 4234, 'speed': 3698, 'rail': 3199, 'student': 3787, 'tuition': 4050, 'actually': 244, 'covers': 1080, 'instruction': 2110, 'implemented': 2035, 'august': 454, 'longer': 2403, 'accept': 212, 'entities': 1458, 'non': 2714, 'traditional': 3999, 'centers': 789, 'possible': 3039, 'watch': 4214, 'packers': 2867, 'games': 1740, 'forced': 1673, 'viking': 4156, 'fix': 1644, 'sens': 3535, 'markey': 2479, 'al': 306, 'franken': 1702, 'jeanne': 2188, 'shaheen': 3562, 'bribes': 648, 'insane': 2096, 'nuke': 2735, 'executive': 1514, 'order': 2804, 'apprehension': 390, 'detention': 1232, 'merely': 2546, 'show': 3593, 'signs': 3612, 'respiratory': 3343, 'illness': 2024, 'sheriffs': 3574, 'plays': 3000, 'limited': 2375, 'role': 3406, 'enforcement': 1441, 'reported': 3317, 'far': 1578, 'fewer': 1606, 'university': 4095, 'makes': 2442, 'huge': 1989, 'move': 2633, 'ban': 496, 'recipients': 3253, 'owning': 2859, 'unlike': 4098, 'virtually': 4167, 'super': 3810, 'pac': 2862, 'within': 4281, 'few': 1605, 'population': 3026, 'historical': 1948, 'gillespies': 1772, 'lobbied': 2395, 'foreign': 1676, 'governments': 1802, 'dictator': 1246, 'awaiting': 468, 'trial': 4026, 'paid': 2870, 'employee': 1424, 'universitys': 4096, 'head': 1901, 'coach': 896, 'violence': 4161, 'spreading': 3715, 'mexico': 2554, 'youve': 4330, 'bullets': 681, 'hitting': 1952, 'hall': 1871, 'el': 1397, 'paso': 2894, 'bombs': 607, 'exploding': 1536, 'decriminalizing': 1176, 'marijuana': 2472, '11': 10, 'concrete': 971, 'examples': 1502, 'applicants': 385, 'prospective': 3137, 'well': 4237, 'invited': 2141, 'speakers': 3689, 'changing': 809, 'minds': 2583, 'handguns': 1875, 'campus': 722, 'buildings': 676, 'classrooms': 872, 'massachusetts': 2490, 'wildly': 4263, 'unpopular': 4101, 'among': 350, 'irs': 2154, 'scandal': 3481, 'clearly': 876, 'showed': 3594, 'criminal': 1103, 'behavior': 544, 'tsa': 4048, 'drivers': 1342, 'priv': 3088, 'cards': 749, 'id': 2008, 'airport': 304, 'forty': 1686, 'overstaying': 2846, 'visas': 4169, 'lee': 2328, 'fisher': 1642, 'driven': 1341, 'countless': 1067, 'scientists': 3493, 'project': 3115, 'arctic': 401, 'ice': 2007, 'summer': 3808, 'ilana': 2020, 'shafran': 3561, 'mandels': 2455, 'stake': 3725, 'forest': 1678, 'enterprises': 1452, 'constitutes': 1000, 'companys': 945, 'shares': 3567, 'implication': 2036, 'conflict': 982, 'legally': 2332, 'incorrect': 2058, 'communications': 937, 'director': 1263, 'anita': 360, 'dunn': 1357, 'mao': 2465, 'tse': 4049, 'tung': 4052, 'her': 1923, 'favorite': 1588, 'philosophers': 2968, 'news': 2696, 'picked': 2974, '250': 91, 'texans': 3909, 'action': 238, 'bowl': 630, 'everybodys': 1494, 'estimation': 1479, 'impact': 2032, '34': 104, 'cannot': 734, 'guy': 1863, 'tearing': 3874, 'big': 570, 'abraham': 207, 'lincoln': 2377, 'beaverton': 530, 'homeless': 1966, 'ever': 1491, 'recorded': 3258, 'oregon': 2811, 'each': 1362, 'austin': 456, 'rates': 3219, 'biennium': 569, 'secondary': 3506, '1000': 6, 'accounted': 223, 'pers': 2954, 'alone': 330, 'hillary': 1942, 'clinton': 884, 'labeled': 2274, 'youth': 4329, 'superpredators': 3814, 'choice': 838, 'cancel': 726, 'policies': 3009, 'ezekiel': 1550, 'emanuel': 1416, 'key': 2245, 'advisers': 269, 'medical': 2527, 'reserved': 3335, 'nondisabled': 2716, 're': 3224, 'disabled': 1267, 'contribute': 1024, 'ukraine': 4065, 'gave': 1746, 'away': 471, 'arms': 411, 'understanding': 4079, 'protect': 3140, 'place': 2983, 'medicine': 2530, 'offers': 2765, 'didnt': 1249, 'try': 4046, 'push': 3170, 'reduce': 3267, 'lottery': 2414, 'scholarship': 3486, 'proceeds': 3098, 'confederate': 977, 'south': 3681, 'carolina': 754, 'flown': 1661, 'statehouse': 3737, '1961': 42, 'symbol': 3845, 'resistance': 3340, 'desegregation': 1225, 'several': 3556, 'deems': 1178, 'arrogance': 418, 'dismissiveness': 1278, 'derision': 1221, 'dictating': 1245, 'solutions': 3664, 'acting': 237, 'unilaterally': 4086, 'advocate': 270, 'wiping': 4273, '401': 115, 'entirely': 1457, 'replacing': 3315, '2000': 61, 'wrote': 4312, 'osama': 2819, 'bin': 580, 'laden': 2276, 'ended': 1433, 'general': 1751, 'smaller': 3642, 'friends': 1711, 'sister': 3620, 'died': 1252, 'becauseblue': 533, 'shield': 3577, 'completely': 959, 'pulled': 3162, 'california': 709, 'includes': 2053, '63': 148, 'cover': 1077, 'associated': 430, 'existing': 1521, 'conditions': 974, 'congressional': 986, 'genuinely': 1756, 'competitive': 952, 'today': 3964, 'races': 3191, 'cook': 1039, 'listed': 2383, 'toss': 3981, 'ups': 4110, 'lean': 2321, 'reaches': 3227, 'means': 2518, 'gdp': 1749, 'ratio': 3221, 'reach': 3225, '99': 187, '47': 126, '900': 179, 'ready': 3231, 'prohibition': 3114, 'us': 4115, 'tells': 3884, 'russia': 3437, 'hell': 1916, 'turn': 4055, 'defense': 1185, 'elected': 1400, 'technical': 3875, 'information': 2083, 'spends': 3701, 'taxpayer': 3868, 'print': 3082, 'sell': 3525, 'documents': 1294, 'online': 2782, 'searches': 3503, 'twice': 4060, 'ryan': 3440, 'ends': 1438, 'current': 1124, 'kicked': 2249, 'crooked': 1111, 'cops': 1042, 'officials': 2771, 'off': 2759, 'pension': 2929, 'rolls': 3407, '245': 87, 'repealing': 3312, 'legislatures': 2337, 'session': 3552, 'midnight': 2561, 'brutal': 667, 'fact': 1556, 'comes': 924, 'slipping': 3638, 'always': 336, 'civil': 863, 'unions': 4089, 'chris': 842, 'christie': 844, 'vetoed': 4144, 'ranks': 3212, '50th': 133, 'poll': 3017, 'taken': 3854, 'found': 1692, '70': 155, 'approval': 391, 'higher': 1935, 'collective': 912, 'bargaining': 510, 'sherrod': 3575, 'brown': 665, 'executives': 1515, 'unfortunately': 4084, 'everyone': 1495, 'needs': 2681, 'these': 3931, 'tough': 3985, 'pay': 2908, 'along': 331, 'thinks': 3939, 'climate': 882, 'hoax': 1954, 'invented': 2130, 'chinese': 836, 'polls': 3019, 'bernie': 559, 'sanders': 3455, 'better': 561, 'bottle': 625, 'deposit': 1220, 'cents': 791, 'case': 763, 'bottles': 626, 'literally': 2385, 'double': 1318, 'price': 3077, 'store': 3767, 'difference': 1254, 'point': 3005, 'skin': 3629, 'provoked': 3155, 'infamous': 2079, 'response': 3344, 'asking': 424, 'pretty': 3073, 'simple': 3614, 'question': 3186, 'pick': 2973, 'survivors': 3835, 'kasim': 2235, 'promise': 3118, 'wisconsins': 4275, 'laws': 2309, 'ranked': 3211, 'worst': 4304, 'mining': 2586, 'investment': 2138, 'overdoses': 2838, 'car': 745, 'crashes': 1088, 'connecticut': 990, 'consistently': 999, 'outperform': 2832, 'statewide': 3740, 'averages': 465, 'scotts': 3496, 'floridas': 1659, 'release': 3298, 'tens': 3890, 'thousands': 3948, 'prisoners': 3086, 'early': 1363, 'murderers': 2645, 'rapists': 3215, 'sex': 3558, 'offenders': 2760, 'robbers': 3402, 'dealers': 1150, 'accomplishment': 218, 'teach': 3871, 'comprehensive': 963, 'kindergartners': 2256, 'forcing': 1675, 'onto': 2784, 'isn': 2163, 'answer': 367, 'exactly': 1500, 'monica': 2609, 'lewinsky': 2351, 'clintons': 885, 'rev': 3365, 'jeremiah': 2195, 'wright': 4309, 'spiritual': 3707, 'counseling': 1064, '14': 20, 'able': 197, 'individual': 2071, 'market': 2475, 'red': 3264, 'light': 2366, 'camera': 718, 'nor': 2719, 'radar': 3194, 'gun': 1858, 'stopped': 3764, 'accident': 215, 'occurring': 2757, 'marcy': 2470, 'kaptur': 2232, 'prevented': 3075, 'aborting': 202, 'baby': 475, 'girl': 1775, 'sole': 3661, 'reason': 3236, 'shes': 3576, 'compact': 942, 'end': 1431, 'medicares': 2529, 'guaranteed': 1848, 'tennessees': 3889, 'shift': 3578, 'management': 2449, 'tenncare': 3887, 'precipitous': 3054, 'withdrawal': 4279, 'regardless': 3284, 'ground': 1837, 'consequences': 994, 'rnc': 3397, 'radio': 3196, 'ad': 245, 'lost': 2412, 'manufacturing': 2463, 'fell': 1599, '47th': 127, 'democrat': 1201, '75': 163, 'vote': 4174, 'showing': 3596, 'videos': 4151, 'insulting': 2112, 'islam': 2158, 'muslims': 2651, 'recruit': 3262, 'radical': 3195, 'jihadists': 2202, 'musical': 2649, 'mamma': 2446, 'mia': 2555, 'selling': 3526, 'troop': 4034, 'frame': 1698, 'announced': 362, 'effective': 1386, 'governing': 1800, 'effectiveness': 1388, 'refuses': 3280, 'acknowledge': 232, 'jerusalem': 2199, 'israel': 2164, 'automobile': 462, 'accidents': 217, 'caused': 780, 'texting': 3911, 'driving': 1343, 'entire': 1456, 'admits': 258, 'socialist': 3650, 'nazis': 2673, 'socialists': 3651, 'brigades': 653, 'army': 412, 'weight': 4235, 'vehicle': 4132, 'reduced': 3268, 'pounds': 3041, 'chances': 805, 'dying': 1361, 'peel': 2918, 'youre': 4327, 'likely': 2370, 'hesso': 1929, 'bipartisan': 585, '12': 13, 'signed': 3607, 'neighborhood': 2686, 'grew': 1832, 'im': 2025, 'groundhog': 1838, 'saw': 3470, 'shadow': 3560, 'seen': 3521, 'british': 657, 'especially': 1471, 'millennials': 2574, 'overwhelmingly': 2851, 'stay': 3747, 'european': 1484, 'union': 4088, 'older': 2777, 'leave': 2324, 'fundamental': 1723, 'changes': 808, 'language': 2290, 'describing': 1224, 'idea': 2009, 'mission': 2596, 'statement': 3738, 'result': 3353, 'drafting': 1328, 'error': 1470, 'financed': 1623, 'parking': 2880, 'expansion': 1525, 'jeb': 2190, 'winner': 4270, 'takes': 3856, 'everything': 1496, 'sure': 3826, 'premium': 3059, '29': 98, 'retirees': 3359, '716': 160, 'sen': 3528, 'basic': 517, 'science': 3491, 'denier': 1209, 'deaths': 1154, 'foodborne': 1668, 'legislature': 2336, 'hampshires': 1874, 'employers': 1427, 'cnn': 893, 'accidentally': 216, 'aired': 301, 'minutes': 2591, 'pornography': 3029, 'boston': 623, 'thanksgiving': 3915, 'night': 2700, 'mccollum': 2510, 'raise': 3202, 'total': 3982, '51': 134, 'earns': 1368, 'worth': 4305, 'signers': 3608, 'declaration': 1168, 'independence': 2063, 'brave': 640, 'whom': 4258, 'clergymen': 877, 'donna': 1312, 'campbell': 721, 'pushing': 3172, '35': 106, 'extending': 1542, 'groceries': 1834, 'real': 3233, 'estate': 1475, 'born': 618, 'wedlock': 4231, 'borrowing': 620, 'china': 835, 'saudi': 3463, 'arabia': 398, 'best': 560, 'decade': 1161, 'men': 2538, 'seeing': 3520, '62': 147, 'fastest': 1583, 'international': 2120, 'tourists': 3987, 'trajectory': 4006, 'towards': 3990, 'guess': 1852, 'theres': 3930, 'fried': 1708, 'butter': 699, 'newark': 2693, '13': 19, 'difficult': 1256, 'participate': 2885, 'include': 2051, 'reducing': 3270, 'person': 2957, 'profits': 3110, 'quadrupled': 3179, 'healthcare': 1905, 'wasteful': 4213, 'bureaucracy': 685, 'nominating': 2711, 'professional': 3108, 'nominated': 2710, 'someone': 3670, 'anti': 369, 'activist': 240, 'surgeon': 3830, 'black': 590, 'arrested': 416, 'madison': 2431, 'allow': 325, 'cola': 904, 'adjustment': 252, 'atheists': 435, 'none': 2717, 'constitution': 1001, 'clear': 875, 'combined': 922, 'cape': 740, 'may': 2504, 'cumberland': 1122, 'salem': 3449, 'part': 2884, 'atlantic': 438, 'counties': 1066, 'mason': 2488, 'dixon': 1287, 'line': 2378, 'jason': 2186, 'isaac': 2156, 'peddling': 2917, 'meaning': 2517, 'david': 1142, 'dewhurst': 1243, 'owes': 2854, 'vendors': 4135, 'provided': 3149, 'guest': 1853, 'worker': 4295, 'aliens': 316, 'temperature': 3885, 'readings': 3230, 'fabricated': 1551, 'blowing': 594, 'faces': 1554, 'prescription': 3064, 'entitlement': 1460, 'steadily': 3749, 'child': 829, 'buffett': 673, 'peoples': 2933, 'talking': 3858, 'replace': 3314, 'voucher': 4180, 'multilateral': 2641, 'came': 717, 'ohios': 2774, 'redistricting': 3265, 'commission': 928, 'blank': 591, 'andrew': 357, 'jackson': 2176, 'sarah': 3458, 'palin': 2871, 'endorsed': 1436, 'wasilla': 4210, 'charged': 811, 'sexual': 3559, 'assault': 425, 'victims': 4148, 'rape': 3213, 'kits': 2261, 'grads': 1809, 'gwen': 1865, 'graham': 1814, 'lobbyist': 2398, 'data': 1139, 'zone': 4333, 'lives': 2389, 'promotion': 3123, 'authority': 457, 'calledfast': 713, 'track': 3995, 'budgets': 671, 'row': 3422, 'jolly': 2210, 'chilean': 834, 'privatization': 3091, 'sharron': 3569, 'angle': 358, 'resulted': 3354, 'hidden': 1932, 'fees': 1596, 'dolphins': 1306, 'stadium': 3719, 'renovation': 3305, 'jerseyans': 2197, 'increases': 2061, 'june': 2220, 'disability': 1266, '85': 174, 'july': 2218, 'interviewed': 2125, 'israeli': 2165, 'onepalestinian': 2781, 'arent': 404, 'sons': 3673, 'targeted': 3860, 'facebook': 1553, 'great': 1823, 'staffers': 3721, 'express': 1539, 'gift': 1770, 'insert': 2098, 'rowing': 3423, 'institute': 2107, 'recently': 3249, 'sorties': 3676, 'base': 514, 'dropping': 1347, 'ordnances': 2810, 'concern': 967, 'civilian': 864, 'casualties': 769, 'single': 3618, 'documented': 1293, 'abuse': 210, 'bulk': 679, 'metadata': 2549, 'collectionprogram': 911, 'must': 2652, 'fly': 1662, 'height': 1914, 'feet': 1597, 'staff': 3720, 'supermajority': 3812, 'assembly': 427, 'pays': 2914, 'payroll': 2913, 'walton': 4196, 'wal': 4191, 'mart': 2484, 'controls': 1033, 'fortune': 1685, 'equal': 1464, 'wealth': 4224, '42': 117, 'pushed': 3171, 'personhood': 2959, 'ran': 3209, 'foundation': 1693, 'together': 3966, 'shrinking': 3599, 'dropped': 1346, 'employment': 1428, 'pool': 3023, 'cap': 738, 'james': 2181, 'langevin': 2289, 'jet': 2200, 'engine': 1443, 'steve': 3753, 'rothman': 3418, 'funding': 1725, 'auto': 459, 'bailout': 487, 'automakers': 460, 'georgias': 1761, 'graduation': 1813, 'topped': 3978, 'sent': 3538, 'option': 2802, 'sign': 3606, 'lots': 2413, 'conversation': 1037, 'really': 3235, 'opportunity': 2795, 'sort': 3675, 'amending': 341, 'planning': 2988, '19': 31, 'administer': 254, 'mandate': 2451, 'narragansett': 2657, 'beer': 538, 'algeria': 314, 'unreported': 4103, 'donation': 1310, 'demand': 1200, 'cancellations': 728, 'nevada': 2690, 'leaders': 2316, 'hijacked': 1940, 'process': 3099, 'floor': 1656, 'convention': 1036, 'ignoring': 2018, 'regular': 3289, 'procedure': 3097, 'ramming': 3208, 'ballistic': 491, 'confirmed': 980, 'death': 1153, 'least': 2323, 'patrol': 2905, 'agent': 288, 'operation': 2790, 'toll': 3969, '400': 114, 'fulfills': 1718, 'commuters': 941, 'thing': 3936, 'hit': 1950, 'emergency': 1420, 'directly': 1262, 'affected': 275, 'impacted': 2033, 'panhandle': 2873, 'extended': 1541, 'thereafter': 3929, 'sarasota': 3459, 'pryor': 3156, 'central': 790, 'continue': 1017, 'approve': 392, 'tea': 3870, 'ultra': 4068, 'conservative': 995, 'millionaire': 2576, 'citys': 862, 'proposition': 3133, 'extreme': 1546, 'bring': 654, '270': 95, 'relatives': 3297, 'universities': 4093, 'athletic': 436, 'departments': 1215, 'exceeding': 1504, 'expenses': 1530, 'charlotte': 817, 'ordinance': 2808, 'sector': 3513, 'employer': 1426, 'broke': 660, 'goes': 1787, '2026': 78, 'arab': 397, 'emirates': 1421, 'chairman': 802, 'gore': 1796, 'too': 3974, 'husband': 1999, 'gotten': 1798, 'farm': 1580, 'adds': 250, 'discriminate': 1272, 'rich': 3375, 'contributed': 1025, 'alan': 307, 'grayson': 1822, 'former': 1681, 'vice': 4146, 'vampire': 4125, 'holocaust': 1962, 'recession': 3251, 'across': 235, 'hung': 1994, 'balance': 488, 'rescuing': 3332, 'quote': 3189, 'again': 281, 'charles': 815, 'bass': 521, 'privatizing': 3093, 'risking': 3396, 'trillions': 4030, 'wall': 4195, 'strong': 3783, 'message': 2547, 'vladimir': 4171, 'putin': 3174, 'sending': 3533, 'warships': 4207, 'sea': 3501, 'airlifting': 303, 'afghanistan': 278, 'religious': 3300, 'catholic': 776, 'provide': 3148, 'inducing': 2074, 'drugs': 1349, 'crime': 1101, 'capita': 741, 'basis': 519, 'vanilla': 4127, 'soy': 3685, 'latte': 2304, 'sweet': 3842, 'match': 2495, 'frank': 1701, 'wolf': 4284, 'suspects': 3837, 'gall': 1734, 'heroes': 1926, 'reductions': 3272, 'happened': 1878, 'retired': 3357, 'planned': 2987, 'parenthood': 2878, 'choose': 840, 'lt': 2423, 'rebecca': 3240, 'kleefisch': 2264, 'warner': 4204, 'told': 3967, 'politifact': 3016, 'nationals': 2667, 'lie': 2358, 'serious': 3543, 'proposal': 3130, 'neighborhoods': 2687, 'safe': 3443, 'slash': 3633, 'enticed': 1455, 'cbo': 782, 'reports': 3319, 'delaying': 1195, 'deficit': 1186, 'ten': 3886, 'specialty': 3692, 'plate': 2993, 'filming': 1619, 'inside': 2099, 'racked': 3193, 'obrien': 2752, 'iaea': 2005, 'atomic': 439, 'energy': 1439, 'iranians': 2149, 'obligations': 2751, 'matt': 2501, 'wand': 4197, 'sided': 3603, 'activists': 241, 'restrict': 3348, 'reproductive': 3323, 'labor': 2275, 'participation': 2886, 'decades': 1162, '1978': 46, 'below': 550, 'positive': 3036, 'pence': 2925, 'inarguably': 2046, 'leader': 2315, 'grandfather': 1817, '1925': 34, '205': 80, 'miles': 2569, 'runs': 3431, 'carries': 756, 'traffic': 4000, 'net': 2689, '20th': 81, 'century': 793, 'catastrophe': 771, 'liberia': 2354, 'produce': 3101, 'dallas': 1131, 'cowboys': 1082, 'consumes': 1012, 'peak': 2916, 'major': 2438, 'oil': 2775, 'spill': 3703, '1969': 44, 'rand': 3210, 'paul': 2906, 'denied': 1208, 'forward': 1688, 'zero': 4331, 'aid': 297, 'specifically': 3695, 'spoke': 3708, 'precedent': 3052, 'lemieux': 2338, 'requested': 3327, 'earmark': 1364, 'truman': 4040, 'friend': 1709, 'dog': 1300, 'senator': 3530, 'toomey': 3976, 'stood': 3762, 'privatize': 3092, 'invest': 2133, 'stock': 3760, 'crashed': 1087, 'knowledge': 2267, 'qaida': 3178, 'receiving': 3247, 'training': 4005, 'ive': 2175, 'bit': 589, 'reserves': 3336, 'talk': 3857, 'republicansagree': 3326, 'overturning': 2850, 'technology': 3877, 'engineering': 1444, 'mathematics': 2500, 'advanced': 265, 'degrees': 1191, 'citizens': 859, 'quarter': 3184, 'heard': 1908, 'subsidies': 3796, 'dream': 1335, 'failed': 1561, 'embassies': 1418, 'consulates': 1006, 'sixty': 3626, 'highthe': 1938, 'nationwhich': 2669, 'represents': 3322, 'significant': 3609, 'turnaround': 4056, 'short': 3587, 'display': 1280, 'rifle': 3386, 'perfectly': 2944, 'transportation': 4014, 'secretary': 3511, 'ray': 3223, 'lahood': 2278, 'cell': 786, 'gives': 1780, 'wealthy': 4225, 'corporations': 1051, 'factor': 1557, 'toxic': 3993, 'gop': 1794, 'ticket': 3953, 'priority': 3084, 'outlaw': 2827, 'birth': 587, 'control': 1031, 'roe': 3405, 'vs': 4182, 'wade': 4184, 'maternal': 2497, 'mortality': 2620, 'dramatically': 1331, 'definitely': 1188, 'gained': 1733, 'womens': 4288, 'holly': 1961, 'turner': 4057, 'homestead': 1970, 'exemption': 1517, 'fort': 1683, 'mercedes': 2545, 'benz': 556, 'usa': 4116, 'moving': 2636, 'fast': 1582, 'furious': 1729, 'north': 2722, 'carolinians': 755, 'concept': 966, 'restrooms': 3352, 'rooms': 3415, 'bathrooms': 523, 'etc': 1480, 'alaska': 310, 'begich': 541, 'supporting': 3820, 'carbon': 746, 'harry': 1886, 'reid': 3293, 'losses': 2411, 'penalize': 2923, 'involve': 2143, 'extensive': 1544, 'shooting': 3584, 'drastically': 1333, 'uninsured': 4087, 'manufacture': 2459, 'sale': 3448, 'possession': 3037, 'falls': 1571, 'hartsfield': 1887, 'jacksons': 2177, 'terminal': 3894, 'opening': 2787, '92': 181, 'provider': 3151, 'advocating': 272, 'requirements': 3330, 'drag': 1329, 'jim': 2203, 'crow': 1116, 'forfeits': 1679, 'tv': 4059, 'ads': 262, 'fcc': 1591, 'rules': 3427, 'member': 2536, 'terms': 3897, 'length': 2339, 'unconstitutional': 4072, 'prevents': 3076, 'inspector': 2103, 'motivation': 2631, 'outside': 2834, 'influence': 2082, 'targeting': 3861, 'exempt': 1516, 'applications': 386, 'groups': 1840, 'babies': 474, 'aborted': 201, 'nyc': 2744, 'martin': 2485, 'luther': 2424, 'king': 2258, 'jr': 2213, 'rainy': 3201, 'natural': 2672, 'disaster': 1268, 'both': 624, 'appeals': 381, 'judges': 2215, 'elena': 1407, 'parent': 2876, 'nathan': 2663, 'deals': 1152, 'hope': 1975, 'corbett': 1044, '49th': 130, 'kitzhaber': 2262, 'rose': 3417, '65': 151, '57': 140, 'personal': 2958, 'incomes': 2056, 'declined': 1172, 'rest': 3346, 'coming': 925, 'treasury': 4020, 'extensively': 1545, 'intervention': 2123, 'libya': 2355, 'breaks': 644, 'powerful': 3045, 'connected': 989, 'ron': 3409, 'johnson': 2209, 'justifies': 2228, 'agreements': 294, 'assistance': 429, 'displaced': 1279, 'mob': 2602, 'busted': 696, 'door': 1315, '24': 86, 'rural': 3433, 'hospitals': 1978, 'shut': 3600, 'doors': 1316, 'chose': 841, 'dead': 1147, 'mental': 2542, 'chuck': 848, 'hagel': 1868, 'called': 712, 'defended': 1183, 'stole': 3761, 'invention': 2131, 'inventor': 2132, '60': 144, 'adults': 263, 'england': 1446, 'mosquitoes': 2624, 'catch': 773, 'pinellas': 2979, 'financial': 1625, 'officer': 2767, 'prevailed': 3074, 'arguments': 408, 'thathillary': 3917, 'clintonviolated': 887, 'chicago': 826, 'toughest': 3986, 'endangered': 1432, 'species': 3693, 'delisted': 1197, 'weren': 4241, 'negotiations': 2685, 'gay': 1747, 'marriage': 2481, 'lawsuits': 2311, 'reached': 3226, 'bound': 629, 'ruling': 3428, 'missouri': 2597, 'pet': 2964, 'surrender': 3833, 'humane': 1991, 'society': 3654, 'plastic': 2992, 'exists': 1522, 'pastor': 2900, 'molestation': 2607, 'nelson': 2688, 'keystone': 2246, 'pipeline': 2980, 'mandela': 2454, 'communist': 938, 'experience': 1532, 'encounters': 1430, 'loud': 2415, 'youll': 4322, 'destabilize': 1229, 'east': 1372, 'built': 677, 'fence': 1604, 'san': 3453, 'diego': 1253, 'smuggling': 3646, 'allen': 322, 'west': 4243, 'hired': 1945, 'attending': 446, 'rally': 3206, 'ballots': 493, 'bing': 582, 'corporate': 1050, 'emissions': 1422, 'graduates': 1812, 'patients': 2902, 'affect': 274, '55': 138, 'ethics': 1482, 'investigation': 2137, 'conducted': 976, 'partisan': 2888, 'committee': 932, 'related': 3295, 'business': 694, 'duke': 1355, 'collect': 908, 'projects': 3117, 'retiree': 3358, 'collecting': 909, 'paycheck': 2909, 'provision': 3154, 'permission': 2947, 'denzel': 1213, 'speaks': 3690, 'expected': 1527, 'clout': 892, 'hispanic': 1947, 'populations': 3027, 'region': 3285, 'gubernatorial': 1851, 'proven': 3147, 'board': 598, 'buried': 687, 'affordable': 277, 'inchains': 2049, 'knees': 2265, 'road': 3398, 'sight': 3605, 'needed': 2679, 'eve': 1488, 'juneteenth': 2221, 'community': 940, 'celebrates': 785, 'slavery': 3637, 'thousand': 3947, 'felons': 1602, 'tag': 3852, 'childhood': 831, 'obesity': 2749, 'annually': 365, 'jon': 2211, 'runyan': 3432, '825': 172, 'stations': 3741, 'sitting': 3623, 'empty': 1429, 'grade': 1806, 'level': 2348, 'streetcars': 3775, 'carry': 758, 'buses': 692, 'attract': 449, 'riders': 3384, 'ride': 3383, 'transit': 4010, 'operating': 2789, 'greater': 1824, 'bus': 691, 'tested': 3905, 'lead': 2314, 'cleveland': 878, 'flint': 1652, 'inmates': 2091, 'noncitizens': 2715, 'grammys': 1815, 'reporters': 3318, 'rehearse': 3292, 'questions': 3188, 'press': 3071, 'book': 612, 'solace': 3656, 'nursing': 2742, 'pervasive': 2963, 'grievance': 1833, 'animosity': 359, 'served': 3545, 'mansion': 2457, 'issued': 2168, 'instructions': 2111, 'terrorism': 3900, 'reference': 3275, 'see': 3518, 'defunded': 1189, 'trenton': 4025, 'area': 403, 'giving': 1781, 'return': 3361, 'clayton': 873, 'achieved': 229, 'milestone': 2570, 'eluded': 1414, 'metropolitan': 2552, 'meeting': 2533, 'highly': 1937, 'qualified': 3180, 'hole': 1959, 'walkers': 4193, 'workplace': 4299, 'nash': 2662, 'pretends': 3072, 'chicken': 827, 'farmer': 1581, 'exemptions': 1518, 'birthright': 588, 'block': 592, 'fined': 1629, 'admit': 257, 'funneled': 1728, 'moderate': 2603, 'braves': 641, 'homeowners': 1967, 'cobb': 900, 'interview': 2124, 'brokaw': 659, 'tribute': 4027, 'ronald': 3410, 'reagan': 3232, 'hostages': 1979, 'released': 3299, 'soon': 3674, 'perceived': 2937, 'command': 926, 'weak': 4223, 'photo': 2971, 'finland': 1631, 'hockey': 1955, 'game': 1739, 'shows': 3598, 'sad': 3441, 'dmitry': 1288, 'medvedev': 2531, '1968': 43, 'full': 1719, 'earning': 1367, 'above': 206, 'greitens': 1831, '600': 145, 'image': 2026, 'consultants': 1007, 'rebrand': 3242, 'charity': 814, 'continues': 1019, 'discussed': 1274, 'boots': 615, 'doesnt': 1299, 'believe': 549, 'deciding': 1165, 'download': 1321, 'electronic': 1406, 'click': 880, 'mouse': 2632, 'barely': 509, 'duggar': 1354, 'megyn': 2535, 'kelly': 2241, 'secure': 3514, 'building': 675, 'fortress': 1684, 'likes': 2371, 'perhaps': 2945, 'earmarks': 1365, 'bridge': 649, 'nowhere': 2730, 'incentive': 2047, '43': 118, 'losing': 2410, 'recent': 3248, 'study': 3790, 'uber': 4064, 'operates': 2788, 'drunk': 1350, 'ridesharing': 3385, 'businesses': 695, 'closing': 890, 'foster': 1690, 'disproportionately': 1281, 'identity': 2013, 'theft': 3923, 'equality': 1465, 'couples': 1073, '700': 156, 'uncovered': 4073, 'accused': 228, 'clean': 874, 'seed': 3519, 'muslim': 2650, 'father': 1585, 'swat': 3840, 'raids': 3198, '1980s': 48, 'failing': 1562, 'savannahs': 3465, 'port': 3030, 'from700': 1713, 'normal': 2721, 'waited': 4187, 'trans': 4007, 'pacific': 2864, 'partnership': 2890, 'agreement': 293, 'negotiated': 2684, 'endorse': 1435, 'veto': 4143, 'development': 1239, 'corp': 1049, 'account': 220, 'letter': 2345, 'clarence': 870, 'thomas': 3945, 'recuse': 3263, 'himself': 1944, 'challenging': 803, 'constitutionality': 1003, 'collectively': 913, 'lizbeth': 2391, 'benacquisto': 552, '105': 9, 'hiding': 1933, 'contributors': 1030, 'invested': 2134, 'boosting': 614, 'teen': 3879, 'successfully': 3801, 'environmental': 1462, 'permitting': 2949, 'nominee': 2713, 'steven': 3754, 'chu': 847, 'nightmare': 2701, 'sought': 3678, 'automatic': 461, 'restoration': 3347, 'felon': 1601, 'nonviolent': 2718, 'negative': 2682, '123': 16, 'according': 219, 'bureau': 684, 'statistics': 3744, 'form': 1680, 'favor': 1586, 'judith': 2217, 'economists': 1377, '278k': 96, 'innovation': 2093, 'invests': 2140, 'pass': 2895, 'jail': 2179, 'confirm': 979, 'execution': 1513, 'beheading': 545, 'sandy': 3456, 'hook': 1972, 'henry': 1922, 'kissinger': 2259, 'meet': 2532, 'precondition': 3055, 'minnick': 2587, 'fatalities': 1584, 'risen': 3393, 'alive': 318, 'biking': 574, 'newgard': 2694, 'owed': 2852, 'unpaid': 4100, 'milwaukie': 2581, 'apartment': 376, 'complex': 960, 'hasn': 1890, 'corner': 1047, 'expanding': 1524, 'ver': 4137, 'ordinary': 2809, 'given': 1779, 'identify': 2012, 'preferred': 3056, 'amnesty': 349, 'colorado': 917, 'seizures': 3523, 'seizure': 3522, 'activity': 242, 'explorer': 1538, 'daraprim': 1137, 'underpriced': 4078, 'relative': 3296, 'peers': 2919, '588': 142, '31': 102, 'abbott': 192, 'air': 300, 'reduction': 3271, 'ozone': 2861, '46': 125, 'decrease': 1173, 'nox': 2731, 'presidents': 3070, 'shellacked': 3572, 'midterms': 2563, '1934': 35, 'beaches': 527, 'town': 3991, 'crisis': 1106, 'werent': 4242, 'situation': 3624, 'nearing': 2676, 'contacts': 1014, 'organization': 2814, 'suntrust': 3809, 'cancels': 730, 'sells': 3527, 'effect': 1385, 'cresent': 1100, 'hardy': 1882, 'disabilities': 1265, 'drain': 1330, 'reasons': 3238, 'budweiser': 672, 'stayed': 3748, 'rggi': 3370, 'solar': 3657, 'roof': 3411, '1992': 54, 'good': 1792, 'ideas': 2010, '16': 26, 'enough': 1448, 'indians': 2067, 'cincinnati': 855, 'reds': 3266, '918': 180, 'santorum': 3457, 'ukrainians': 4067, 'riot': 3390, 'dismantle': 1277, 'democratically': 1203, 'lieutenant': 2361, 'ambassador': 338, 'negotiate': 2683, 'sheldon': 3571, 'whitehouses': 4255, 'failure': 1563, 'shameful': 3564, 'lawyers': 2312, 'hed': 1912, '70th': 159, 'perdue': 2941, 'led': 2327, 'ship': 3580, 'overseas': 2844, 'seven': 3555, 'leads': 2319, 'finally': 1621, 'settled': 3554, 'sporting': 3710, 'goods': 1793, 'devices': 1242, 'trainer': 4004, 'retainer': 3356, '102': 7, 'expense': 1529, 'greg': 1830, 'heads': 1903, 'whose': 4260, 'platform': 2995, 'calls': 715, 'clackamas': 866, 'cripple': 1105, 'excessive': 1508, 'abortions': 204, 'week': 4232, 'hunters': 1995, 'restricted': 3349, 'large': 2292, 'capacity': 739, 'magazines': 2435, 'cartridge': 760, 'hunting': 1996, 'bird': 586, 'supporter': 3818, 'killing': 2253, 'allies': 323, 'shouldnt': 3591, 'investigate': 2136, 'hurricane': 1997, 'katrina': 2237, 'incompetent': 2057, 'thank': 3914, 'pump': 3163, 'ba': 473, 'ma': 2426, 'hb2': 1898, 'fallout': 1570, 'construction': 1005, 'roughly': 3419, 'advised': 267, 'wear': 4228, 'cowboy': 1081, 'hats': 1893, 'halloween': 1872, 'rob': 3400, 'portman': 3032, 'ideological': 2014, 'views': 4154, 'toward': 3989, '700m': 157, 'fueled': 1716, 'events': 1490, 'penalty': 2924, 'deterrent': 1235, 'registered': 3287, 'nurse': 2740, 'accepted': 213, '67': 153, 'refugees': 3278, 'ptsd': 3157, 'traumatic': 4016, 'brain': 637, 'injury': 2090, 'deny': 1212, 'storm': 3768, 'voice': 4172, 'recipient': 3252, 'policys': 3012, 'consumers': 1011, 'gasoline': 1745, '141': 21, '171': 28, '2030': 79, 'politicians': 3014, 'cram': 1084, 'decisions': 1167, 'violent': 4162, 'yet': 4318, 'grown': 1843, 'russ': 3436, 'feingold': 1598, 'kid': 2250, 'competition': 951, 'starting': 3735, 'salaries': 3446, 'nationwide': 2670, 'shown': 3597, 'gases': 1744, 'install': 2104, 'bike': 573, 'path': 2901, 'existed': 1520, 'irresponsible': 2153, 'buono': 682, 'fiscal': 1641, 'mistakes': 2599, 'partner': 2889, 'restrictive': 3351, 'dealing': 1151, 'transfer': 4009, 'firearms': 1634, 'pentagon': 2931, 'signing': 3611, 'soldier': 3659, 'wounded': 4308, 'hospital': 1977, 'something': 3671, 'happen': 1877, 'legislative': 2334, 'properly': 3127, '2018': 76, 'chad': 798, 'chadwell': 799, 'condom': 975, 'techniques': 3876, 'demonstrated': 1206, 'betty': 562, 'sutton': 3838, 'maxed': 2503, 'correctional': 1053, 'lowers': 2421, 'life': 2363, 'expectancy': 1526, '1998': 57, '58': 141, 'torture': 3980, 'members': 2537, 'abided': 194, 'juvenile': 2229, 'triple': 4032, 'worked': 4294, 'broun': 664, 'sides': 3604, 'deviants': 1241, 'crush': 1119, 'dewine': 1244, 'cordrays': 1045, 'exclusively': 1511, 'counsel': 1063, 'declaring': 1170, 'english': 1447, 'following': 1666, 'catastrophic': 772, 'cascading': 762, 'collapse': 906, 'banks': 501, 'prosecuted': 3135, 'hearings': 1910, 'reforms': 3277, 'officers': 2768, 'receive': 3244, 'outnumbers': 2830, 'round': 3420, 'patrick': 2904, 'murphy': 2646, 'speaker': 3688, 'educations': 1383, 'oversight': 2845, 'superintendent': 3811, 'lying': 2425, 'studies': 3789, 'barnett': 511, 'shale': 3563, 'liberal': 2352, '74': 162, 'infrastructure': 2085, 'norcross': 2720, 'takeover': 3855, 'rutger': 3439, 'camden': 716, 'jer': 2194, 'ey': 1549, 'internal': 2119, 'attorney': 447, 'protecting': 3141, 'cicilline': 853, 'finances': 1624, 'independent': 2064, 'auditor': 451, 'deadlines': 1148, 'intentionally': 2115, 'november': 2728, 'final': 1620, 'hearing': 1909, 'controversial': 1035, 'spring': 3717, 'watching': 4216, 'listening': 2384, 'weare': 4229, 'picking': 2975, 'shovels': 3592, 'paper': 2874, 'bags': 484, 'fares': 1579, 'raised': 3203, 'gm': 1785, 'prop': 3125, 'operations': 2791, 'contributing': 1026, 'elect': 1399, 'dna': 1289, 'bears': 528, 'near': 2675, '150': 23, 'limberbutt': 2373, 'mccubbins': 2513, 'old': 2776, 'cat': 770, '2016': 75, 'presidential': 3069, 'jonathan': 2212, 'gruber': 1845, 'jennifer': 2193, 'carroll': 757, 'woman': 4285, 'agencies': 285, 'certified': 797, 'dan': 1134, 'sullivan': 3807, 'sentence': 3539, 'offenderwho': 2761, 'andis': 356, 'gruesome': 1846, 'murder': 2643, 'moved': 2634, 'parents': 2879, '2008law': 68, 'wanting': 4200, 'abroad': 208, 'owen': 2853, 'ri': 3372, 'advantage': 266, '1960': 41, 'monogamous': 2610, 'ceo': 794, 'hedge': 1913, 'manager': 2450, 'theyve': 3935, '1950s': 38, 'pell': 2920, 'grant': 1818, 'getting': 1766, 'consistent': 998, 'undocumented': 4080, 'longest': 2404, 'newspaper': 2697, '28': 97, 'koch': 2269, 'brothers': 662, 'campuses': 723, 'booze': 616, 'bribe': 647, 'folks': 1664, 'spot': 3711, '95': 183, 'burning': 690, 'completed': 958, 'boilers': 603, 'roofs': 3413, 'tammy': 3859, 'gut': 1861, 'lawcaused': 2307, 'trayvon': 4017, 'perdues': 2942, 'closed': 889, 'plants': 2991, 'ribble': 3373, 'jumpstart': 2219, 'economy': 1378, 'roofing': 3412, 'homes': 1969, 'flood': 1654, 'maybe': 2505, 'cent': 787, 'committing': 934, 'vermont': 4138, 'meanwhile': 2519, 'wages': 4186, 'stagnate': 3724, 'think': 3938, 'providence': 3150, 'suggest': 3806, 'stronger': 3784, 'allowing': 327, 'waivers': 4190, 'credible': 1096, 'constitutions': 1004, 'judicial': 2216, 'appointments': 388, 'drafted': 1327, 'vetted': 4145, 'supporters': 3819, 'else': 1412, '76': 165, 'eligible': 1408, 'cancer': 731, 'ration': 3222, 'hotel': 1980, 'guests': 1854, 'motel': 2627, 'publicized': 3160, 'certificate': 795, 'denies': 1210, 'late': 2298, 'exhausted': 1519, 'misstated': 2598, 'immediately': 2028, 'bosnia': 621, '1995': 56, 'latino': 2302, 'graduated': 1811, '36': 108, 'underemployed': 4076, 'tune': 4051, 'hourly': 1981, 'hawaii': 1897, 'find': 1627, 'pouring': 3042, 'likethey': 2372, 'wise': 4276, 'substantially': 3798, 'uncollected': 4071, 'hampshire': 1873, 'marilinda': 2473, 'garcia': 1742, 'furloughed': 1730, 'shutdown': 3601, 'fahrenheit': 1559, 'worse': 4303, 'adopted': 261, 'targets': 3862, 'ambitious': 340, 'scale': 3478, 'prosecutor': 3136, 'indictment': 2070, 'perryhas': 2952, 'ties': 3955, 'irene': 2152, 'outages': 2826, 'landfall': 2284, '1904': 32, 'chair': 801, 'lobbies': 2396, 'size': 3627, 'fighting': 1612, 'practicing': 3047, 'representing': 3321, 'contributor': 1029, 'rezko': 3369, 'slum': 3639, 'landlord': 2286, 'inner': 2092, 'promoted': 3121, 'hardest': 1880, 'struggling': 3785, 'produces': 3103, 'alarmists': 309, 'warming': 4203, 'particular': 2887, 'satellite': 3462, 'demonstrate': 1205, 'evidence': 1497, 'polling': 3018, 'themselves': 3926, 'pro': 3094, 'epa': 1463, 'outsourced': 2835, 'scientific': 3492, 'regulation': 3290, 'plagued': 2984, 'considered': 997, 'objective': 2750, 'trustworthy': 4044, 'low': 2418, 'levels': 2349, 'lake': 2280, 'michigan': 2559, 'leading': 2318, 'evaporation': 1487, 'lakes': 2281, '45th': 124, 'prospects': 3138, 'campaigning': 720, 'tolstoy': 3971, 'peace': 2915, 'watershed': 4219, '1958': 40, 'asserted': 428, 'directors': 1264, 'upon': 4109, 'foreman': 1677, 'jury': 2224, 'greenpeace': 1828, 'payer': 2910, 'exxonmobil': 1548, 'received': 3245, '156': 24, 'rebate': 3239, '202': 77, 'doyle': 1323, 'hopeful': 1976, 'herman': 1925, 'cain': 706, 'pauls': 2907, 'followers': 1665, 'ignorant': 2017, 'ralph': 3207, 'ceiling': 784, 'drive': 1340, 'newly': 2695, 'drawn': 1334, '15th': 25, 'youd': 4321, 'yourself': 4328, 'columbus': 919, 'niagara': 2699, '27': 94, 'shortfall': 3588, 'flat': 1647, 'false': 1572, '103': 8, '1999': 58, 'ought': 2823, 'hear': 1907, '448': 121, 'file': 1615, 'swore': 3843, 'oath': 2745, 'committed': 931, 'imprisonment': 2041, 'mike': 2566, 'hypocritical': 2004, 'obtain': 2754, 'roy': 3424, 'cooper': 1041, 'defending': 1184, 'lawsuit': 2310, 'nunn': 2738, 'recovery': 3261, 'fall': 1568, 'winter': 4272, 'developed': 1238, 'retirement': 3360, 'ways': 4221, 'finding': 1628, 'tragedy': 4002, 'met': 2548, 'casino': 766, 'rigged': 3387, 'corrupt': 1054, 'lay': 2313, 'possibility': 3038, 'profiling': 3109, 'degree': 1190, 'immigrant': 2029, 'fraudulently': 1704, 'claimed': 867, 'lived': 2388, 'transparency': 4012, 'airing': 302, '83': 173, 'doctors': 1292, 'leaving': 2325, 'profession': 3107, 'incentives': 2048, 'shipping': 3581, 'elsewhere': 1413, 'favorably': 1587, 'binational': 581, 'fugitive': 1717, 'slave': 3636, 'fidel': 1607, 'castros': 768, 'cuba': 1121, 'denial': 1207, 'condition': 973, 'february': 1592, 'helping': 1919, 'boy': 631, 'multiple': 2642, 'instances': 2105, 'wood': 4291, 'tenth': 3891, 'populationyet': 3028, 'skilled': 3628, 'yearly': 4315, 'estimates': 1478, 'annual': 364, 'lawmakers': 2308, 'leticia': 2344, 'van': 4126, 'de': 1146, 'putte': 3176, 'sequester': 3540, 'subtracting': 3799, 'lady': 2277, 'stamps': 3727, 'weapon': 4226, 'arguing': 406, 'krugman': 2271, 'phony': 2970, 'alexi': 313, 'giannoulias': 1767, 'aide': 298, 'longtime': 2405, 'bp': 634, 'streetcar': 3774, 'downtown': 1322, 'precious': 3053, 'rise': 3392, 'speculation': 3696, '56': 139, 'gallon': 1735, 'siphoned': 3619, 'self': 3524, 'threatened': 3949, 'protest': 3145, 'fourfold': 1695, 'educated': 1381, 'rule': 3426, 'mice': 2557, 'francisco': 1700, 'cnns': 894, 'crap': 1085, 'bad': 482, 'opinion': 2792, 'numbers': 2737, 'compare': 948, 'throughout': 3952, 'gold': 1790, 'plated': 2994, 'resident': 3337, 'pelosi': 2921, 'busy': 697, 'sticking': 3756, 'bar': 505, 'tab': 3851, 'alcohol': 312, 'jets': 2201, 'entry': 1461, 'prostitution': 3139, 'compile': 953, 'individuals': 2072, 'body': 601, 'index': 2065, 'giveaways': 1778, 'receives': 3246, 'collection': 910, 'thirty': 3942, 'notion': 2727, 'somehow': 3669, 'rated': 3217, 'unacceptable': 4070, 'unveiled': 4106, 'critics': 1110, 'complain': 955, 'pipelines': 2981, 'identical': 2011, 'accountability': 221, '1950': 37, '68': 154, '78': 167, 'nationally': 2666, 'certificates': 796, 'exploded': 1534, '25th': 92, 'confidence': 978, 'stands': 3731, 'boehner': 602, 'nurses': 2741, 'firefighters': 1636, 'saving': 3468, 'xcise': 4313, 'commerce': 927, 'lines': 2379, 'amendmentban': 343, 'manufactured': 2460, 'meg': 2534, 'windmills': 4269, 'electrify': 1405, 'excise': 1509, 'naming': 2656, 'falcons': 1567, 'marketing': 2477, 'declared': 1169, '97': 185, 'poorest': 3025, 'passage': 2896, 'towns': 3992, 'stricter': 3779, '1913': 33, '1980': 47, 'statistically': 3743, 'tied': 3954, 'nascar': 2661, 'fans': 1577, 'serve': 3544, '37': 109, 'servicemembers': 3548, 'dwight': 1360, 'eisenhower': 1395, 'finish': 1630, 'slain': 3632, 'raped': 3214, 'robbed': 3401, 'beaten': 529, 'core': 1046, 'overstays': 2847, 'effort': 1390, 'hold': 1956, 'accountable': 222, 'uphold': 4108, 'appalachian': 380, 'compensation': 950, 'morris': 2619, 'helps': 1920, 'marketplaces': 2478, 'points': 3006, 'drop': 1344, 'unprecedented': 4102, 'wishes': 4277, 'dnc': 1290, 'debbie': 1157, 'wasserman': 4212, 'schultz': 3490, 'renewable': 3303, 'sources': 3680, 'biofuels': 584, 'wind': 4268, 'connie': 991, 'mack': 2428, 'iv': 2174, 'promoter': 3122, 'hooters': 1974, 'room': 3414, 'brawling': 642, 'altercations': 334, 'rage': 3197, 'destruction': 1230, 'analysis': 354, 'disproved': 1282, 'exceeded': 1503, 'inflation': 2081, 'commitments': 930, 'ineffective': 2077, 'decreased': 1174, 'manufacturers': 2462, 'mcconnell': 2512, 'offered': 2763, 'fully': 1720, 'extension': 1543, 'video': 4150, 'doesn': 1298, 'broader': 658, 'picture': 2976, 'firing': 1637, 'small': 3641, 'peppers': 2935, 'pepper': 2934, 'jails': 2180, 'criminals': 1104, 'streets': 3776, 'teacher': 3872, 'borrow': 619, 'minute': 2590, 'intended': 2114, 'suspected': 3836, 'mend': 2539, 'shape': 3565, 'acknowledged': 233, 'fundraiser': 1726, 'unhappy': 4085, 'libyan': 2356, 'fair': 1565, 'kind': 2255, 'flew': 1649, 'brigade': 652, 'georgian': 1759, 'ships': 3582, 'kinds': 2257, 'supplies': 3815, 'example': 1501, 'refusing': 3281, 'contributions': 1028, 'pacs': 2868, 'lobbyists': 2399, 'bolton': 604, 'thati': 3918, 'overthrow': 2848, 'saddam': 3442, 'correct': 1052, 'consultation': 1008, 'input': 2094, 'buckyballs': 669, 'donors': 1313, 'agovernment': 291, 'thatll': 3919, 'womans': 4286, 'gingrich': 1774, 'admitted': 259, 'scares': 3482, 'typical': 4062, 'returns': 3364, 'dawn': 1143, 'johnsen': 2208, 'motherhood': 2629, 'involuntary': 2142, 'servitude': 3550, 'jerseys': 2198, 'broken': 661, 'solvent': 3665, 'page': 2869, '992': 188, 'establish': 1474, 'clinics': 883, 'indoctrinated': 2073, 'grandchildren': 1816, 'lamar': 2282, 'appeared': 382, 'moderated': 2604, 'debate': 1155, 'defend': 1182, 'controversalremarks': 1034, 'byrev': 703, 'a12': 189, 'whip': 4252, 'scalise': 3479, 'hasblown': 1889, 'story': 3769, '536': 137, 'georgians': 1760, 'jurisdictions': 2223, 'strictest': 3780, 'front': 1714, 'lieutenants': 2362, 'straus': 3772, 'ic': 2006, 'homer': 1968, 'narrow': 2658, 'letters': 2346, 'opposing': 2799, 'internet': 2121, 'southside': 3683, 'uranium': 4112, 'site': 3622, 'virginias': 4165, 'coast': 899, 'routinely': 3421, 'disclose': 1270, 'spouses': 3713, 'soil': 3655, 'invaded': 2128, 'younger': 4324, '98': 186, 'comply': 962, 'needlessly': 2680, 'trauma': 4015, 'creates': 1093, 'post': 3040, 'telling': 3883, 'maryland': 2487, 'admonished': 260, 'ambassadors': 339, 'proper': 3126, 'server': 3546, 'lately': 2299, 'qualifiedto': 3181, 'adelson': 251, 'owner': 2857, 'things': 3937, 'kay': 2238, 'hagan': 1867, 'committees': 933, 'whitehouse': 4254, 'briefing': 651, 'warning': 4205, 'crash': 1086, 'develop': 1237, 'menu': 2544, 'colonize': 916, 'mars': 2483, 'payment': 2912, 'enrollment': 1451, 'counts': 1071, 'enrollee': 1449, 'web': 4230, 'user': 4120, 'shopping': 3586, 'carts': 761, 'costing': 1058, 'liberals': 2353, 'figured': 1614, 'algorithm': 315, 'banned': 502, 'conservatives': 996, 'revenues': 3367, 'returned': 3362, 'attended': 445, 'islamic': 2159, 'madrassa': 2432, 'midterm': 2562, 'expiration': 1533, 'era': 1468, 'biggest': 572, 'dropout': 1345, 'tremendous': 4024, 'amounts': 352, 'educate': 1380, 'pupil': 3166, 'skyrocket': 3630, 'dodged': 1296, 'draft': 1326, 'vietnam': 4152, 'baltimore': 495, 'pitch': 2982, 'don': 1308, 'larsens': 2295, 'perfect': 2943, '1956': 39, 'series': 3542, 'foot': 1669, 'fail': 1560, 'margin': 2471, 'richard': 3376, 'nixon': 2705, 'breast': 645, 'kit': 2260, 'basically': 518, 'dilation': 1257, 'curettage': 1123, 'watched': 4215, 'solidly': 3663, 'heavily': 1911, 'solid': 3662, '38': 110, 'jacksonvilles': 2178, 'vital': 4170, 'mile': 2568, 'missing': 2595, 'although': 335, 'eighth': 1394, 'dependent': 1218, 'mayor': 2506, 'lebron': 2326, 'stops': 3766, 'season': 3504, 'rusty': 3438, 'backwater': 481, 'saloon': 3451, 've': 4130, 'burgers': 686, 'supposed': 3823, 'dedicated': 1177, 'diverted': 1286, 'books': 613, 'soar': 3648, 'backed': 477, 'blue': 595, 'cross': 1113, 'cancelled': 729, 'dec': 1160, 'customs': 1126, 'apprehended': 389, 'islamist': 2160, 'crossing': 1115, 'southern': 3682, 'pumps': 3165, 'parts': 2891, 'inspection': 2101, 'stickers': 3755, 'inspections': 2102, 'date': 1141, 'cheating': 820, 'minority': 2588, 'concession': 968, 'initiated': 2086, 'flagrantly': 1646, 'defies': 1187, 'ordering': 2806, 'mexican': 2553, 'bosses': 622, 'laundering': 2305, 'vin': 4157, 'gopal': 1795, 'deport': 1219, 'becoming': 535, 'turns': 4058, 'might': 2564, 'article': 419, 'economist': 1376, 'magazine': 2434, 'graduate': 1810, 'married': 2482, 'illinois': 2023, 'fifth': 1609, 'burden': 683, 'giants': 1769, 'train': 4003, 'jan': 2182, '950': 184, '750': 164, 'communities': 939, 'easier': 1371, 'teenager': 3881, 'glock': 1784, 'computer': 964, 'flip': 1653, 'flopped': 1657, 'pledge': 3001, 'gerry': 1762, 'connolly': 992, 'fellow': 1600, 'spree': 3716, 'church': 849, 'mann': 2456, 'complaint': 956, 'alleging': 321, 'indictable': 2068, 'offense': 2762, 'overfunded': 2839, 'sayshillary': 3477, 'syrian': 3847, 'generally': 1752, 'accounting': 224, 'benzene': 557, 'harmful': 1885, 'western': 4244, 'europeans': 1485, 'measures': 2521, 'ninety': 2703, 'topsoil': 3979, 'inadequate': 2045, 'moisture': 2606, 'crops': 1112, '23': 85, 'exact': 1499, 'draconian': 1325, 'harm': 1884, 'arc': 399, 'tunnel': 4053, 'overruns': 2842, 'philippines': 2967, 'gen': 1750, 'pershing': 2955, 'dipped': 1260, 'pigs': 2977, 'blood': 593, 'shot': 3589, '49': 129, 'rebels': 3241, 'kasichs': 2234, 'aged': 284, 'ease': 1370, 'transition': 4011, '1981': 49, 'lifetime': 2365, 'migrants': 2565, 'rush': 3434, 'boards': 599, 'councils': 1062, 'contracts': 1023, 'weeks': 4233, 'contribution': 1027, 'regard': 3282, 'licenses': 2357, 'attacking': 441, 'math': 2499, 'ninth': 2704, 'tenure': 3892, '52': 135, 'nomination': 2712, 'delegates': 1196, 'carter': 759, 'aside': 421, 'korean': 2270, 'violating': 4160, 'sweatshop': 3841, 'haiti': 1869, 'sean': 3502, 'duffy': 1353, 'syria': 3846, 'stopping': 3765, 'advance': 264, 'baloney': 494, 'media': 2524, 'outlets': 2828, 'robert': 3404, 'loopholes': 2407, 'send': 3532, 'binge': 583, 'stuck': 3786, 'percentmore': 2940, 'barak': 508, 'hussein': 2001, 'muhammed': 2640, 'hoosiers': 1973, 'speak': 3687, 'eliminated': 1410, 'treated': 4022, 'spilled': 3704, 'milk': 2572, 'protections': 3143, 'boyce': 632, 'sensitive': 3537, 'treasurers': 4019, 'mosque': 2622, 'accuracy': 227, 'calculator': 708, 'opposition': 2800, 'filed': 1616, 'willing': 4266, 'somebody': 3668, '794': 168, 'recognition': 3254, 'floridians': 1660, 'opt': 2801, 'govt': 1805, 'authors': 458, 'cias': 852, 'cia': 851, 'version': 4139, 'allows': 328, 'lent': 2340, 'attempt': 443, 'blunt': 597, 'reduces': 3269, 'austerity': 455, 'columbia': 918, 'hcahospital': 1899, 'chain': 800, 'indicted': 2069, 'noted': 2725, 'reasonable': 3237, 'todays': 3965, 'murdered': 2644, 'philadelphia': 2966, 'code': 902, 'subsidizing': 3797, 'junk': 2222, 'appalachia': 379, '77': 166, 'researched': 3333, 'anybody': 371, 'nobodys': 2709, 'catherine': 775, 'cortez': 1055, 'mastos': 2494, 'robbery': 3403, 'masto': 2493, 'thatrepublican': 3920, 'darryl': 1138, 'glennhas': 1782, 'described': 1223, 'evil': 1498, 'tired': 3960, 'reaching': 3228, 'aisle': 305, 'trip': 4031, 'tobacco': 3963, 'californias': 710, 'smoking': 3645, 'prime': 3080, 'teenage': 3880, 'viewers': 4153, 'rushed': 3435, 'praised': 3048, 'occupy': 2756, 'movement': 2635, '24th': 89, 'congested': 983, 'christies': 845, 'barackobama': 507, 'upwards': 4111, 'modern': 2605, 'sarlo': 3460, 'njtv': 2706, 'heterosexual': 1930, 'plummeted': 3003, 'northern': 2723, 'europe': 1483, 'figure': 1613, 'intentions': 2116, 'contact': 1013, 'determine': 1233, '53': 136, 'describe': 1222, 'touch': 3984, 'crazy': 1089, 'marketed': 2476, 'minors': 2589, 'parental': 2877, 'consent': 993, 'reinvestment': 3294, 'fancy': 1575, 'arra': 414, 'crumbling': 1118, 'roads': 3399, 'bridges': 650, 'absolutely': 209, 'louie': 2416, 'gohmert': 1788, 'egypt': 1392, 'kkk': 2263, 'marched': 2468, 'mebane': 2522, 'victory': 4149, 'nunns': 2739, 'linked': 2380, 'undergraduate': 4077, 'debts': 1159, 'sanctions': 3454, 'withholdings': 4280, 'financially': 1626, 'incidents': 2050, 'israelisgave': 2166, 'sergeant': 3541, 'effects': 1389, 'secretly': 3512, 'tripled': 4033, 'april': 395, 'overhaul': 2840, '1983': 50, 'housing': 1986, 'persons': 2961, 'mortgages': 2621, 'bailey': 486, 'hutchison': 2002, 'treasurer': 4018, 'succeeding': 3800, 'ann': 361, 'richards': 3377, 'abolished': 199, 'prepare': 3061, 'gunsales': 1860, 'background': 478, 'checks': 823, 'association': 431, 'purchasers': 3168, '113': 11, 'uw': 4122, 'facing': 1555, 'choices': 839, 'commissioner': 929, 'decide': 1163, 'interstate': 2122, 'highway': 1939, 'investments': 2139, 'present': 3065, 'backlog': 479, 'complaints': 957, 'assaults': 426, 'malfeasance': 2445, 'bruce': 666, 'braley': 638, 'favors': 1589, 'bob': 600, 'menendez': 2540, '350': 107, 'coral': 1043, 'reefs': 3274, 'provides': 3152, 'pollsters': 3020, 'saydont': 3472, 'gallup': 1737, 'methodology': 2550, 'secondhand': 3507, 'smoke': 3644, 'kills': 2254, 'oreilly': 2813, 'viral': 4163, 'impressionable': 2040, 'youngsters': 4325, 'instructed': 2109, 'sing': 3617, 'praises': 3049, 'mikehuckabee': 2567, 'com': 920, 'hits': 1951, 'iranian': 2148, 'parliament': 2881, 'yes': 4317, 'apple': 384, 'factories': 1558, 'engineers': 1445, 'concluded': 969, 'repaying': 3310, 'loans': 2394, '117': 12, 'involvement': 2145, 'surface': 3827, 'missiles': 2594, 'islamists': 2161, 'contains': 1015, 'carcinogenic': 747, 'hydrocarbons': 2003, 'default': 1180, 'creditors': 1098, 'bondholders': 609, 'dozen': 1324, 'presented': 3066, 'ribbon': 3374, 'award': 469, 'excellence': 1505, 'personnel': 2960, 'terminations': 3896, 'carly': 753, 'fiorina': 1632, 'hewlett': 1931, 'packard': 2866, 'bought': 628, 'compaq': 946, 'terrible': 3898, 'latinos': 2303, 'countrys': 1070, 'filibustered': 1618, 'fannie': 1576, 'mae': 2433, 'freddie': 1705, 'mac': 2427, 'agrees': 295, 'embracing': 1419, 'cheney': 825, 'production': 3105, 'judge': 2214, 'sotomayor': 3677, 'mainstream': 2437, 'insisted': 2100, 'fema': 1603, 'lands': 2288, 'appellate': 383, 'argument': 407, 'ms': 2638, 'kagan': 2230, 'guarantees': 1849, 'publication': 3159, 'pamphlets': 2872, 'discussing': 1275, 'firms': 1639, 'caymans': 781, 'thad': 3912, 'cochran': 901, 'shifting': 3579, 'damaged': 1133, 'devastate': 1236, 'dependency': 1217, '122': 15, 'ineligible': 2078, 'guilty': 1856, 'stealing': 3751, 'blueprints': 596, 'manufacturer': 2461, 'stroke': 3782, 'pen': 2922, 'overrule': 2841, 'expenditures': 1528, 'oversaw': 2843, 'rosalyn': 3416, 'dance': 1135, 'pull': 3161, 'nato': 2671, 'chambers': 804, 'extend': 1540, 'parlor': 2882, 'centuries': 792, 'accumulate': 226, 'decline': 1171, 'produced': 3102, 'fed': 1593, 'face': 1552, 'tolls': 3970, '125': 18, 'southwest': 3684, 'saysdemocratic': 3476, 'alisha': 317, 'morgan': 2617, 'preschool': 3063, 'nasa': 2660, 'outreach': 2833, 'chrysler': 846, 'repaid': 3308, 'owned': 2856, 'excess': 1507, 'interests': 2118, 'tradition': 3998, 'resigning': 3339, 'wives': 4283, 'qualify': 3182, 'levy': 2350, 'hollow': 1960, 'essentially': 1472, 'bans': 503, 'deer': 1179, 'straight': 3770, 'legislators': 2335, 'observation': 2753, 'responsible': 3345, 'repeatedly': 3313, 'occasions': 2755, 'direct': 1261, 'cables': 704, 'pasco': 2893, 'opened': 2786, 'pace': 2863, 'hard': 1879, 'graveyards': 1820, 'museums': 2647, 'fighters': 1611, 'metro': 2551, 'japans': 2185, 'tony': 3973, 'purchase': 3167, 'co': 895, 'sewer': 3557, 'backups': 480, 'basements': 516, 'milwaukees': 2580, 'floods': 1655, 'clothing': 891, 'shelter': 3573, 'evangelical': 1486, 'christians': 843, 'catholics': 777, 'mormons': 2618, 'category': 774, 'extremism': 1547, '297': 99, 'beltline': 551, 'acre': 234, 'leah': 2320, 'vukmir': 4183, 'concealed': 965, 'churches': 850, 'playgrounds': 2999, 'cowles': 1083, 'recall': 3243, 'bidder': 567, 'linn': 2381, 'surveillance': 3834, 'mosques': 2623, 'totally': 3983, 'enrolling': 1450, 'nuts': 2743, 'mcdonnell': 2514, 'explore': 1537, 'sounded': 3679, 'alarm': 308, 'awarding': 470, 'vending': 4133, 'open': 2785, 'transparent': 4013, 'procurement': 3100, 'beyonce': 564, 'jay': 2187, 'crowds': 1117, 'edwards': 1384, 'll': 2392, 'perrys': 2953, 'saysdavid': 3475, 'piling': 2978, 'baptist': 504, 'inferior': 2080, 'subservient': 3795, 'husbands': 2000, 'ammunition': 348, 'orlando': 2818, 'geneva': 1753, 'enters': 1453, 'spins': 3706, 'explodes': 1535, 'schip': 3485, 'italy': 2171, 'dodd': 1295, 'burn': 689, '260': 93, '631': 149, '40s': 116, 'manage': 2448, 'compiled': 954, 'truly': 4039, 'resolution': 3341, 'pollution': 3021, 'earth': 1369, 'households': 1985, 'theyll': 3933, 'powers': 3046, 'charities': 813, 'richest': 3379, 'taxed': 3866, '720': 161, 'trading': 3997, 'accelerating': 211, 'bankruptcy': 499, 'allegedly': 320, 'desjarlaiss': 1227, 'tn': 3961, 'secretaries': 3510, 'emails': 1415, 'clintonsthe': 886, 'whos': 4259, 'urgency': 4114, 'reward': 3368, 'healthier': 1906, 'investedin': 2135, 'indiana': 2066, 'cliff': 881, 'forcedhome': 1674, 'informed': 2084, 'framework': 1699, 'counterterrorism': 1065, 'parrots': 2883, 'kathryn': 2236, 'starkey': 3732, 'aided': 299, 'abetted': 193, 'continued': 1018, 'taxation': 3865, 'properties': 3128, 'seconding': 3508, 'motions': 2630, 'millage': 2573, '194': 36, 'suppression': 3824, 'invalidates': 2129, 'marks': 2480, 'writes': 4310, 'approximately': 394, 'grades': 1808, 'equivalent': 1467, 'jeanneshaheens': 2189, 'surged': 3829, 'delta': 1199, 'violates': 4159, 'puts': 3175, 'critical': 1108, 'aviation': 466, 'mayoral': 2507, 'adler': 253, 'injunction': 2088, 'dumping': 1356, 'petrochemicals': 2965, 'barton': 513, 'springs': 3718, 'aquifer': 396, 'malaysian': 2444, 'gambling': 1738, 'conglomerate': 984, 'genting': 1755, 'suzanne': 3839, 'bonamici': 608, 'votes': 4178, 'comparable': 947, 'chiropractor': 837, 'lobbying': 2397, '380': 111, 'cash': 765, 'embargo': 1417, 'offering': 2764, 'dogs': 1301, '1990s': 53, 'bulbs': 678, 'ridden': 3382, 'heroin': 1927, 'socially': 3653, 'prayer': 3050, 'vigil': 4155, 'scout': 3497, 'cookies': 1040, 'scouts': 3498, 'affiliated': 276, 'saunders': 3464, 'vouchers': 4181, 'restricting': 3350, 'scholarships': 3487, '450': 123, 'bracket': 635, 'owners': 2858, 'pledged': 3002, 'majorities': 2439, 'castro': 767, 'endorses': 1437, 'statistical': 3742, 'bail': 485, 'bonds': 610, 'likelihood': 2369, 'returning': 3363, 'scheduled': 3483, 'household': 1984, 'fought': 1691, '60s': 146, 'kerry': 2244, 'lieberman': 2359, 'aa': 190, 'excluded': 1510, 'policymaking': 3011, 'gallons': 1736, 'maple': 2466, 'syrup': 3848, 'flinn': 1651, 'forums': 1687, 'aug': 453, 'screeners': 3499, 'mushroomed': 2648, '590': 143, 'cadillac': 705, 'surge': 3828, 'argued': 405, 'stage': 3723, 'moon': 2614, 'landing': 2285, 'fake': 1566, 'imports': 2038, 'consumed': 1009, 'bankrupted': 500, 'letting': 2347, 'vindicating': 4158, 'conclusive': 970}\n"
          ],
          "name": "stdout"
        }
      ]
    },
    {
      "cell_type": "code",
      "metadata": {
        "id": "QeRnRuFjPIMZ",
        "colab_type": "code",
        "colab": {}
      },
      "source": [
        "# Calculate inverse document frequencies\n",
        "# create the transform\n",
        "tfidf_vec = TfidfTransformer()\n",
        "\n",
        "# tokenize, build vocab and encode training data\n",
        "traindata_tfidf_vec = tfidf_vec.fit_transform(traindata_cvec)"
      ],
      "execution_count": 0,
      "outputs": []
    },
    {
      "cell_type": "code",
      "metadata": {
        "id": "qodX3GUbPNOc",
        "colab_type": "code",
        "colab": {
          "base_uri": "https://localhost:8080/",
          "height": 52
        },
        "outputId": "5c79e1b3-b0af-428e-c807-253915873548"
      },
      "source": [
        "# tfidf score\n",
        "tfidf_vec.transform(traindata_cvec)"
      ],
      "execution_count": 68,
      "outputs": [
        {
          "output_type": "execute_result",
          "data": {
            "text/plain": [
              "<2569x4335 sparse matrix of type '<class 'numpy.float64'>'\n",
              "\twith 41473 stored elements in Compressed Sparse Row format>"
            ]
          },
          "metadata": {
            "tags": []
          },
          "execution_count": 68
        }
      ]
    },
    {
      "cell_type": "code",
      "metadata": {
        "id": "fCAtBv3NPVfK",
        "colab_type": "code",
        "colab": {}
      },
      "source": [
        "# tfidf + ngrams\n",
        "tfidf_vectorizer = TfidfVectorizer(use_idf=True)\n",
        "tfidf_vectorizer_vectors = tfidf_vectorizer.fit_transform(new_train['Statement'].values)"
      ],
      "execution_count": 0,
      "outputs": []
    },
    {
      "cell_type": "code",
      "metadata": {
        "id": "Fw5spdebPiyD",
        "colab_type": "code",
        "colab": {}
      },
      "source": [
        "# using LogisticRegression\n",
        "logReg_pipeline_cv = Pipeline([\n",
        "    ('LogRCV', cvec),\n",
        "    ('LogR_model', LogisticRegression())\n",
        "])\n",
        "\n",
        "logReg_pipeline_cv.fit(new_train['Statement'], new_train['Label'])\n",
        "predictions_logReg = logReg_pipeline_cv.predict(new_test['Statement'])\n",
        "logReg_cv = np.mean(predictions_logReg == new_test['Label'])\n",
        "\n",
        "# using SVM\n",
        "svm_pipeline_cv = Pipeline([\n",
        "    ('svmCV', cvec),\n",
        "    ('svm_model', svm.LinearSVC())\n",
        "])\n",
        "\n",
        "svm_pipeline_cv.fit(new_train['Statement'], new_train['Label'])\n",
        "predictions_svm = svm_pipeline_cv.predict(new_test['Statement'])\n",
        "svm_cv = np.mean(predictions_svm == new_test['Label'])\n",
        "\n",
        "# using naive bayes\n",
        "nb_pipeline_cv = Pipeline([\n",
        "    ('nbCV', cvec),\n",
        "    ('nb_model', MultinomialNB())\n",
        "])\n",
        "\n",
        "nb_pipeline_cv.fit(new_train['Statement'], new_train['Label'])\n",
        "predictions_nb = nb_pipeline_cv.predict(new_test['Statement'])\n",
        "nb_cv = np.mean(predictions_nb == new_test['Label'])\n",
        "\n",
        "# using random forest\n",
        "rf_pipeline_cv = Pipeline([\n",
        "    ('rfCV', cvec),\n",
        "    ('rf_model', RandomForestClassifier(n_estimators=400, n_jobs=4))\n",
        "])\n",
        "\n",
        "rf_pipeline_cv.fit(new_train['Statement'], new_train['Label'])\n",
        "predictions_rf = rf_pipeline_cv.predict(new_test['Statement'])\n",
        "rf_cv = np.mean(predictions_rf == new_test['Label'])"
      ],
      "execution_count": 0,
      "outputs": []
    },
    {
      "cell_type": "code",
      "metadata": {
        "id": "2l7wKuA8PknZ",
        "colab_type": "code",
        "colab": {
          "base_uri": "https://localhost:8080/",
          "height": 86
        },
        "outputId": "f72c78f8-9ef7-46cc-f91b-8e238e779493"
      },
      "source": [
        "print(logReg_cv)\n",
        "print(svm_cv)\n",
        "print(nb_cv)\n",
        "print(rf_cv)\n",
        "# new_predictions_logReg"
      ],
      "execution_count": 72,
      "outputs": [
        {
          "output_type": "stream",
          "text": [
            "0.0\n",
            "0.0\n",
            "0.0\n",
            "0.0\n"
          ],
          "name": "stdout"
        }
      ]
    },
    {
      "cell_type": "code",
      "metadata": {
        "id": "2uID95CMP5xg",
        "colab_type": "code",
        "colab": {}
      },
      "source": [
        "# using LogisticRegression\n",
        "logReg_pipeline_cv = Pipeline([\n",
        "    ('LogRCV', tfidf_vectorizer),\n",
        "    ('LogR_model', LogisticRegression())\n",
        "])\n",
        "\n",
        "logReg_pipeline_cv.fit(new_train['Statement'], new_train['Label'])\n",
        "predictions_logReg = logReg_pipeline_cv.predict(new_test['Statement'])\n",
        "logReg_ngram = np.mean(predictions_logReg == new_test['Label'])\n",
        "\n",
        "# using SVM\n",
        "svm_pipeline_cv = Pipeline([\n",
        "    ('svmCV', tfidf_vectorizer),\n",
        "    ('svm_model', svm.LinearSVC())\n",
        "])\n",
        "\n",
        "svm_pipeline_cv.fit(new_train['Statement'], new_train['Label'])\n",
        "predictions_svm = svm_pipeline_cv.predict(new_test['Statement'])\n",
        "svm_ngram = np.mean(predictions_svm == new_test['Label'])\n",
        "\n",
        "# using naive bayes\n",
        "nb_pipeline_cv = Pipeline([\n",
        "    ('nbCV', tfidf_vectorizer),\n",
        "    ('nb_model', MultinomialNB())\n",
        "])\n",
        "\n",
        "nb_pipeline_cv.fit(new_train['Statement'], new_train['Label'])\n",
        "predictions_nb = nb_pipeline_cv.predict(new_test['Statement'])\n",
        "nb_ngram = np.mean(predictions_nb == new_test['Label'])\n",
        "\n",
        "# using random forest\n",
        "rf_pipeline_cv = Pipeline([\n",
        "    ('rfCV', tfidf_vectorizer),\n",
        "    ('rf_model', RandomForestClassifier(n_estimators=400, n_jobs=4))\n",
        "])\n",
        "\n",
        "rf_pipeline_cv.fit(new_train['Statement'], new_train['Label'])\n",
        "predictions_rf = rf_pipeline_cv.predict(new_test['Statement'])\n",
        "rf_ngram = np.mean(predictions_rf == new_test['Label'])"
      ],
      "execution_count": 0,
      "outputs": []
    },
    {
      "cell_type": "code",
      "metadata": {
        "id": "SkO0ouHZP-iT",
        "colab_type": "code",
        "colab": {
          "base_uri": "https://localhost:8080/",
          "height": 86
        },
        "outputId": "7eb2c5bc-9b91-4a7b-d0d3-b9656469963e"
      },
      "source": [
        "print(logReg_ngram)\n",
        "print(svm_ngram)\n",
        "print(nb_ngram)\n",
        "print(rf_ngram)"
      ],
      "execution_count": 74,
      "outputs": [
        {
          "output_type": "stream",
          "text": [
            "0.0\n",
            "0.0\n",
            "0.0\n",
            "0.0\n"
          ],
          "name": "stdout"
        }
      ]
    },
    {
      "cell_type": "code",
      "metadata": {
        "id": "9o--uPFWVpS4",
        "colab_type": "code",
        "colab": {}
      },
      "source": [
        ""
      ],
      "execution_count": 0,
      "outputs": []
    }
  ]
}